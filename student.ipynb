{
 "cells": [
  {
   "cell_type": "markdown",
   "metadata": {},
   "source": [
    "# Data Dreamers Semester 1 Project\n",
    "\n"
   ]
  },
  {
   "cell_type": "markdown",
   "metadata": {},
   "source": [
    "Created by: Habib Khadri, Nick Kirbabas, Seerat Mutneja, Sidhya Raman, Douglas Riggs, Andrew Yang"
   ]
  },
  {
   "cell_type": "markdown",
   "metadata": {},
   "source": [
    "# Introduction"
   ]
  },
  {
   "cell_type": "markdown",
   "metadata": {},
   "source": [
    "This is the semester 1 Capstone project for team Data Dreamers. We'll give an overview of the business problem, a walkthrough of the data, explain how we prepared the data, show our analysis of the data, and show the statistical analysis we performed."
   ]
  },
  {
   "cell_type": "markdown",
   "metadata": {},
   "source": [
    "# Business Understanding"
   ]
  },
  {
   "cell_type": "markdown",
   "metadata": {},
   "source": [
    "Our client and business stakeholder, Computing Vision, an established company making a new movie studio, is trying to find ways to gain a competitive advantage within a filmmaking industry.\n",
    "\n",
    "In order to do so, they need to understand what types of films are currently doing the best at the box office to optimize their content and successfully create a new movie studio.  "
   ]
  },
  {
   "cell_type": "markdown",
   "metadata": {},
   "source": [
    "# Data Exploration & Cleaning"
   ]
  },
  {
   "cell_type": "markdown",
   "metadata": {},
   "source": [
    "First, we'll import all packages we could potentially use, as well as creating our databse connection."
   ]
  },
  {
   "cell_type": "code",
   "execution_count": 1,
   "metadata": {
    "ExecuteTime": {
     "end_time": "2022-08-19T16:41:52.407494Z",
     "start_time": "2022-08-19T16:41:51.396427Z"
    }
   },
   "outputs": [],
   "source": [
    "import pandas as pd\n",
    "import numpy as np\n",
    "import sqlite3\n",
    "import scipy.stats as stats\n",
    "import matplotlib.pyplot as plt\n",
    "import seaborn as sns\n",
    "import math\n",
    "%matplotlib inline\n",
    "# You'll need to unzip the db locally.\n",
    "conn = sqlite3.connect('zippedData/im.db')"
   ]
  },
  {
   "cell_type": "markdown",
   "metadata": {},
   "source": [
    "Now, let's prepare the first set of data that we'll use, tn movie budgets. From this database, we'll be heavily using the production budget and worldwide gross as our metric on how successful a movie is. We'll also use the release data to see if a movies release time affects its performance."
   ]
  },
  {
   "cell_type": "code",
   "execution_count": 2,
   "metadata": {
    "ExecuteTime": {
     "end_time": "2022-08-19T16:41:52.560959Z",
     "start_time": "2022-08-19T16:41:52.409530Z"
    },
    "scrolled": true
   },
   "outputs": [
    {
     "data": {
      "text/html": [
       "<div>\n",
       "<style scoped>\n",
       "    .dataframe tbody tr th:only-of-type {\n",
       "        vertical-align: middle;\n",
       "    }\n",
       "\n",
       "    .dataframe tbody tr th {\n",
       "        vertical-align: top;\n",
       "    }\n",
       "\n",
       "    .dataframe thead th {\n",
       "        text-align: right;\n",
       "    }\n",
       "</style>\n",
       "<table border=\"1\" class=\"dataframe\">\n",
       "  <thead>\n",
       "    <tr style=\"text-align: right;\">\n",
       "      <th></th>\n",
       "      <th>release_date</th>\n",
       "      <th>movie</th>\n",
       "      <th>production_budget</th>\n",
       "      <th>domestic_gross</th>\n",
       "      <th>worldwide_gross</th>\n",
       "      <th>datetime</th>\n",
       "      <th>release_weeknum</th>\n",
       "      <th>release_weekday</th>\n",
       "      <th>release_month</th>\n",
       "      <th>release_year</th>\n",
       "      <th>weekend</th>\n",
       "    </tr>\n",
       "  </thead>\n",
       "  <tbody>\n",
       "    <tr>\n",
       "      <th>0</th>\n",
       "      <td>Dec 18, 2009</td>\n",
       "      <td>Avatar</td>\n",
       "      <td>425000000</td>\n",
       "      <td>760507625</td>\n",
       "      <td>2776345279</td>\n",
       "      <td>2009-12-18</td>\n",
       "      <td>51</td>\n",
       "      <td>4</td>\n",
       "      <td>12</td>\n",
       "      <td>2009</td>\n",
       "      <td>0</td>\n",
       "    </tr>\n",
       "    <tr>\n",
       "      <th>1</th>\n",
       "      <td>May 20, 2011</td>\n",
       "      <td>Pirates of the Caribbean: On Stranger Tides</td>\n",
       "      <td>410600000</td>\n",
       "      <td>241063875</td>\n",
       "      <td>1045663875</td>\n",
       "      <td>2011-05-20</td>\n",
       "      <td>20</td>\n",
       "      <td>4</td>\n",
       "      <td>5</td>\n",
       "      <td>2011</td>\n",
       "      <td>0</td>\n",
       "    </tr>\n",
       "    <tr>\n",
       "      <th>2</th>\n",
       "      <td>Jun 7, 2019</td>\n",
       "      <td>Dark Phoenix</td>\n",
       "      <td>350000000</td>\n",
       "      <td>42762350</td>\n",
       "      <td>149762350</td>\n",
       "      <td>2019-06-07</td>\n",
       "      <td>23</td>\n",
       "      <td>4</td>\n",
       "      <td>6</td>\n",
       "      <td>2019</td>\n",
       "      <td>0</td>\n",
       "    </tr>\n",
       "    <tr>\n",
       "      <th>3</th>\n",
       "      <td>May 1, 2015</td>\n",
       "      <td>Avengers: Age of Ultron</td>\n",
       "      <td>330600000</td>\n",
       "      <td>459005868</td>\n",
       "      <td>1403013963</td>\n",
       "      <td>2015-05-01</td>\n",
       "      <td>18</td>\n",
       "      <td>4</td>\n",
       "      <td>5</td>\n",
       "      <td>2015</td>\n",
       "      <td>0</td>\n",
       "    </tr>\n",
       "    <tr>\n",
       "      <th>4</th>\n",
       "      <td>Dec 15, 2017</td>\n",
       "      <td>Star Wars Ep. VIII: The Last Jedi</td>\n",
       "      <td>317000000</td>\n",
       "      <td>620181382</td>\n",
       "      <td>1316721747</td>\n",
       "      <td>2017-12-15</td>\n",
       "      <td>50</td>\n",
       "      <td>4</td>\n",
       "      <td>12</td>\n",
       "      <td>2017</td>\n",
       "      <td>0</td>\n",
       "    </tr>\n",
       "  </tbody>\n",
       "</table>\n",
       "</div>"
      ],
      "text/plain": [
       "   release_date                                        movie  \\\n",
       "0  Dec 18, 2009                                       Avatar   \n",
       "1  May 20, 2011  Pirates of the Caribbean: On Stranger Tides   \n",
       "2   Jun 7, 2019                                 Dark Phoenix   \n",
       "3   May 1, 2015                      Avengers: Age of Ultron   \n",
       "4  Dec 15, 2017            Star Wars Ep. VIII: The Last Jedi   \n",
       "\n",
       "   production_budget  domestic_gross  worldwide_gross   datetime  \\\n",
       "0          425000000       760507625       2776345279 2009-12-18   \n",
       "1          410600000       241063875       1045663875 2011-05-20   \n",
       "2          350000000        42762350        149762350 2019-06-07   \n",
       "3          330600000       459005868       1403013963 2015-05-01   \n",
       "4          317000000       620181382       1316721747 2017-12-15   \n",
       "\n",
       "   release_weeknum  release_weekday  release_month  release_year  weekend  \n",
       "0               51                4             12          2009        0  \n",
       "1               20                4              5          2011        0  \n",
       "2               23                4              6          2019        0  \n",
       "3               18                4              5          2015        0  \n",
       "4               50                4             12          2017        0  "
      ]
     },
     "execution_count": 2,
     "metadata": {},
     "output_type": "execute_result"
    }
   ],
   "source": [
    "# load tn dataset and clean up columns regarding budget and gross profit\n",
    "from datetime import datetime\n",
    "tn_df = pd.read_csv(\"zippedData/tn.movie_budgets.csv.gz\").drop(\"id\", axis = 1)\n",
    "tn_df[\"production_budget\"].replace([\"\\$\",\",\"], \"\", regex = True, inplace = True)\n",
    "tn_df[\"domestic_gross\"].replace([\"\\$\",\",\"], \"\", regex = True, inplace = True)\n",
    "tn_df[\"worldwide_gross\"].replace([\"\\$\",\",\"], \"\", regex = True, inplace = True)\n",
    "\n",
    "# convert budget and profit columns to numeric\n",
    "cols = [\"production_budget\",\"domestic_gross\",\"worldwide_gross\"]\n",
    "tn_df[cols] = tn_df[cols].apply(pd.to_numeric)\n",
    "\n",
    "# created new columns to grab date information (day, week of year, month, etc.)\n",
    "tn_df[\"datetime\"] = [datetime.strptime(d, \"%b %d, %Y\") for d in tn_df[\"release_date\"]]\n",
    "tn_df[\"release_weeknum\"] = [d.isocalendar()[1] for d in tn_df[\"datetime\"]]\n",
    "tn_df[\"release_weekday\"] = [d.weekday() for d in tn_df[\"datetime\"]]\n",
    "tn_df[\"release_month\"] = [d.month for d in tn_df[\"datetime\"]]\n",
    "tn_df[\"release_year\"] = [d.year for d in tn_df[\"datetime\"]]\n",
    "\n",
    "# calc movie seasonal info (came out on a weekend, calander season)\n",
    "tn_df[\"weekend\"]  = np.where((tn_df[\"release_weekday\"]== 5) |\n",
    "                                  (tn_df[\"release_weekday\"]== 6),\n",
    "                                    1, 0)   \n",
    "\n",
    "tn_df.head(5)"
   ]
  },
  {
   "cell_type": "markdown",
   "metadata": {},
   "source": [
    "Next, we'll read in bom movie gross. From this dataset, we'll only be using the studio, since we already have budgets from the tn dataset."
   ]
  },
  {
   "cell_type": "code",
   "execution_count": 3,
   "metadata": {
    "ExecuteTime": {
     "end_time": "2022-08-19T16:41:52.592445Z",
     "start_time": "2022-08-19T16:41:52.565013Z"
    }
   },
   "outputs": [
    {
     "data": {
      "text/html": [
       "<div>\n",
       "<style scoped>\n",
       "    .dataframe tbody tr th:only-of-type {\n",
       "        vertical-align: middle;\n",
       "    }\n",
       "\n",
       "    .dataframe tbody tr th {\n",
       "        vertical-align: top;\n",
       "    }\n",
       "\n",
       "    .dataframe thead th {\n",
       "        text-align: right;\n",
       "    }\n",
       "</style>\n",
       "<table border=\"1\" class=\"dataframe\">\n",
       "  <thead>\n",
       "    <tr style=\"text-align: right;\">\n",
       "      <th></th>\n",
       "      <th>title</th>\n",
       "      <th>studio</th>\n",
       "      <th>domestic_gross</th>\n",
       "      <th>foreign_gross</th>\n",
       "      <th>year</th>\n",
       "    </tr>\n",
       "  </thead>\n",
       "  <tbody>\n",
       "    <tr>\n",
       "      <th>0</th>\n",
       "      <td>Toy Story 3</td>\n",
       "      <td>BV</td>\n",
       "      <td>415000000.0</td>\n",
       "      <td>652000000.0</td>\n",
       "      <td>2010</td>\n",
       "    </tr>\n",
       "    <tr>\n",
       "      <th>1</th>\n",
       "      <td>Alice in Wonderland (2010)</td>\n",
       "      <td>BV</td>\n",
       "      <td>334200000.0</td>\n",
       "      <td>691300000.0</td>\n",
       "      <td>2010</td>\n",
       "    </tr>\n",
       "    <tr>\n",
       "      <th>2</th>\n",
       "      <td>Harry Potter and the Deathly Hallows Part 1</td>\n",
       "      <td>WB</td>\n",
       "      <td>296000000.0</td>\n",
       "      <td>664300000.0</td>\n",
       "      <td>2010</td>\n",
       "    </tr>\n",
       "    <tr>\n",
       "      <th>3</th>\n",
       "      <td>Inception</td>\n",
       "      <td>WB</td>\n",
       "      <td>292600000.0</td>\n",
       "      <td>535700000.0</td>\n",
       "      <td>2010</td>\n",
       "    </tr>\n",
       "    <tr>\n",
       "      <th>4</th>\n",
       "      <td>Shrek Forever After</td>\n",
       "      <td>P/DW</td>\n",
       "      <td>238700000.0</td>\n",
       "      <td>513900000.0</td>\n",
       "      <td>2010</td>\n",
       "    </tr>\n",
       "  </tbody>\n",
       "</table>\n",
       "</div>"
      ],
      "text/plain": [
       "                                         title studio  domestic_gross  \\\n",
       "0                                  Toy Story 3     BV     415000000.0   \n",
       "1                   Alice in Wonderland (2010)     BV     334200000.0   \n",
       "2  Harry Potter and the Deathly Hallows Part 1     WB     296000000.0   \n",
       "3                                    Inception     WB     292600000.0   \n",
       "4                          Shrek Forever After   P/DW     238700000.0   \n",
       "\n",
       "   foreign_gross  year  \n",
       "0    652000000.0  2010  \n",
       "1    691300000.0  2010  \n",
       "2    664300000.0  2010  \n",
       "3    535700000.0  2010  \n",
       "4    513900000.0  2010  "
      ]
     },
     "execution_count": 3,
     "metadata": {},
     "output_type": "execute_result"
    }
   ],
   "source": [
    "# cleaned up dataset by gathering gross profit values\n",
    "bom_df = pd.read_csv(\"zippedData/bom.movie_gross.csv.gz\")\n",
    "bom_df[\"foreign_gross\"].replace(\",\",\"\", regex = True, inplace = True)\n",
    "bom_df[\"foreign_gross\"] = pd.to_numeric(bom_df[\"foreign_gross\"])\n",
    "bom_df[\"foreign_gross\"].fillna(bom_df[\"foreign_gross\"].median(), inplace = True)\n",
    "bom_df[\"domestic_gross\"].fillna(bom_df[\"domestic_gross\"].median(), inplace = True)\n",
    "# bom_df.dropna(subset = [\"studio\"], inplace = True)\n",
    "bom_df.head(5)"
   ]
  },
  {
   "cell_type": "markdown",
   "metadata": {},
   "source": [
    "Finally, we'll be grabbing data from 2 tables in the IMDB dataset, movie_basics and movie_ratings. This gives us the genres and runtime data that we'll be using later. We also grab information on ratings and the number of votes for each rating - while they're not used in our final notebook, they were thing we looked into when trying to find valuable characteristics."
   ]
  },
  {
   "cell_type": "code",
   "execution_count": 4,
   "metadata": {
    "ExecuteTime": {
     "end_time": "2022-08-19T16:41:53.320499Z",
     "start_time": "2022-08-19T16:41:52.594476Z"
    }
   },
   "outputs": [],
   "source": [
    "# Grab movie basics info along with average ratings for each from imdb dataset\n",
    "imdb_df = pd.read_sql('''\n",
    "SELECT *\n",
    "FROM movie_basics\n",
    "    LEFT JOIN movie_ratings USING(\"movie_id\")\n",
    "''',conn)"
   ]
  },
  {
   "cell_type": "code",
   "execution_count": 5,
   "metadata": {
    "ExecuteTime": {
     "end_time": "2022-08-19T16:41:53.663601Z",
     "start_time": "2022-08-19T16:41:53.321985Z"
    },
    "scrolled": true
   },
   "outputs": [
    {
     "data": {
      "text/html": [
       "<div>\n",
       "<style scoped>\n",
       "    .dataframe tbody tr th:only-of-type {\n",
       "        vertical-align: middle;\n",
       "    }\n",
       "\n",
       "    .dataframe tbody tr th {\n",
       "        vertical-align: top;\n",
       "    }\n",
       "\n",
       "    .dataframe thead th {\n",
       "        text-align: right;\n",
       "    }\n",
       "</style>\n",
       "<table border=\"1\" class=\"dataframe\">\n",
       "  <thead>\n",
       "    <tr style=\"text-align: right;\">\n",
       "      <th></th>\n",
       "      <th>movie_id</th>\n",
       "      <th>primary_title</th>\n",
       "      <th>original_title</th>\n",
       "      <th>start_year</th>\n",
       "      <th>runtime_minutes</th>\n",
       "      <th>genres</th>\n",
       "      <th>averagerating</th>\n",
       "      <th>numvotes</th>\n",
       "      <th>genres_list</th>\n",
       "      <th>genres_count</th>\n",
       "    </tr>\n",
       "  </thead>\n",
       "  <tbody>\n",
       "    <tr>\n",
       "      <th>0</th>\n",
       "      <td>tt0063540</td>\n",
       "      <td>Sunghursh</td>\n",
       "      <td>Sunghursh</td>\n",
       "      <td>2013</td>\n",
       "      <td>175.000000</td>\n",
       "      <td>Action,Crime,Drama</td>\n",
       "      <td>7.0</td>\n",
       "      <td>77.0</td>\n",
       "      <td>[Action, Crime, Drama]</td>\n",
       "      <td>3</td>\n",
       "    </tr>\n",
       "    <tr>\n",
       "      <th>1</th>\n",
       "      <td>tt0066787</td>\n",
       "      <td>One Day Before the Rainy Season</td>\n",
       "      <td>Ashad Ka Ek Din</td>\n",
       "      <td>2019</td>\n",
       "      <td>114.000000</td>\n",
       "      <td>Biography,Drama</td>\n",
       "      <td>7.2</td>\n",
       "      <td>43.0</td>\n",
       "      <td>[Biography, Drama]</td>\n",
       "      <td>2</td>\n",
       "    </tr>\n",
       "    <tr>\n",
       "      <th>2</th>\n",
       "      <td>tt0069049</td>\n",
       "      <td>The Other Side of the Wind</td>\n",
       "      <td>The Other Side of the Wind</td>\n",
       "      <td>2018</td>\n",
       "      <td>122.000000</td>\n",
       "      <td>Drama</td>\n",
       "      <td>6.9</td>\n",
       "      <td>4517.0</td>\n",
       "      <td>[Drama]</td>\n",
       "      <td>1</td>\n",
       "    </tr>\n",
       "    <tr>\n",
       "      <th>3</th>\n",
       "      <td>tt0069204</td>\n",
       "      <td>Sabse Bada Sukh</td>\n",
       "      <td>Sabse Bada Sukh</td>\n",
       "      <td>2018</td>\n",
       "      <td>86.261902</td>\n",
       "      <td>Comedy,Drama</td>\n",
       "      <td>6.1</td>\n",
       "      <td>13.0</td>\n",
       "      <td>[Comedy, Drama]</td>\n",
       "      <td>2</td>\n",
       "    </tr>\n",
       "    <tr>\n",
       "      <th>4</th>\n",
       "      <td>tt0100275</td>\n",
       "      <td>The Wandering Soap Opera</td>\n",
       "      <td>La Telenovela Errante</td>\n",
       "      <td>2017</td>\n",
       "      <td>80.000000</td>\n",
       "      <td>Comedy,Drama,Fantasy</td>\n",
       "      <td>6.5</td>\n",
       "      <td>119.0</td>\n",
       "      <td>[Comedy, Drama, Fantasy]</td>\n",
       "      <td>3</td>\n",
       "    </tr>\n",
       "  </tbody>\n",
       "</table>\n",
       "</div>"
      ],
      "text/plain": [
       "    movie_id                    primary_title              original_title  \\\n",
       "0  tt0063540                        Sunghursh                   Sunghursh   \n",
       "1  tt0066787  One Day Before the Rainy Season             Ashad Ka Ek Din   \n",
       "2  tt0069049       The Other Side of the Wind  The Other Side of the Wind   \n",
       "3  tt0069204                  Sabse Bada Sukh             Sabse Bada Sukh   \n",
       "4  tt0100275         The Wandering Soap Opera       La Telenovela Errante   \n",
       "\n",
       "   start_year  runtime_minutes                genres  averagerating  numvotes  \\\n",
       "0        2013       175.000000    Action,Crime,Drama            7.0      77.0   \n",
       "1        2019       114.000000       Biography,Drama            7.2      43.0   \n",
       "2        2018       122.000000                 Drama            6.9    4517.0   \n",
       "3        2018        86.261902          Comedy,Drama            6.1      13.0   \n",
       "4        2017        80.000000  Comedy,Drama,Fantasy            6.5     119.0   \n",
       "\n",
       "                genres_list  genres_count  \n",
       "0    [Action, Crime, Drama]             3  \n",
       "1        [Biography, Drama]             2  \n",
       "2                   [Drama]             1  \n",
       "3           [Comedy, Drama]             2  \n",
       "4  [Comedy, Drama, Fantasy]             3  "
      ]
     },
     "execution_count": 5,
     "metadata": {},
     "output_type": "execute_result"
    }
   ],
   "source": [
    "# Data cleaning to get genre count and runtime minutes\n",
    "imdb_df.dropna(subset = [\"genres\"], inplace = True)\n",
    "imdb_df[\"runtime_minutes\"] = imdb_df[\"runtime_minutes\"].fillna(imdb_df[\"runtime_minutes\"].mean())\n",
    "imdb_df[\"averagerating\"] = imdb_df[\"averagerating\"].fillna(imdb_df[\"averagerating\"].mean())\n",
    "imdb_df[\"numvotes\"] = imdb_df[\"numvotes\"].fillna(imdb_df[\"numvotes\"].median())\n",
    "imdb_df[\"genres_list\"] = [gs.split(\",\") for gs in imdb_df[\"genres\"]]\n",
    "imdb_df[\"genres_count\"] = [len(gs) for gs in imdb_df[\"genres_list\"]]\n",
    "imdb_df = imdb_df[imdb_df[\"runtime_minutes\"] <= 300]\n",
    "imdb_df.head()"
   ]
  },
  {
   "cell_type": "markdown",
   "metadata": {},
   "source": [
    "## Join IMDB, BOM and TN Movie Budgets"
   ]
  },
  {
   "cell_type": "markdown",
   "metadata": {},
   "source": [
    "Now, we'll join the 3 datasets that we loaded. We'll use both movie title and release year to make sure that our resulting data is correct. We'll use inner joins, since we've already dealt with null values that we are able to handle."
   ]
  },
  {
   "cell_type": "code",
   "execution_count": 6,
   "metadata": {
    "ExecuteTime": {
     "end_time": "2022-08-19T16:41:53.757158Z",
     "start_time": "2022-08-19T16:41:53.665013Z"
    }
   },
   "outputs": [
    {
     "data": {
      "text/html": [
       "<div>\n",
       "<style scoped>\n",
       "    .dataframe tbody tr th:only-of-type {\n",
       "        vertical-align: middle;\n",
       "    }\n",
       "\n",
       "    .dataframe tbody tr th {\n",
       "        vertical-align: top;\n",
       "    }\n",
       "\n",
       "    .dataframe thead th {\n",
       "        text-align: right;\n",
       "    }\n",
       "</style>\n",
       "<table border=\"1\" class=\"dataframe\">\n",
       "  <thead>\n",
       "    <tr style=\"text-align: right;\">\n",
       "      <th></th>\n",
       "      <th>movie_id</th>\n",
       "      <th>primary_title</th>\n",
       "      <th>original_title</th>\n",
       "      <th>start_year</th>\n",
       "      <th>runtime_minutes</th>\n",
       "      <th>genres</th>\n",
       "      <th>averagerating</th>\n",
       "      <th>numvotes</th>\n",
       "      <th>genres_list</th>\n",
       "      <th>genres_count</th>\n",
       "      <th>title</th>\n",
       "      <th>studio</th>\n",
       "      <th>domestic_gross</th>\n",
       "      <th>foreign_gross</th>\n",
       "      <th>year</th>\n",
       "    </tr>\n",
       "  </thead>\n",
       "  <tbody>\n",
       "    <tr>\n",
       "      <th>0</th>\n",
       "      <td>tt0315642</td>\n",
       "      <td>Wazir</td>\n",
       "      <td>Wazir</td>\n",
       "      <td>2016</td>\n",
       "      <td>103.0</td>\n",
       "      <td>Action,Crime,Drama</td>\n",
       "      <td>7.1</td>\n",
       "      <td>15378.0</td>\n",
       "      <td>[Action, Crime, Drama]</td>\n",
       "      <td>3</td>\n",
       "      <td>Wazir</td>\n",
       "      <td>Relbig.</td>\n",
       "      <td>1100000.0</td>\n",
       "      <td>18700000.0</td>\n",
       "      <td>2016</td>\n",
       "    </tr>\n",
       "    <tr>\n",
       "      <th>1</th>\n",
       "      <td>tt0337692</td>\n",
       "      <td>On the Road</td>\n",
       "      <td>On the Road</td>\n",
       "      <td>2012</td>\n",
       "      <td>124.0</td>\n",
       "      <td>Adventure,Drama,Romance</td>\n",
       "      <td>6.1</td>\n",
       "      <td>37886.0</td>\n",
       "      <td>[Adventure, Drama, Romance]</td>\n",
       "      <td>3</td>\n",
       "      <td>On the Road</td>\n",
       "      <td>IFC</td>\n",
       "      <td>744000.0</td>\n",
       "      <td>8000000.0</td>\n",
       "      <td>2012</td>\n",
       "    </tr>\n",
       "  </tbody>\n",
       "</table>\n",
       "</div>"
      ],
      "text/plain": [
       "    movie_id primary_title original_title  start_year  runtime_minutes  \\\n",
       "0  tt0315642         Wazir          Wazir        2016            103.0   \n",
       "1  tt0337692   On the Road    On the Road        2012            124.0   \n",
       "\n",
       "                    genres  averagerating  numvotes  \\\n",
       "0       Action,Crime,Drama            7.1   15378.0   \n",
       "1  Adventure,Drama,Romance            6.1   37886.0   \n",
       "\n",
       "                   genres_list  genres_count        title   studio  \\\n",
       "0       [Action, Crime, Drama]             3        Wazir  Relbig.   \n",
       "1  [Adventure, Drama, Romance]             3  On the Road      IFC   \n",
       "\n",
       "   domestic_gross  foreign_gross  year  \n",
       "0       1100000.0     18700000.0  2016  \n",
       "1        744000.0      8000000.0  2012  "
      ]
     },
     "execution_count": 6,
     "metadata": {},
     "output_type": "execute_result"
    }
   ],
   "source": [
    "# merging datasets imdb (cleaned) and bom (cleaned) with inner join\n",
    "# on movie titles and year of movie release\n",
    "imdb_df_c = imdb_df.merge(bom_df, how = \"inner\", \n",
    "                          left_on = [\"primary_title\", \"start_year\"], \n",
    "                          right_on = [\"title\",\"year\"])\n",
    "imdb_df_c.head(2)"
   ]
  },
  {
   "cell_type": "code",
   "execution_count": 7,
   "metadata": {
    "ExecuteTime": {
     "end_time": "2022-08-19T16:41:53.804743Z",
     "start_time": "2022-08-19T16:41:53.759329Z"
    },
    "scrolled": true
   },
   "outputs": [
    {
     "data": {
      "text/html": [
       "<div>\n",
       "<style scoped>\n",
       "    .dataframe tbody tr th:only-of-type {\n",
       "        vertical-align: middle;\n",
       "    }\n",
       "\n",
       "    .dataframe tbody tr th {\n",
       "        vertical-align: top;\n",
       "    }\n",
       "\n",
       "    .dataframe thead th {\n",
       "        text-align: right;\n",
       "    }\n",
       "</style>\n",
       "<table border=\"1\" class=\"dataframe\">\n",
       "  <thead>\n",
       "    <tr style=\"text-align: right;\">\n",
       "      <th></th>\n",
       "      <th>movie_id</th>\n",
       "      <th>primary_title</th>\n",
       "      <th>original_title</th>\n",
       "      <th>start_year</th>\n",
       "      <th>runtime_minutes</th>\n",
       "      <th>genres</th>\n",
       "      <th>averagerating</th>\n",
       "      <th>numvotes</th>\n",
       "      <th>genres_list</th>\n",
       "      <th>genres_count</th>\n",
       "      <th>...</th>\n",
       "      <th>domestic_gross_y</th>\n",
       "      <th>worldwide_gross</th>\n",
       "      <th>datetime</th>\n",
       "      <th>release_weeknum</th>\n",
       "      <th>release_weekday</th>\n",
       "      <th>release_month</th>\n",
       "      <th>release_year</th>\n",
       "      <th>weekend</th>\n",
       "      <th>release_season</th>\n",
       "      <th>adjusted_worldwide</th>\n",
       "    </tr>\n",
       "  </thead>\n",
       "  <tbody>\n",
       "    <tr>\n",
       "      <th>0</th>\n",
       "      <td>tt0359950</td>\n",
       "      <td>The Secret Life of Walter Mitty</td>\n",
       "      <td>The Secret Life of Walter Mitty</td>\n",
       "      <td>2013</td>\n",
       "      <td>114.0</td>\n",
       "      <td>Adventure,Comedy,Drama</td>\n",
       "      <td>7.3</td>\n",
       "      <td>275300.0</td>\n",
       "      <td>[Adventure, Comedy, Drama]</td>\n",
       "      <td>3</td>\n",
       "      <td>...</td>\n",
       "      <td>58236838</td>\n",
       "      <td>187861183</td>\n",
       "      <td>2013-12-25</td>\n",
       "      <td>52</td>\n",
       "      <td>2</td>\n",
       "      <td>12</td>\n",
       "      <td>2013</td>\n",
       "      <td>0</td>\n",
       "      <td>Winter</td>\n",
       "      <td>96861183</td>\n",
       "    </tr>\n",
       "    <tr>\n",
       "      <th>1</th>\n",
       "      <td>tt0365907</td>\n",
       "      <td>A Walk Among the Tombstones</td>\n",
       "      <td>A Walk Among the Tombstones</td>\n",
       "      <td>2014</td>\n",
       "      <td>114.0</td>\n",
       "      <td>Action,Crime,Drama</td>\n",
       "      <td>6.5</td>\n",
       "      <td>105116.0</td>\n",
       "      <td>[Action, Crime, Drama]</td>\n",
       "      <td>3</td>\n",
       "      <td>...</td>\n",
       "      <td>26017685</td>\n",
       "      <td>62108587</td>\n",
       "      <td>2014-09-19</td>\n",
       "      <td>38</td>\n",
       "      <td>4</td>\n",
       "      <td>9</td>\n",
       "      <td>2014</td>\n",
       "      <td>0</td>\n",
       "      <td>Fall</td>\n",
       "      <td>34108587</td>\n",
       "    </tr>\n",
       "  </tbody>\n",
       "</table>\n",
       "<p>2 rows × 28 columns</p>\n",
       "</div>"
      ],
      "text/plain": [
       "    movie_id                    primary_title  \\\n",
       "0  tt0359950  The Secret Life of Walter Mitty   \n",
       "1  tt0365907      A Walk Among the Tombstones   \n",
       "\n",
       "                    original_title  start_year  runtime_minutes  \\\n",
       "0  The Secret Life of Walter Mitty        2013            114.0   \n",
       "1      A Walk Among the Tombstones        2014            114.0   \n",
       "\n",
       "                   genres  averagerating  numvotes  \\\n",
       "0  Adventure,Comedy,Drama            7.3  275300.0   \n",
       "1      Action,Crime,Drama            6.5  105116.0   \n",
       "\n",
       "                  genres_list  genres_count  ... domestic_gross_y  \\\n",
       "0  [Adventure, Comedy, Drama]             3  ...         58236838   \n",
       "1      [Action, Crime, Drama]             3  ...         26017685   \n",
       "\n",
       "  worldwide_gross   datetime  release_weeknum  release_weekday release_month  \\\n",
       "0       187861183 2013-12-25               52                2            12   \n",
       "1        62108587 2014-09-19               38                4             9   \n",
       "\n",
       "  release_year  weekend  release_season  adjusted_worldwide  \n",
       "0         2013        0          Winter            96861183  \n",
       "1         2014        0            Fall            34108587  \n",
       "\n",
       "[2 rows x 28 columns]"
      ]
     },
     "execution_count": 7,
     "metadata": {},
     "output_type": "execute_result"
    }
   ],
   "source": [
    "# merging datasets imdb_c (cleaned) and tn (cleaned) with inner join\n",
    "# on movie titles and year of movie release\n",
    "imdb_df_c2 = imdb_df_c.merge(tn_df, how = \"inner\", \n",
    "                             left_on = [\"primary_title\", \"start_year\"], \n",
    "                             right_on = [\"movie\",\"release_year\"])\n",
    "\n",
    "# create release season of movies\n",
    "seasons = []\n",
    "for m in imdb_df_c2[\"release_month\"]:\n",
    "    if(m in [12,1,2]): \n",
    "        seasons.append(\"Winter\")\n",
    "    elif(m in [3,4,5]): \n",
    "        seasons.append(\"Spring\")\n",
    "    elif(m in [6,7,8]): \n",
    "        seasons.append(\"Summer\")\n",
    "    else: \n",
    "        seasons.append(\"Fall\")\n",
    "\n",
    "imdb_df_c2[\"release_season\"] = seasons \n",
    "\n",
    "# create worldwide profit, adjusted for production budge\n",
    "imdb_df_c2[\"adjusted_worldwide\"] = imdb_df_c2[\"worldwide_gross\"] - imdb_df_c2[\"production_budget\"]\n",
    "\n",
    "# it's beautiful\n",
    "imdb_df_c2.head(2)"
   ]
  },
  {
   "cell_type": "markdown",
   "metadata": {},
   "source": [
    "## EDA"
   ]
  },
  {
   "cell_type": "markdown",
   "metadata": {},
   "source": [
    "These are a few old graphs which we created when testing things that affected movie performance - this section is not important, and can be skipped"
   ]
  },
  {
   "cell_type": "code",
   "execution_count": 8,
   "metadata": {
    "ExecuteTime": {
     "end_time": "2022-08-19T16:41:53.976473Z",
     "start_time": "2022-08-19T16:41:53.807821Z"
    },
    "scrolled": true
   },
   "outputs": [
    {
     "data": {
      "image/png": "[encoded data removed]",
      "text/plain": [
       "<Figure size 432x288 with 1 Axes>"
      ]
     },
     "metadata": {
      "needs_background": "light"
     },
     "output_type": "display_data"
    }
   ],
   "source": [
    "fig, ax = plt.subplots()\n",
    "ax.scatter(imdb_df_c[\"runtime_minutes\"], imdb_df_c[\"averagerating\"])\n",
    "ax.set_title(\"Movie Runtime vs. Average Rating\")\n",
    "ax.set_xlabel(\"Movie Runtime (mins)\")\n",
    "ax.set_ylabel(\"Averate Rating\");"
   ]
  },
  {
   "cell_type": "code",
   "execution_count": 9,
   "metadata": {
    "ExecuteTime": {
     "end_time": "2022-08-19T16:41:54.117122Z",
     "start_time": "2022-08-19T16:41:53.977670Z"
    }
   },
   "outputs": [
    {
     "data": {
      "image/png": "[encoded data removed]",
      "text/plain": [
       "<Figure size 432x288 with 1 Axes>"
      ]
     },
     "metadata": {
      "needs_background": "light"
     },
     "output_type": "display_data"
    }
   ],
   "source": [
    "# examine the distribution of movie runtime\n",
    "fig, ax = plt.subplots()\n",
    "ax.hist(imdb_df_c2[\"runtime_minutes\"])\n",
    "ax.set_title(\"Movie Runtime Distribution\")\n",
    "ax.set_xlabel(\"Movie Runtime (mins)\")\n",
    "ax.set_ylabel(\"Frequency\");"
   ]
  },
  {
   "cell_type": "code",
   "execution_count": 10,
   "metadata": {
    "ExecuteTime": {
     "end_time": "2022-08-19T16:41:54.242192Z",
     "start_time": "2022-08-19T16:41:54.118817Z"
    }
   },
   "outputs": [
    {
     "data": {
      "image/png": "[encoded data removed]",
      "text/plain": [
       "<Figure size 432x288 with 1 Axes>"
      ]
     },
     "metadata": {
      "needs_background": "light"
     },
     "output_type": "display_data"
    }
   ],
   "source": [
    "# look at the distribution of worldwide profit\n",
    "fig, ax = plt.subplots()\n",
    "ax.hist(imdb_df_c2[\"adjusted_worldwide\"])\n",
    "ax.set_title(\"Distribution of Worldwide Profit\")\n",
    "ax.set_xlabel(\"Worldwide Profit ($)\")\n",
    "ax.set_ylabel(\"Frequency\");"
   ]
  },
  {
   "cell_type": "code",
   "execution_count": 11,
   "metadata": {
    "ExecuteTime": {
     "end_time": "2022-08-19T16:41:54.348522Z",
     "start_time": "2022-08-19T16:41:54.245553Z"
    },
    "scrolled": true
   },
   "outputs": [
    {
     "data": {
      "image/png": "[encoded data removed]",
      "text/plain": [
       "<Figure size 432x288 with 1 Axes>"
      ]
     },
     "metadata": {
      "needs_background": "light"
     },
     "output_type": "display_data"
    }
   ],
   "source": [
    "# curious about the number of genres in movies\n",
    "g_count = imdb_df_c2[\"genres_count\"].value_counts(normalize  = True)\n",
    "labs = [str(x) for x in g_count.index]\n",
    "fig, ax = plt.subplots()\n",
    "ax.bar(labs, g_count)\n",
    "ax.set_title(\"Distribution of Genre Counts\")\n",
    "ax.set_xlabel(\"Number of Genres\")\n",
    "ax.set_ylabel(\"Relative Frequency\");"
   ]
  },
  {
   "cell_type": "markdown",
   "metadata": {},
   "source": [
    "# Metric 1: Genre"
   ]
  },
  {
   "cell_type": "markdown",
   "metadata": {},
   "source": [
    "The first thing we want to check is which genre is the most profitable. To do this, we'll have to group the movies by genre to see how the average movie in each genre performs. First, let's take a look at our table:"
   ]
  },
  {
   "cell_type": "code",
   "execution_count": 12,
   "metadata": {
    "ExecuteTime": {
     "end_time": "2022-08-19T16:41:54.395017Z",
     "start_time": "2022-08-19T16:41:54.349788Z"
    }
   },
   "outputs": [
    {
     "data": {
      "text/html": [
       "<div>\n",
       "<style scoped>\n",
       "    .dataframe tbody tr th:only-of-type {\n",
       "        vertical-align: middle;\n",
       "    }\n",
       "\n",
       "    .dataframe tbody tr th {\n",
       "        vertical-align: top;\n",
       "    }\n",
       "\n",
       "    .dataframe thead th {\n",
       "        text-align: right;\n",
       "    }\n",
       "</style>\n",
       "<table border=\"1\" class=\"dataframe\">\n",
       "  <thead>\n",
       "    <tr style=\"text-align: right;\">\n",
       "      <th></th>\n",
       "      <th>movie_id</th>\n",
       "      <th>primary_title</th>\n",
       "      <th>original_title</th>\n",
       "      <th>start_year</th>\n",
       "      <th>runtime_minutes</th>\n",
       "      <th>genres</th>\n",
       "      <th>averagerating</th>\n",
       "      <th>numvotes</th>\n",
       "      <th>genres_list</th>\n",
       "      <th>genres_count</th>\n",
       "      <th>...</th>\n",
       "      <th>domestic_gross_y</th>\n",
       "      <th>worldwide_gross</th>\n",
       "      <th>datetime</th>\n",
       "      <th>release_weeknum</th>\n",
       "      <th>release_weekday</th>\n",
       "      <th>release_month</th>\n",
       "      <th>release_year</th>\n",
       "      <th>weekend</th>\n",
       "      <th>release_season</th>\n",
       "      <th>adjusted_worldwide</th>\n",
       "    </tr>\n",
       "  </thead>\n",
       "  <tbody>\n",
       "    <tr>\n",
       "      <th>0</th>\n",
       "      <td>tt0359950</td>\n",
       "      <td>The Secret Life of Walter Mitty</td>\n",
       "      <td>The Secret Life of Walter Mitty</td>\n",
       "      <td>2013</td>\n",
       "      <td>114.0</td>\n",
       "      <td>Adventure,Comedy,Drama</td>\n",
       "      <td>7.3</td>\n",
       "      <td>275300.0</td>\n",
       "      <td>[Adventure, Comedy, Drama]</td>\n",
       "      <td>3</td>\n",
       "      <td>...</td>\n",
       "      <td>58236838</td>\n",
       "      <td>187861183</td>\n",
       "      <td>2013-12-25</td>\n",
       "      <td>52</td>\n",
       "      <td>2</td>\n",
       "      <td>12</td>\n",
       "      <td>2013</td>\n",
       "      <td>0</td>\n",
       "      <td>Winter</td>\n",
       "      <td>96861183</td>\n",
       "    </tr>\n",
       "    <tr>\n",
       "      <th>1</th>\n",
       "      <td>tt0365907</td>\n",
       "      <td>A Walk Among the Tombstones</td>\n",
       "      <td>A Walk Among the Tombstones</td>\n",
       "      <td>2014</td>\n",
       "      <td>114.0</td>\n",
       "      <td>Action,Crime,Drama</td>\n",
       "      <td>6.5</td>\n",
       "      <td>105116.0</td>\n",
       "      <td>[Action, Crime, Drama]</td>\n",
       "      <td>3</td>\n",
       "      <td>...</td>\n",
       "      <td>26017685</td>\n",
       "      <td>62108587</td>\n",
       "      <td>2014-09-19</td>\n",
       "      <td>38</td>\n",
       "      <td>4</td>\n",
       "      <td>9</td>\n",
       "      <td>2014</td>\n",
       "      <td>0</td>\n",
       "      <td>Fall</td>\n",
       "      <td>34108587</td>\n",
       "    </tr>\n",
       "  </tbody>\n",
       "</table>\n",
       "<p>2 rows × 28 columns</p>\n",
       "</div>"
      ],
      "text/plain": [
       "    movie_id                    primary_title  \\\n",
       "0  tt0359950  The Secret Life of Walter Mitty   \n",
       "1  tt0365907      A Walk Among the Tombstones   \n",
       "\n",
       "                    original_title  start_year  runtime_minutes  \\\n",
       "0  The Secret Life of Walter Mitty        2013            114.0   \n",
       "1      A Walk Among the Tombstones        2014            114.0   \n",
       "\n",
       "                   genres  averagerating  numvotes  \\\n",
       "0  Adventure,Comedy,Drama            7.3  275300.0   \n",
       "1      Action,Crime,Drama            6.5  105116.0   \n",
       "\n",
       "                  genres_list  genres_count  ... domestic_gross_y  \\\n",
       "0  [Adventure, Comedy, Drama]             3  ...         58236838   \n",
       "1      [Action, Crime, Drama]             3  ...         26017685   \n",
       "\n",
       "  worldwide_gross   datetime  release_weeknum  release_weekday release_month  \\\n",
       "0       187861183 2013-12-25               52                2            12   \n",
       "1        62108587 2014-09-19               38                4             9   \n",
       "\n",
       "  release_year  weekend  release_season  adjusted_worldwide  \n",
       "0         2013        0          Winter            96861183  \n",
       "1         2014        0            Fall            34108587  \n",
       "\n",
       "[2 rows x 28 columns]"
      ]
     },
     "execution_count": 12,
     "metadata": {},
     "output_type": "execute_result"
    }
   ],
   "source": [
    "imdb_df_c2.head(2)"
   ]
  },
  {
   "cell_type": "markdown",
   "metadata": {},
   "source": [
    "Seems like most movies have more then 1 genre. We'll have to split out the genres to get information on how well each separated genre performs. This is not ideal, as there may be heavy correlation between genres that are commonly used together, but it's the best we can do."
   ]
  },
  {
   "cell_type": "code",
   "execution_count": 13,
   "metadata": {
    "ExecuteTime": {
     "end_time": "2022-08-19T16:41:54.426570Z",
     "start_time": "2022-08-19T16:41:54.399128Z"
    },
    "scrolled": false
   },
   "outputs": [],
   "source": [
    "# Splitting the genre column into separate rows for each listed genre\n",
    "imdb_tn_split_df = imdb_df_c2.copy()\n",
    "imdb_tn_split_df = pd.DataFrame({'genres':imdb_tn_split_df.genres.str.split(','),\\\n",
    "                                 'movie':imdb_tn_split_df.primary_title}, )\\\n",
    "                                .explode('genres')"
   ]
  },
  {
   "cell_type": "code",
   "execution_count": 14,
   "metadata": {
    "ExecuteTime": {
     "end_time": "2022-08-19T16:41:54.442185Z",
     "start_time": "2022-08-19T16:41:54.430105Z"
    }
   },
   "outputs": [
    {
     "data": {
      "text/html": [
       "<div>\n",
       "<style scoped>\n",
       "    .dataframe tbody tr th:only-of-type {\n",
       "        vertical-align: middle;\n",
       "    }\n",
       "\n",
       "    .dataframe tbody tr th {\n",
       "        vertical-align: top;\n",
       "    }\n",
       "\n",
       "    .dataframe thead th {\n",
       "        text-align: right;\n",
       "    }\n",
       "</style>\n",
       "<table border=\"1\" class=\"dataframe\">\n",
       "  <thead>\n",
       "    <tr style=\"text-align: right;\">\n",
       "      <th></th>\n",
       "      <th>genres</th>\n",
       "      <th>movie</th>\n",
       "    </tr>\n",
       "  </thead>\n",
       "  <tbody>\n",
       "    <tr>\n",
       "      <th>0</th>\n",
       "      <td>Adventure</td>\n",
       "      <td>The Secret Life of Walter Mitty</td>\n",
       "    </tr>\n",
       "    <tr>\n",
       "      <th>0</th>\n",
       "      <td>Comedy</td>\n",
       "      <td>The Secret Life of Walter Mitty</td>\n",
       "    </tr>\n",
       "  </tbody>\n",
       "</table>\n",
       "</div>"
      ],
      "text/plain": [
       "      genres                            movie\n",
       "0  Adventure  The Secret Life of Walter Mitty\n",
       "0     Comedy  The Secret Life of Walter Mitty"
      ]
     },
     "execution_count": 14,
     "metadata": {},
     "output_type": "execute_result"
    }
   ],
   "source": [
    "# Check that the result looks as expected\n",
    "imdb_tn_split_df.head(2)"
   ]
  },
  {
   "cell_type": "code",
   "execution_count": 15,
   "metadata": {
    "ExecuteTime": {
     "end_time": "2022-08-19T16:41:54.473009Z",
     "start_time": "2022-08-19T16:41:54.444691Z"
    }
   },
   "outputs": [],
   "source": [
    "# Join back with the original dataframe to get the rest of the columns, \n",
    "# since we only have genre and movie name.\n",
    "imdb_tn_split_df = imdb_tn_split_df.set_index('movie');\n",
    "imdb_tn_df = imdb_df_c2.copy().set_index('primary_title')\n",
    "imdb_tn_split_df = imdb_tn_split_df\\\n",
    ".join(imdb_tn_df, how='inner', lsuffix='_separated', rsuffix='_original')\n",
    "imdb_tn_split_df.reset_index()\n",
    "imdb_tn_df.reset_index();"
   ]
  },
  {
   "cell_type": "code",
   "execution_count": 16,
   "metadata": {
    "ExecuteTime": {
     "end_time": "2022-08-19T16:41:54.488387Z",
     "start_time": "2022-08-19T16:41:54.475015Z"
    }
   },
   "outputs": [],
   "source": [
    "# Create a column for profit ratio, just as an additional thing to look at\n",
    "imdb_tn_split_df['profit_ratio'] = \\\n",
    "    imdb_tn_split_df.adjusted_worldwide / imdb_tn_split_df.production_budget"
   ]
  },
  {
   "cell_type": "code",
   "execution_count": 17,
   "metadata": {
    "ExecuteTime": {
     "end_time": "2022-08-19T16:41:54.533720Z",
     "start_time": "2022-08-19T16:41:54.490390Z"
    }
   },
   "outputs": [
    {
     "data": {
      "text/html": [
       "<div>\n",
       "<style scoped>\n",
       "    .dataframe tbody tr th:only-of-type {\n",
       "        vertical-align: middle;\n",
       "    }\n",
       "\n",
       "    .dataframe tbody tr th {\n",
       "        vertical-align: top;\n",
       "    }\n",
       "\n",
       "    .dataframe thead th {\n",
       "        text-align: right;\n",
       "    }\n",
       "</style>\n",
       "<table border=\"1\" class=\"dataframe\">\n",
       "  <thead>\n",
       "    <tr style=\"text-align: right;\">\n",
       "      <th></th>\n",
       "      <th>genres_separated</th>\n",
       "      <th>movie_id</th>\n",
       "      <th>original_title</th>\n",
       "      <th>start_year</th>\n",
       "      <th>runtime_minutes</th>\n",
       "      <th>genres_original</th>\n",
       "      <th>averagerating</th>\n",
       "      <th>numvotes</th>\n",
       "      <th>genres_list</th>\n",
       "      <th>genres_count</th>\n",
       "      <th>...</th>\n",
       "      <th>worldwide_gross</th>\n",
       "      <th>datetime</th>\n",
       "      <th>release_weeknum</th>\n",
       "      <th>release_weekday</th>\n",
       "      <th>release_month</th>\n",
       "      <th>release_year</th>\n",
       "      <th>weekend</th>\n",
       "      <th>release_season</th>\n",
       "      <th>adjusted_worldwide</th>\n",
       "      <th>profit_ratio</th>\n",
       "    </tr>\n",
       "  </thead>\n",
       "  <tbody>\n",
       "    <tr>\n",
       "      <th>10 Cloverfield Lane</th>\n",
       "      <td>Drama</td>\n",
       "      <td>tt1179933</td>\n",
       "      <td>10 Cloverfield Lane</td>\n",
       "      <td>2016</td>\n",
       "      <td>103.0</td>\n",
       "      <td>Drama,Horror,Mystery</td>\n",
       "      <td>7.2</td>\n",
       "      <td>260383.0</td>\n",
       "      <td>[Drama, Horror, Mystery]</td>\n",
       "      <td>3</td>\n",
       "      <td>...</td>\n",
       "      <td>108286422</td>\n",
       "      <td>2016-03-11</td>\n",
       "      <td>10</td>\n",
       "      <td>4</td>\n",
       "      <td>3</td>\n",
       "      <td>2016</td>\n",
       "      <td>0</td>\n",
       "      <td>Spring</td>\n",
       "      <td>103286422</td>\n",
       "      <td>20.657284</td>\n",
       "    </tr>\n",
       "    <tr>\n",
       "      <th>10 Cloverfield Lane</th>\n",
       "      <td>Horror</td>\n",
       "      <td>tt1179933</td>\n",
       "      <td>10 Cloverfield Lane</td>\n",
       "      <td>2016</td>\n",
       "      <td>103.0</td>\n",
       "      <td>Drama,Horror,Mystery</td>\n",
       "      <td>7.2</td>\n",
       "      <td>260383.0</td>\n",
       "      <td>[Drama, Horror, Mystery]</td>\n",
       "      <td>3</td>\n",
       "      <td>...</td>\n",
       "      <td>108286422</td>\n",
       "      <td>2016-03-11</td>\n",
       "      <td>10</td>\n",
       "      <td>4</td>\n",
       "      <td>3</td>\n",
       "      <td>2016</td>\n",
       "      <td>0</td>\n",
       "      <td>Spring</td>\n",
       "      <td>103286422</td>\n",
       "      <td>20.657284</td>\n",
       "    </tr>\n",
       "  </tbody>\n",
       "</table>\n",
       "<p>2 rows × 29 columns</p>\n",
       "</div>"
      ],
      "text/plain": [
       "                    genres_separated   movie_id       original_title  \\\n",
       "10 Cloverfield Lane            Drama  tt1179933  10 Cloverfield Lane   \n",
       "10 Cloverfield Lane           Horror  tt1179933  10 Cloverfield Lane   \n",
       "\n",
       "                     start_year  runtime_minutes       genres_original  \\\n",
       "10 Cloverfield Lane        2016            103.0  Drama,Horror,Mystery   \n",
       "10 Cloverfield Lane        2016            103.0  Drama,Horror,Mystery   \n",
       "\n",
       "                     averagerating  numvotes               genres_list  \\\n",
       "10 Cloverfield Lane            7.2  260383.0  [Drama, Horror, Mystery]   \n",
       "10 Cloverfield Lane            7.2  260383.0  [Drama, Horror, Mystery]   \n",
       "\n",
       "                     genres_count  ... worldwide_gross   datetime  \\\n",
       "10 Cloverfield Lane             3  ...       108286422 2016-03-11   \n",
       "10 Cloverfield Lane             3  ...       108286422 2016-03-11   \n",
       "\n",
       "                     release_weeknum  release_weekday  release_month  \\\n",
       "10 Cloverfield Lane               10                4              3   \n",
       "10 Cloverfield Lane               10                4              3   \n",
       "\n",
       "                    release_year weekend  release_season  adjusted_worldwide  \\\n",
       "10 Cloverfield Lane         2016       0          Spring           103286422   \n",
       "10 Cloverfield Lane         2016       0          Spring           103286422   \n",
       "\n",
       "                     profit_ratio  \n",
       "10 Cloverfield Lane     20.657284  \n",
       "10 Cloverfield Lane     20.657284  \n",
       "\n",
       "[2 rows x 29 columns]"
      ]
     },
     "execution_count": 17,
     "metadata": {},
     "output_type": "execute_result"
    }
   ],
   "source": [
    "# Check the result\n",
    "imdb_tn_split_df.head(2)"
   ]
  },
  {
   "cell_type": "markdown",
   "metadata": {},
   "source": [
    "Alright, seems like we now have 1 genre per row, which is what we wanted. Now, we can group by genre using aggregate functions to see how each genre performs."
   ]
  },
  {
   "cell_type": "code",
   "execution_count": 18,
   "metadata": {
    "ExecuteTime": {
     "end_time": "2022-08-19T16:41:54.564551Z",
     "start_time": "2022-08-19T16:41:54.535230Z"
    },
    "scrolled": true
   },
   "outputs": [],
   "source": [
    "# Group by genre. Use aggregate functions on columns of interest. Lots of these\n",
    "# were exploratory, and will not be used.\n",
    "genre_df = imdb_tn_split_df.groupby('genres_separated').agg({\n",
    "#     'numvotes': ['mean', 'median'],\n",
    "    'production_budget': ['mean', 'median', 'sum'],\n",
    "#     'domestic_gross': ['mean', 'median'],\n",
    "    'worldwide_gross': ['mean', 'median'],\n",
    "    'profit_ratio': ['mean', 'median'],\n",
    "    'adjusted_worldwide': ['mean', 'median', 'sum'],\n",
    "    'genres_count': 'mean',\n",
    "    'movie_id': 'count'\n",
    "})"
   ]
  },
  {
   "cell_type": "code",
   "execution_count": 19,
   "metadata": {
    "ExecuteTime": {
     "end_time": "2022-08-19T16:41:54.595703Z",
     "start_time": "2022-08-19T16:41:54.566483Z"
    },
    "scrolled": true
   },
   "outputs": [
    {
     "data": {
      "text/html": [
       "<div>\n",
       "<style scoped>\n",
       "    .dataframe tbody tr th:only-of-type {\n",
       "        vertical-align: middle;\n",
       "    }\n",
       "\n",
       "    .dataframe tbody tr th {\n",
       "        vertical-align: top;\n",
       "    }\n",
       "\n",
       "    .dataframe thead tr th {\n",
       "        text-align: left;\n",
       "    }\n",
       "\n",
       "    .dataframe thead tr:last-of-type th {\n",
       "        text-align: right;\n",
       "    }\n",
       "</style>\n",
       "<table border=\"1\" class=\"dataframe\">\n",
       "  <thead>\n",
       "    <tr>\n",
       "      <th></th>\n",
       "      <th colspan=\"3\" halign=\"left\">production_budget</th>\n",
       "      <th colspan=\"2\" halign=\"left\">worldwide_gross</th>\n",
       "      <th colspan=\"2\" halign=\"left\">profit_ratio</th>\n",
       "      <th colspan=\"3\" halign=\"left\">adjusted_worldwide</th>\n",
       "      <th>genres_count</th>\n",
       "      <th>movie_id</th>\n",
       "    </tr>\n",
       "    <tr>\n",
       "      <th></th>\n",
       "      <th>mean</th>\n",
       "      <th>median</th>\n",
       "      <th>sum</th>\n",
       "      <th>mean</th>\n",
       "      <th>median</th>\n",
       "      <th>mean</th>\n",
       "      <th>median</th>\n",
       "      <th>mean</th>\n",
       "      <th>median</th>\n",
       "      <th>sum</th>\n",
       "      <th>mean</th>\n",
       "      <th>count</th>\n",
       "    </tr>\n",
       "    <tr>\n",
       "      <th>genres_separated</th>\n",
       "      <th></th>\n",
       "      <th></th>\n",
       "      <th></th>\n",
       "      <th></th>\n",
       "      <th></th>\n",
       "      <th></th>\n",
       "      <th></th>\n",
       "      <th></th>\n",
       "      <th></th>\n",
       "      <th></th>\n",
       "      <th></th>\n",
       "      <th></th>\n",
       "    </tr>\n",
       "  </thead>\n",
       "  <tbody>\n",
       "    <tr>\n",
       "      <th>Action</th>\n",
       "      <td>8.779154e+07</td>\n",
       "      <td>61000000</td>\n",
       "      <td>29059000000</td>\n",
       "      <td>2.780253e+08</td>\n",
       "      <td>140783360.0</td>\n",
       "      <td>2.003238</td>\n",
       "      <td>1.399305</td>\n",
       "      <td>1.902338e+08</td>\n",
       "      <td>73406855.0</td>\n",
       "      <td>62967381440</td>\n",
       "      <td>2.903323</td>\n",
       "      <td>331</td>\n",
       "    </tr>\n",
       "    <tr>\n",
       "      <th>Adventure</th>\n",
       "      <td>1.119676e+08</td>\n",
       "      <td>110000000</td>\n",
       "      <td>31462900000</td>\n",
       "      <td>3.825006e+08</td>\n",
       "      <td>274392649.0</td>\n",
       "      <td>2.351914</td>\n",
       "      <td>1.779868</td>\n",
       "      <td>2.705330e+08</td>\n",
       "      <td>155270083.0</td>\n",
       "      <td>76019775167</td>\n",
       "      <td>2.946619</td>\n",
       "      <td>281</td>\n",
       "    </tr>\n",
       "    <tr>\n",
       "      <th>Animation</th>\n",
       "      <td>1.068529e+08</td>\n",
       "      <td>100000000</td>\n",
       "      <td>9082500000</td>\n",
       "      <td>4.295505e+08</td>\n",
       "      <td>349088523.0</td>\n",
       "      <td>3.062197</td>\n",
       "      <td>2.292976</td>\n",
       "      <td>3.226976e+08</td>\n",
       "      <td>238547523.0</td>\n",
       "      <td>27429293933</td>\n",
       "      <td>2.976471</td>\n",
       "      <td>85</td>\n",
       "    </tr>\n",
       "    <tr>\n",
       "      <th>Biography</th>\n",
       "      <td>2.812518e+07</td>\n",
       "      <td>24000000</td>\n",
       "      <td>3093770000</td>\n",
       "      <td>9.280534e+07</td>\n",
       "      <td>46221328.5</td>\n",
       "      <td>2.803890</td>\n",
       "      <td>1.318634</td>\n",
       "      <td>6.468016e+07</td>\n",
       "      <td>24761652.0</td>\n",
       "      <td>7114817271</td>\n",
       "      <td>2.800000</td>\n",
       "      <td>110</td>\n",
       "    </tr>\n",
       "    <tr>\n",
       "      <th>Comedy</th>\n",
       "      <td>4.534798e+07</td>\n",
       "      <td>30000000</td>\n",
       "      <td>17957800000</td>\n",
       "      <td>1.603209e+08</td>\n",
       "      <td>82996305.0</td>\n",
       "      <td>2.711723</td>\n",
       "      <td>1.668306</td>\n",
       "      <td>1.149729e+08</td>\n",
       "      <td>50652733.0</td>\n",
       "      <td>45529266751</td>\n",
       "      <td>2.550505</td>\n",
       "      <td>396</td>\n",
       "    </tr>\n",
       "    <tr>\n",
       "      <th>Crime</th>\n",
       "      <td>3.499651e+07</td>\n",
       "      <td>30000000</td>\n",
       "      <td>5809420000</td>\n",
       "      <td>9.864854e+07</td>\n",
       "      <td>59937456.5</td>\n",
       "      <td>1.604408</td>\n",
       "      <td>1.175322</td>\n",
       "      <td>6.365203e+07</td>\n",
       "      <td>26646431.0</td>\n",
       "      <td>10566237036</td>\n",
       "      <td>2.831325</td>\n",
       "      <td>166</td>\n",
       "    </tr>\n",
       "    <tr>\n",
       "      <th>Documentary</th>\n",
       "      <td>1.610714e+07</td>\n",
       "      <td>7500000</td>\n",
       "      <td>451000000</td>\n",
       "      <td>5.138317e+07</td>\n",
       "      <td>26852455.5</td>\n",
       "      <td>3.939128</td>\n",
       "      <td>1.728412</td>\n",
       "      <td>3.527603e+07</td>\n",
       "      <td>14908557.0</td>\n",
       "      <td>987728701</td>\n",
       "      <td>1.750000</td>\n",
       "      <td>28</td>\n",
       "    </tr>\n",
       "    <tr>\n",
       "      <th>Drama</th>\n",
       "      <td>2.969809e+07</td>\n",
       "      <td>20000000</td>\n",
       "      <td>15858782650</td>\n",
       "      <td>8.531012e+07</td>\n",
       "      <td>46495248.0</td>\n",
       "      <td>2.799239</td>\n",
       "      <td>1.238710</td>\n",
       "      <td>5.561202e+07</td>\n",
       "      <td>21599932.5</td>\n",
       "      <td>29696820895</td>\n",
       "      <td>2.573034</td>\n",
       "      <td>534</td>\n",
       "    </tr>\n",
       "    <tr>\n",
       "      <th>Family</th>\n",
       "      <td>6.907424e+07</td>\n",
       "      <td>42500000</td>\n",
       "      <td>4558900000</td>\n",
       "      <td>1.755538e+08</td>\n",
       "      <td>100502080.0</td>\n",
       "      <td>1.697618</td>\n",
       "      <td>1.076189</td>\n",
       "      <td>1.064795e+08</td>\n",
       "      <td>51927284.0</td>\n",
       "      <td>7027649673</td>\n",
       "      <td>2.787879</td>\n",
       "      <td>66</td>\n",
       "    </tr>\n",
       "    <tr>\n",
       "      <th>Fantasy</th>\n",
       "      <td>8.685275e+07</td>\n",
       "      <td>60000000</td>\n",
       "      <td>7903600000</td>\n",
       "      <td>2.359459e+08</td>\n",
       "      <td>91678442.0</td>\n",
       "      <td>2.396156</td>\n",
       "      <td>1.182820</td>\n",
       "      <td>1.490932e+08</td>\n",
       "      <td>38984536.0</td>\n",
       "      <td>13567480803</td>\n",
       "      <td>2.846154</td>\n",
       "      <td>91</td>\n",
       "    </tr>\n",
       "    <tr>\n",
       "      <th>History</th>\n",
       "      <td>4.100000e+07</td>\n",
       "      <td>29000000</td>\n",
       "      <td>1230000000</td>\n",
       "      <td>1.119801e+08</td>\n",
       "      <td>82616153.5</td>\n",
       "      <td>2.165345</td>\n",
       "      <td>1.349481</td>\n",
       "      <td>7.098012e+07</td>\n",
       "      <td>46395116.0</td>\n",
       "      <td>2129403547</td>\n",
       "      <td>2.966667</td>\n",
       "      <td>30</td>\n",
       "    </tr>\n",
       "    <tr>\n",
       "      <th>Horror</th>\n",
       "      <td>2.388103e+07</td>\n",
       "      <td>10000000</td>\n",
       "      <td>2770200000</td>\n",
       "      <td>1.041640e+08</td>\n",
       "      <td>68475760.5</td>\n",
       "      <td>12.274592</td>\n",
       "      <td>3.074923</td>\n",
       "      <td>8.028301e+07</td>\n",
       "      <td>43191195.5</td>\n",
       "      <td>9312829277</td>\n",
       "      <td>2.672414</td>\n",
       "      <td>116</td>\n",
       "    </tr>\n",
       "    <tr>\n",
       "      <th>Music</th>\n",
       "      <td>2.168611e+07</td>\n",
       "      <td>18000000</td>\n",
       "      <td>780700000</td>\n",
       "      <td>9.807032e+07</td>\n",
       "      <td>59518767.5</td>\n",
       "      <td>3.409234</td>\n",
       "      <td>2.225932</td>\n",
       "      <td>7.638421e+07</td>\n",
       "      <td>30417703.5</td>\n",
       "      <td>2749831411</td>\n",
       "      <td>2.500000</td>\n",
       "      <td>36</td>\n",
       "    </tr>\n",
       "    <tr>\n",
       "      <th>Musical</th>\n",
       "      <td>5.446000e+07</td>\n",
       "      <td>55000000</td>\n",
       "      <td>272300000</td>\n",
       "      <td>1.359261e+08</td>\n",
       "      <td>90552675.0</td>\n",
       "      <td>1.978332</td>\n",
       "      <td>0.646412</td>\n",
       "      <td>8.146606e+07</td>\n",
       "      <td>35552675.0</td>\n",
       "      <td>407330298</td>\n",
       "      <td>2.600000</td>\n",
       "      <td>5</td>\n",
       "    </tr>\n",
       "    <tr>\n",
       "      <th>Mystery</th>\n",
       "      <td>2.745397e+07</td>\n",
       "      <td>12000000</td>\n",
       "      <td>2333587650</td>\n",
       "      <td>1.119684e+08</td>\n",
       "      <td>82925064.0</td>\n",
       "      <td>12.380021</td>\n",
       "      <td>3.321870</td>\n",
       "      <td>8.451440e+07</td>\n",
       "      <td>53354114.0</td>\n",
       "      <td>7183723680</td>\n",
       "      <td>2.917647</td>\n",
       "      <td>85</td>\n",
       "    </tr>\n",
       "    <tr>\n",
       "      <th>Romance</th>\n",
       "      <td>2.233699e+07</td>\n",
       "      <td>18500000</td>\n",
       "      <td>3305875000</td>\n",
       "      <td>7.327936e+07</td>\n",
       "      <td>46014980.5</td>\n",
       "      <td>3.208187</td>\n",
       "      <td>1.642869</td>\n",
       "      <td>5.094237e+07</td>\n",
       "      <td>22170750.5</td>\n",
       "      <td>7539470181</td>\n",
       "      <td>2.587838</td>\n",
       "      <td>148</td>\n",
       "    </tr>\n",
       "    <tr>\n",
       "      <th>Sci-Fi</th>\n",
       "      <td>1.049518e+08</td>\n",
       "      <td>100000000</td>\n",
       "      <td>10075375000</td>\n",
       "      <td>3.999846e+08</td>\n",
       "      <td>287054362.0</td>\n",
       "      <td>3.183424</td>\n",
       "      <td>2.231891</td>\n",
       "      <td>2.950328e+08</td>\n",
       "      <td>167054362.0</td>\n",
       "      <td>28323148976</td>\n",
       "      <td>2.958333</td>\n",
       "      <td>96</td>\n",
       "    </tr>\n",
       "    <tr>\n",
       "      <th>Sport</th>\n",
       "      <td>2.842857e+07</td>\n",
       "      <td>25000000</td>\n",
       "      <td>597000000</td>\n",
       "      <td>6.791182e+07</td>\n",
       "      <td>46527161.0</td>\n",
       "      <td>1.617058</td>\n",
       "      <td>0.822305</td>\n",
       "      <td>3.948325e+07</td>\n",
       "      <td>28527161.0</td>\n",
       "      <td>829148188</td>\n",
       "      <td>2.619048</td>\n",
       "      <td>21</td>\n",
       "    </tr>\n",
       "    <tr>\n",
       "      <th>Thriller</th>\n",
       "      <td>3.800690e+07</td>\n",
       "      <td>25000000</td>\n",
       "      <td>7373337650</td>\n",
       "      <td>1.400274e+08</td>\n",
       "      <td>69238020.0</td>\n",
       "      <td>6.893193</td>\n",
       "      <td>1.814909</td>\n",
       "      <td>1.020205e+08</td>\n",
       "      <td>43505979.5</td>\n",
       "      <td>19791978264</td>\n",
       "      <td>2.649485</td>\n",
       "      <td>194</td>\n",
       "    </tr>\n",
       "    <tr>\n",
       "      <th>War</th>\n",
       "      <td>2.614286e+07</td>\n",
       "      <td>20000000</td>\n",
       "      <td>183000000</td>\n",
       "      <td>5.670213e+07</td>\n",
       "      <td>17769299.0</td>\n",
       "      <td>0.862093</td>\n",
       "      <td>-0.111535</td>\n",
       "      <td>3.055927e+07</td>\n",
       "      <td>-898947.0</td>\n",
       "      <td>213914884</td>\n",
       "      <td>2.714286</td>\n",
       "      <td>7</td>\n",
       "    </tr>\n",
       "    <tr>\n",
       "      <th>Western</th>\n",
       "      <td>7.875000e+07</td>\n",
       "      <td>38500000</td>\n",
       "      <td>472500000</td>\n",
       "      <td>1.633628e+08</td>\n",
       "      <td>130395626.5</td>\n",
       "      <td>1.273282</td>\n",
       "      <td>-0.270470</td>\n",
       "      <td>8.461276e+07</td>\n",
       "      <td>-5532561.0</td>\n",
       "      <td>507676569</td>\n",
       "      <td>2.666667</td>\n",
       "      <td>6</td>\n",
       "    </tr>\n",
       "  </tbody>\n",
       "</table>\n",
       "</div>"
      ],
      "text/plain": [
       "                 production_budget                         worldwide_gross  \\\n",
       "                              mean     median          sum            mean   \n",
       "genres_separated                                                             \n",
       "Action                8.779154e+07   61000000  29059000000    2.780253e+08   \n",
       "Adventure             1.119676e+08  110000000  31462900000    3.825006e+08   \n",
       "Animation             1.068529e+08  100000000   9082500000    4.295505e+08   \n",
       "Biography             2.812518e+07   24000000   3093770000    9.280534e+07   \n",
       "Comedy                4.534798e+07   30000000  17957800000    1.603209e+08   \n",
       "Crime                 3.499651e+07   30000000   5809420000    9.864854e+07   \n",
       "Documentary           1.610714e+07    7500000    451000000    5.138317e+07   \n",
       "Drama                 2.969809e+07   20000000  15858782650    8.531012e+07   \n",
       "Family                6.907424e+07   42500000   4558900000    1.755538e+08   \n",
       "Fantasy               8.685275e+07   60000000   7903600000    2.359459e+08   \n",
       "History               4.100000e+07   29000000   1230000000    1.119801e+08   \n",
       "Horror                2.388103e+07   10000000   2770200000    1.041640e+08   \n",
       "Music                 2.168611e+07   18000000    780700000    9.807032e+07   \n",
       "Musical               5.446000e+07   55000000    272300000    1.359261e+08   \n",
       "Mystery               2.745397e+07   12000000   2333587650    1.119684e+08   \n",
       "Romance               2.233699e+07   18500000   3305875000    7.327936e+07   \n",
       "Sci-Fi                1.049518e+08  100000000  10075375000    3.999846e+08   \n",
       "Sport                 2.842857e+07   25000000    597000000    6.791182e+07   \n",
       "Thriller              3.800690e+07   25000000   7373337650    1.400274e+08   \n",
       "War                   2.614286e+07   20000000    183000000    5.670213e+07   \n",
       "Western               7.875000e+07   38500000    472500000    1.633628e+08   \n",
       "\n",
       "                              profit_ratio           adjusted_worldwide  \\\n",
       "                       median         mean    median               mean   \n",
       "genres_separated                                                          \n",
       "Action            140783360.0     2.003238  1.399305       1.902338e+08   \n",
       "Adventure         274392649.0     2.351914  1.779868       2.705330e+08   \n",
       "Animation         349088523.0     3.062197  2.292976       3.226976e+08   \n",
       "Biography          46221328.5     2.803890  1.318634       6.468016e+07   \n",
       "Comedy             82996305.0     2.711723  1.668306       1.149729e+08   \n",
       "Crime              59937456.5     1.604408  1.175322       6.365203e+07   \n",
       "Documentary        26852455.5     3.939128  1.728412       3.527603e+07   \n",
       "Drama              46495248.0     2.799239  1.238710       5.561202e+07   \n",
       "Family            100502080.0     1.697618  1.076189       1.064795e+08   \n",
       "Fantasy            91678442.0     2.396156  1.182820       1.490932e+08   \n",
       "History            82616153.5     2.165345  1.349481       7.098012e+07   \n",
       "Horror             68475760.5    12.274592  3.074923       8.028301e+07   \n",
       "Music              59518767.5     3.409234  2.225932       7.638421e+07   \n",
       "Musical            90552675.0     1.978332  0.646412       8.146606e+07   \n",
       "Mystery            82925064.0    12.380021  3.321870       8.451440e+07   \n",
       "Romance            46014980.5     3.208187  1.642869       5.094237e+07   \n",
       "Sci-Fi            287054362.0     3.183424  2.231891       2.950328e+08   \n",
       "Sport              46527161.0     1.617058  0.822305       3.948325e+07   \n",
       "Thriller           69238020.0     6.893193  1.814909       1.020205e+08   \n",
       "War                17769299.0     0.862093 -0.111535       3.055927e+07   \n",
       "Western           130395626.5     1.273282 -0.270470       8.461276e+07   \n",
       "\n",
       "                                           genres_count movie_id  \n",
       "                       median          sum         mean    count  \n",
       "genres_separated                                                  \n",
       "Action             73406855.0  62967381440     2.903323      331  \n",
       "Adventure         155270083.0  76019775167     2.946619      281  \n",
       "Animation         238547523.0  27429293933     2.976471       85  \n",
       "Biography          24761652.0   7114817271     2.800000      110  \n",
       "Comedy             50652733.0  45529266751     2.550505      396  \n",
       "Crime              26646431.0  10566237036     2.831325      166  \n",
       "Documentary        14908557.0    987728701     1.750000       28  \n",
       "Drama              21599932.5  29696820895     2.573034      534  \n",
       "Family             51927284.0   7027649673     2.787879       66  \n",
       "Fantasy            38984536.0  13567480803     2.846154       91  \n",
       "History            46395116.0   2129403547     2.966667       30  \n",
       "Horror             43191195.5   9312829277     2.672414      116  \n",
       "Music              30417703.5   2749831411     2.500000       36  \n",
       "Musical            35552675.0    407330298     2.600000        5  \n",
       "Mystery            53354114.0   7183723680     2.917647       85  \n",
       "Romance            22170750.5   7539470181     2.587838      148  \n",
       "Sci-Fi            167054362.0  28323148976     2.958333       96  \n",
       "Sport              28527161.0    829148188     2.619048       21  \n",
       "Thriller           43505979.5  19791978264     2.649485      194  \n",
       "War                 -898947.0    213914884     2.714286        7  \n",
       "Western            -5532561.0    507676569     2.666667        6  "
      ]
     },
     "execution_count": 19,
     "metadata": {},
     "output_type": "execute_result"
    }
   ],
   "source": [
    "# Take a look at the full dataframe, since it is a small dataset.\n",
    "genre_df"
   ]
  },
  {
   "cell_type": "markdown",
   "metadata": {},
   "source": [
    "Looks good! The multi-indexed columns are a bit hard to work with, so lets go ahead and flatten them out. We should also get rid of genres with extremely low sample size, since their data is too unreliable to make any conclusions out of."
   ]
  },
  {
   "cell_type": "code",
   "execution_count": 20,
   "metadata": {
    "ExecuteTime": {
     "end_time": "2022-08-19T16:41:54.610907Z",
     "start_time": "2022-08-19T16:41:54.596821Z"
    }
   },
   "outputs": [],
   "source": [
    "# Flatten column names\n",
    "genre_df.columns = genre_df.columns.get_level_values(1) \\\n",
    "                    + '_' + genre_df.columns.get_level_values(0)"
   ]
  },
  {
   "cell_type": "code",
   "execution_count": 21,
   "metadata": {
    "ExecuteTime": {
     "end_time": "2022-08-19T16:41:54.627020Z",
     "start_time": "2022-08-19T16:41:54.612919Z"
    }
   },
   "outputs": [],
   "source": [
    "#  Change the name of the movie_id column, \n",
    "# which was used to count the number of movies in the genre\n",
    "genre_df.columns = ['mean_production_budget', 'median_production_budget',\n",
    "       'sum_production_budget', 'mean_worldwide_gross',\n",
    "       'median_worldwide_gross', 'mean_profit_ratio', 'median_profit_ratio',\n",
    "       'mean_adjusted_worldwide', 'median_adjusted_worldwide',\n",
    "       'sum_adjusted_worldwide', 'mean_genres_count', 'movie_count'];\n",
    "# Remove genres with really low samples (< 30 movies)\n",
    "genre_df = genre_df[(genre_df.movie_count >= 30)].copy()"
   ]
  },
  {
   "cell_type": "code",
   "execution_count": 22,
   "metadata": {
    "ExecuteTime": {
     "end_time": "2022-08-19T16:41:54.643156Z",
     "start_time": "2022-08-19T16:41:54.631030Z"
    }
   },
   "outputs": [],
   "source": [
    "# Divide columns by 1000000 to easily display values in millions\n",
    "genre_df['mean_adjusted_worldwide'] = genre_df['mean_adjusted_worldwide'] / 1000000\n",
    "genre_df['median_adjusted_worldwide'] = genre_df['median_adjusted_worldwide'] / 1000000"
   ]
  },
  {
   "cell_type": "markdown",
   "metadata": {
    "ExecuteTime": {
     "end_time": "2022-08-18T19:36:42.688745Z",
     "start_time": "2022-08-18T19:36:42.686750Z"
    }
   },
   "source": [
    "## Graphs"
   ]
  },
  {
   "cell_type": "markdown",
   "metadata": {},
   "source": [
    "Alright, now that our data is properly set up, we can start graphing! The first thing we want to do is to check the number of outliers so that we can decide whether to use mean or median for our graphs."
   ]
  },
  {
   "cell_type": "code",
   "execution_count": 23,
   "metadata": {
    "ExecuteTime": {
     "end_time": "2022-08-19T16:41:54.659144Z",
     "start_time": "2022-08-19T16:41:54.647680Z"
    }
   },
   "outputs": [],
   "source": [
    "# Set up styling for graphs\n",
    "sns.set_theme()\n",
    "sns.set_style('whitegrid')\n",
    "# These were to get high resolution graphs for our presentation,\n",
    "# not needed otherwise\n",
    "# plt.rcParams['figure.dpi'] = 300\n",
    "# plt.rcParams['savefig.dpi'] = 300"
   ]
  },
  {
   "cell_type": "code",
   "execution_count": 24,
   "metadata": {
    "ExecuteTime": {
     "end_time": "2022-08-19T16:41:54.799981Z",
     "start_time": "2022-08-19T16:41:54.660770Z"
    }
   },
   "outputs": [
    {
     "data": {
      "image/png": "[encoded data removed]",
      "text/plain": [
       "<Figure size 288x360 with 1 Axes>"
      ]
     },
     "metadata": {},
     "output_type": "display_data"
    }
   ],
   "source": [
    "# Create a box and whiskers plot of median profit, \n",
    "# to see what the distribution of values looks like\n",
    "fig, ax = plt.subplots(figsize=(4,5))\n",
    "millions_df = imdb_tn_split_df[['genres_separated', 'adjusted_worldwide']].copy()\n",
    "millions_df.adjusted_worldwide = millions_df.adjusted_worldwide / 1000000\n",
    "millions_df.columns = ['genres_separated', 'Movies']\n",
    "millions_df\\\n",
    ".boxplot(column='Movies', ax=ax)\n",
    "ax.set(title='Distribution of Net Profit per movie, All Genres',\\\n",
    "       ylabel='Net Profit (Million $)');\n"
   ]
  },
  {
   "cell_type": "markdown",
   "metadata": {},
   "source": [
    "Seems like there are lots of outliers! For our genre graphs we can use the median to mitigate the effect of the outliers."
   ]
  },
  {
   "cell_type": "markdown",
   "metadata": {},
   "source": [
    "Lets take a look at a graph of net profit, to see which types of movies create the most profit!"
   ]
  },
  {
   "cell_type": "code",
   "execution_count": 25,
   "metadata": {
    "ExecuteTime": {
     "end_time": "2022-08-19T16:41:55.001631Z",
     "start_time": "2022-08-19T16:41:54.800843Z"
    },
    "scrolled": false
   },
   "outputs": [
    {
     "data": {
      "image/png": "[encoded data removed]",
      "text/plain": [
       "<Figure size 1008x288 with 1 Axes>"
      ]
     },
     "metadata": {},
     "output_type": "display_data"
    }
   ],
   "source": [
    "# Graph of how much profit a movie in each genre made, by median value\n",
    "fig, ax = plt.subplots(figsize=(14,4))\n",
    "genre_df = genre_df.sort_values('median_adjusted_worldwide')\n",
    "net_profit = genre_df.median_adjusted_worldwide\n",
    "net_profit.plot.bar(ax=ax, color=\\\n",
    "     [\"lightcyan\" if (x < net_profit.quantile(.3)) \\\n",
    "      else 'powderblue' if (x < net_profit.quantile(.6))\n",
    "      else 'lightskyblue' if (x < net_profit.quantile(.8))\n",
    "      else 'cornflowerblue' if (x < net_profit.quantile(.9))\n",
    "      else 'mediumblue' if (x < net_profit.quantile(.95))\n",
    "      else 'navy' for x in net_profit]);\n",
    "ax.set(title='Median Profit by Genre', xlabel='Genre', \\\n",
    "       ylabel='Profit (Million $)');\n",
    "plt.xticks(rotation=30);"
   ]
  },
  {
   "cell_type": "markdown",
   "metadata": {},
   "source": [
    "Seems like Animation, Sci-Fi, and Adventure made the most profit-wise. However, the Animation genre has a few abnormalities which make it hard to recommend. Animation isn't necessarily a genre itself, it's just a style of movie - every animation movie would have another genre which is its actual genre. Animation studios are also radically different from normal movie studios, and have a high barrier to entry, so it isn't really something we want to recommend for Computing Vision. So it would be best to exclude it from our analysis.\n",
    "\n",
    "Let's make a graph without Animation!"
   ]
  },
  {
   "cell_type": "code",
   "execution_count": 26,
   "metadata": {
    "ExecuteTime": {
     "end_time": "2022-08-19T16:41:55.204737Z",
     "start_time": "2022-08-19T16:41:55.004435Z"
    },
    "scrolled": false
   },
   "outputs": [
    {
     "data": {
      "image/png": "[encoded data removed]",
      "text/plain": [
       "<Figure size 1008x288 with 1 Axes>"
      ]
     },
     "metadata": {},
     "output_type": "display_data"
    }
   ],
   "source": [
    "# Graph of how much profit a movie in each genre made, by median value, without \n",
    "# animation\n",
    "fig, ax = plt.subplots(figsize=(14,4))\n",
    "genre_df = genre_df.sort_values('median_adjusted_worldwide')\n",
    "net_profit = genre_df[genre_df.index != 'Animation'].median_adjusted_worldwide\n",
    "net_profit.plot.bar(ax=ax, color=\\\n",
    "     [\"lightcyan\" if (x < net_profit.quantile(.3)) \\\n",
    "      else 'powderblue' if (x < net_profit.quantile(.6))\n",
    "      else 'lightskyblue' if (x < net_profit.quantile(.8))\n",
    "      else 'cornflowerblue' if (x < net_profit.quantile(.9))\n",
    "      else 'mediumblue' if (x < net_profit.quantile(.95))\n",
    "      else 'navy' for x in net_profit]);\n",
    "ax.set(title='Median Profit by Genre Without Animation', xlabel='Genre', \\\n",
    "       ylabel='Profit (Million $)');\n",
    "plt.xticks(rotation=30);"
   ]
  },
  {
   "cell_type": "markdown",
   "metadata": {},
   "source": [
    "Alright, that looks more useful! Seems like Sci-Fi and Adventure films are far and away the most profitable! Since we need to make a recommendation to Computing Vision, let's just pick the first one - Sci-Fi. Another benefit of Sci-Fi, which we've found through 3rd party sources, is that Sci-Fi movies are great for merchandise sales, a source of revenue which is not included in our graphs. So Sci-Fi seems like a greate genre to reccomend!"
   ]
  },
  {
   "cell_type": "code",
   "execution_count": 27,
   "metadata": {
    "ExecuteTime": {
     "end_time": "2022-08-19T16:41:55.220223Z",
     "start_time": "2022-08-19T16:41:55.206133Z"
    }
   },
   "outputs": [
    {
     "data": {
      "text/plain": [
       "genres_separated\n",
       "Sci-Fi    167.054362\n",
       "Name: median_adjusted_worldwide, dtype: float64"
      ]
     },
     "execution_count": 27,
     "metadata": {},
     "output_type": "execute_result"
    }
   ],
   "source": [
    "# Get median profit $ of Sci-Fi movies.\n",
    "genre_df[genre_df.index == 'Sci-Fi'].median_adjusted_worldwide"
   ]
  },
  {
   "cell_type": "markdown",
   "metadata": {},
   "source": [
    "Before we move on, let's look at the profit ratio to make sure this is a good use of our money. While Sci-Fi movies are the most profitable, it is possible that they are inefficient, and it might be better to pick a genre with a higher ratio of profit if that is the case."
   ]
  },
  {
   "cell_type": "code",
   "execution_count": 28,
   "metadata": {
    "ExecuteTime": {
     "end_time": "2022-08-19T16:41:55.468454Z",
     "start_time": "2022-08-19T16:41:55.221723Z"
    },
    "scrolled": false
   },
   "outputs": [
    {
     "data": {
      "image/png": "[encoded data removed]",
      "text/plain": [
       "<Figure size 1008x288 with 1 Axes>"
      ]
     },
     "metadata": {},
     "output_type": "display_data"
    }
   ],
   "source": [
    "fig, ax = plt.subplots(figsize=(14,4))\n",
    "genre_df = genre_df.sort_values('median_profit_ratio')\n",
    "genre_df.median_profit_ratio.plot.bar(ax=ax, color=\\\n",
    "     [\"navy\" if (x == 'Sci-Fi' ) \\\n",
    "      else 'lightsteelblue' for x in genre_df.index]);\n",
    "ax.set(title='Median Profit Ratio by Genre', xlabel='Genre', \\\n",
    "       ylabel='Profit Ratio (Net Profit / Production Budget)');\n",
    "plt.xticks(rotation=30);"
   ]
  },
  {
   "cell_type": "markdown",
   "metadata": {},
   "source": [
    "Si-Fi is in the top 4, so it seems like the money put into a Sci-Fi movie results in a high profit too! Great! Also notable is that adventure is several spots lower than Sci-Fi on this list, giving us another reason to stick with Sci-Fi."
   ]
  },
  {
   "cell_type": "markdown",
   "metadata": {},
   "source": [
    "# Metric 2: Runtime"
   ]
  },
  {
   "cell_type": "markdown",
   "metadata": {},
   "source": [
    "## Visualization"
   ]
  },
  {
   "cell_type": "code",
   "execution_count": 29,
   "metadata": {
    "ExecuteTime": {
     "end_time": "2022-08-19T16:41:55.484221Z",
     "start_time": "2022-08-19T16:41:55.469767Z"
    }
   },
   "outputs": [],
   "source": [
    "# divide movies by runtime; movies longer or equal to 2 hours are long movies\n",
    "long_movies = imdb_df_c2[imdb_df_c2[\"runtime_minutes\"]>= 120]\n",
    "short_movies = imdb_df_c2[imdb_df_c2[\"runtime_minutes\"]< 120]"
   ]
  },
  {
   "cell_type": "code",
   "execution_count": 30,
   "metadata": {
    "ExecuteTime": {
     "end_time": "2022-08-19T16:41:55.686060Z",
     "start_time": "2022-08-19T16:41:55.488975Z"
    },
    "scrolled": true
   },
   "outputs": [
    {
     "data": {
      "image/png": "[encoded data removed]",
      "text/plain": [
       "<Figure size 432x288 with 1 Axes>"
      ]
     },
     "metadata": {},
     "output_type": "display_data"
    }
   ],
   "source": [
    "# Display split between long and short movie adjusted worldwide profit\n",
    "fig, ax = plt.subplots()\n",
    "sns.set_style('whitegrid')\n",
    "ax.scatter(long_movies[\"runtime_minutes\"], long_movies[\"adjusted_worldwide\"], label='> 120 minutes')\n",
    "ax.scatter(short_movies[\"runtime_minutes\"], short_movies[\"adjusted_worldwide\"], label='<= 120 minutes')\n",
    "ax.set_title(\"Movie Runtime vs. Worldwide Profit\")\n",
    "ax.set_xlabel(\"Movie Runtime (mins)\")\n",
    "ax.set_ylabel(\"Worldwide Profit ($)\")\n",
    "ax.legend(bbox_to_anchor = (1.40, 1));\n",
    "# fig.show()"
   ]
  },
  {
   "cell_type": "code",
   "execution_count": 31,
   "metadata": {
    "ExecuteTime": {
     "end_time": "2022-08-19T16:41:55.981054Z",
     "start_time": "2022-08-19T16:41:55.688083Z"
    }
   },
   "outputs": [
    {
     "data": {
      "image/png": "[encoded data removed]",
      "text/plain": [
       "<Figure size 360x360 with 1 Axes>"
      ]
     },
     "metadata": {},
     "output_type": "display_data"
    }
   ],
   "source": [
    "# try drawing a correlation line, visualize correlation\n",
    "import seaborn as sns\n",
    "p = sns.lmplot(x ='runtime_minutes', y ='adjusted_worldwide', data = imdb_df_c2)\n",
    "p.set(title = \"Correlation of Runtime and Worldwide Profit\")\n",
    "p.set(xlabel = \"Movie Runtime (mins)\", ylabel = \"Worldwide Profit ($)\");"
   ]
  },
  {
   "cell_type": "code",
   "execution_count": 32,
   "metadata": {
    "ExecuteTime": {
     "end_time": "2022-08-19T16:41:56.274364Z",
     "start_time": "2022-08-19T16:41:55.982193Z"
    }
   },
   "outputs": [
    {
     "data": {
      "image/png": "[encoded data removed]",
      "text/plain": [
       "<Figure size 432x288 with 2 Axes>"
      ]
     },
     "metadata": {},
     "output_type": "display_data"
    }
   ],
   "source": [
    "# compare distribution of short and long movies\n",
    "fig, ax = plt.subplots(1, 2)\n",
    "fig.tight_layout()\n",
    "ax[1].hist(long_movies[\"adjusted_worldwide\"], bins = 10)\n",
    "ax[0].hist(short_movies[\"adjusted_worldwide\"], bins = 10)\n",
    "\n",
    "# get long movie dist. and median\n",
    "ax[1].set_title(\"Long Movies\")\n",
    "ax[1].set_xlabel(\"Worldwide Profit ($)\")\n",
    "ax[1].set_ylabel(\"Frequency\")\n",
    "ax[1].set_xlim(right = 1.5 * 10**9)\n",
    "ax[1].axvline(long_movies[\"adjusted_worldwide\"].median(), color = \"r\")\n",
    "ax[1].legend(loc='upper right',\\\n",
    "     labels=['Median = ${}M'.format(int(round(long_movies[\"adjusted_worldwide\"].median()/1000000)))])\n",
    "\n",
    "# get short movie dist. and median\n",
    "ax[0].set_title(\"Short Movies\")\n",
    "ax[0].set_xlabel(\"Worldwide Profit ($)\")\n",
    "ax[0].set_ylabel(\"Frequency\")\n",
    "ax[0].set_xlim(right = 1.5 * 10**9)\n",
    "ax[0].axvline(short_movies[\"adjusted_worldwide\"].median(), color = \"r\")\n",
    "ax[0].legend(loc='upper right',\\\n",
    "     labels=['Median = ${}M'.format(int(round(short_movies[\"adjusted_worldwide\"].median()/1000000)))]);"
   ]
  },
  {
   "cell_type": "markdown",
   "metadata": {},
   "source": [
    "## Hypothesis Testing"
   ]
  },
  {
   "cell_type": "markdown",
   "metadata": {},
   "source": [
    "H0: Movies longer than two hours do not make more worldwide profit than those shorter than two hours.\n",
    "\n",
    "Ha: Movies longer than two hours do make more worldwide profit than those shorter than two hours."
   ]
  },
  {
   "cell_type": "code",
   "execution_count": 33,
   "metadata": {
    "ExecuteTime": {
     "end_time": "2022-08-19T16:41:56.290408Z",
     "start_time": "2022-08-19T16:41:56.275668Z"
    }
   },
   "outputs": [],
   "source": [
    "import scipy.stats as stats"
   ]
  },
  {
   "cell_type": "code",
   "execution_count": 34,
   "metadata": {
    "ExecuteTime": {
     "end_time": "2022-08-19T16:41:56.305869Z",
     "start_time": "2022-08-19T16:41:56.292502Z"
    },
    "scrolled": true
   },
   "outputs": [
    {
     "name": "stdout",
     "output_type": "stream",
     "text": [
      "The t-statistic is 8.59996881426426.\n",
      "The p-value is 2.865776372867499e-17.\n",
      "We reject the null hypothesis at an alpha level of 0.05.\n"
     ]
    }
   ],
   "source": [
    "# conduct two-sample t-test (independent)\n",
    "results = stats.ttest_ind(long_movies[\"adjusted_worldwide\"], \n",
    "                          short_movies[\"adjusted_worldwide\"])\n",
    "alpha = 0.05\n",
    "print(\"The t-statistic is {}.\".format(results.statistic))\n",
    "print(\"The p-value is {}.\".format(results.pvalue))\n",
    "if(results.pvalue < alpha): \n",
    "    print(\"We reject the null hypothesis at an alpha level of {}.\".format(alpha))\n",
    "else:\n",
    "    print(\"We fail to reject the null hypothesis at an alpha level of {}.\".format(alpha))"
   ]
  },
  {
   "cell_type": "markdown",
   "metadata": {},
   "source": [
    "# Metric 3: Season"
   ]
  },
  {
   "cell_type": "markdown",
   "metadata": {},
   "source": [
    "## Visualization"
   ]
  },
  {
   "cell_type": "code",
   "execution_count": 35,
   "metadata": {
    "ExecuteTime": {
     "end_time": "2022-08-19T16:41:56.321588Z",
     "start_time": "2022-08-19T16:41:56.307888Z"
    }
   },
   "outputs": [
    {
     "data": {
      "text/plain": [
       "Fall      335\n",
       "Summer    276\n",
       "Winter    227\n",
       "Spring    213\n",
       "Name: release_season, dtype: int64"
      ]
     },
     "execution_count": 35,
     "metadata": {},
     "output_type": "execute_result"
    }
   ],
   "source": [
    "# get value counts of each season\n",
    "imdb_df_c2[\"release_season\"].value_counts()"
   ]
  },
  {
   "cell_type": "code",
   "execution_count": 36,
   "metadata": {
    "ExecuteTime": {
     "end_time": "2022-08-19T16:41:56.429442Z",
     "start_time": "2022-08-19T16:41:56.322829Z"
    }
   },
   "outputs": [
    {
     "data": {
      "image/png": "[encoded data removed]",
      "text/plain": [
       "<Figure size 432x288 with 1 Axes>"
      ]
     },
     "metadata": {},
     "output_type": "display_data"
    }
   ],
   "source": [
    "# group rows by release season, and get medians of each\n",
    "seasonal_medians = imdb_df_c2.groupby(\"release_season\").median()[\"adjusted_worldwide\"]\n",
    "\n",
    "# create barplot w/ custom colors\n",
    "fig, ax = plt.subplots()\n",
    "c = ['sandybrown', 'forestgreen', 'khaki', 'lightblue']\n",
    "ax.bar(seasonal_medians.index, seasonal_medians, color = c)\n",
    "ax.set_title(\"Seasonal Median Worldwide Profit\")\n",
    "ax.set_xlabel(\"Release Season\")\n",
    "ax.set_ylabel(\"Median Worldwide Profit ($)\");"
   ]
  },
  {
   "cell_type": "code",
   "execution_count": 37,
   "metadata": {
    "ExecuteTime": {
     "end_time": "2022-08-19T16:41:56.553460Z",
     "start_time": "2022-08-19T16:41:56.430360Z"
    },
    "scrolled": false
   },
   "outputs": [
    {
     "data": {
      "image/png": "[encoded data removed]",
      "text/plain": [
       "<Figure size 432x288 with 1 Axes>"
      ]
     },
     "metadata": {},
     "output_type": "display_data"
    }
   ],
   "source": [
    "# group rows by release season, and get means of each\n",
    "seasonal_means = imdb_df_c2.groupby(\"release_season\").mean()[\"adjusted_worldwide\"]\n",
    "\n",
    "# create barplot w/ custom colors\n",
    "fig, ax = plt.subplots()\n",
    "c = ['sandybrown', 'forestgreen', 'khaki', 'lightblue']\n",
    "ax.bar(seasonal_means.index, seasonal_means, color = c)\n",
    "ax.set_title(\"Seasonal Mean Worldwide Profit\")\n",
    "ax.set_xlabel(\"Release Season\")\n",
    "ax.set_ylabel(\"Mean Worldwide Profit ($)\");"
   ]
  },
  {
   "cell_type": "code",
   "execution_count": 38,
   "metadata": {
    "ExecuteTime": {
     "end_time": "2022-08-19T16:41:56.723618Z",
     "start_time": "2022-08-19T16:41:56.554467Z"
    },
    "scrolled": true
   },
   "outputs": [
    {
     "data": {
      "image/png": "[encoded data removed]",
      "text/plain": [
       "<Figure size 720x360 with 1 Axes>"
      ]
     },
     "metadata": {},
     "output_type": "display_data"
    }
   ],
   "source": [
    "# Compare profit distribution of warm and cold seasons\n",
    "season_list = []\n",
    "for s in imdb_df_c2[\"release_season\"]:\n",
    "    if (s == \"Winter\") | (s == \"Fall\"):\n",
    "        season_list.append(\"Cold\")\n",
    "    else:\n",
    "        season_list.append(\"Warm\")\n",
    "\n",
    "imdb_df_c2[\"season_split\"] = season_list\n",
    "\n",
    "fig, ax = plt.subplots(figsize = (10,5))\n",
    "sns.boxplot(x='adjusted_worldwide', y='season_split', data= imdb_df_c2)\n",
    "ax.set_xlabel(\"Worldwide Profit ($)\")\n",
    "ax.set_ylabel(\"Season\")\n",
    "ax.set_title(\"Worldwide Profit between Cold and Warm Seasons\");"
   ]
  },
  {
   "cell_type": "markdown",
   "metadata": {},
   "source": [
    "## Hypothesis Testing"
   ]
  },
  {
   "cell_type": "markdown",
   "metadata": {},
   "source": [
    "H0: Movies that release in warmer seasons do not have larger worldwide profit than those released in colder ones.\n",
    "\n",
    "Ha: Movies that release in warmer seasons have larger worldwide profit than those released in colder ones."
   ]
  },
  {
   "cell_type": "code",
   "execution_count": 39,
   "metadata": {
    "ExecuteTime": {
     "end_time": "2022-08-19T16:41:56.739724Z",
     "start_time": "2022-08-19T16:41:56.725620Z"
    }
   },
   "outputs": [],
   "source": [
    "# only rows where season is fall or winter\n",
    "cold_season = imdb_df_c2[(imdb_df_c2[\"release_season\"] == \"Winter\") | \n",
    "                        (imdb_df_c2[\"release_season\"] == \"Fall\")]\n",
    "\n",
    "# only rows where season is spring or summer\n",
    "warm_season = imdb_df_c2.loc[(imdb_df_c2[\"release_season\"] == \"Summer\") | \n",
    "                             (imdb_df_c2[\"release_season\"] == \"Spring\")]"
   ]
  },
  {
   "cell_type": "code",
   "execution_count": 40,
   "metadata": {
    "ExecuteTime": {
     "end_time": "2022-08-19T16:41:56.755295Z",
     "start_time": "2022-08-19T16:41:56.741621Z"
    }
   },
   "outputs": [
    {
     "name": "stdout",
     "output_type": "stream",
     "text": [
      "The t-statistic is 3.9078710753046453.\n",
      "The p-value is 9.908052348640371e-05.\n",
      "We reject the null hypothesis at an alpha level of 0.05.\n"
     ]
    }
   ],
   "source": [
    "results = stats.ttest_ind(warm_season[\"adjusted_worldwide\"], cold_season[\"adjusted_worldwide\"])\n",
    "alpha = 0.05\n",
    "print(\"The t-statistic is {}.\".format(results.statistic))\n",
    "print(\"The p-value is {}.\".format(results.pvalue))\n",
    "if(results.pvalue < alpha): \n",
    "    print(\"We reject the null hypothesis at an alpha level of {}.\".format(alpha))\n",
    "else:\n",
    "    print(\"We fail to reject the null hypothesis at an alpha level of {}.\".format(alpha))"
   ]
  },
  {
   "cell_type": "markdown",
   "metadata": {},
   "source": [
    "# Conclusion"
   ]
  },
  {
   "cell_type": "code",
   "execution_count": 41,
   "metadata": {
    "ExecuteTime": {
     "end_time": "2022-08-19T16:41:56.786224Z",
     "start_time": "2022-08-19T16:41:56.757425Z"
    }
   },
   "outputs": [
    {
     "data": {
      "text/html": [
       "<div>\n",
       "<style scoped>\n",
       "    .dataframe tbody tr th:only-of-type {\n",
       "        vertical-align: middle;\n",
       "    }\n",
       "\n",
       "    .dataframe tbody tr th {\n",
       "        vertical-align: top;\n",
       "    }\n",
       "\n",
       "    .dataframe thead th {\n",
       "        text-align: right;\n",
       "    }\n",
       "</style>\n",
       "<table border=\"1\" class=\"dataframe\">\n",
       "  <thead>\n",
       "    <tr style=\"text-align: right;\">\n",
       "      <th></th>\n",
       "      <th>primary_title</th>\n",
       "      <th>runtime_minutes</th>\n",
       "      <th>season_split</th>\n",
       "      <th>genres_list</th>\n",
       "      <th>adjusted_worldwide</th>\n",
       "    </tr>\n",
       "  </thead>\n",
       "  <tbody>\n",
       "    <tr>\n",
       "      <th>316</th>\n",
       "      <td>The Wolverine</td>\n",
       "      <td>126.0</td>\n",
       "      <td>Warm</td>\n",
       "      <td>[Action, Adventure, Sci-Fi]</td>\n",
       "      <td>301456852</td>\n",
       "    </tr>\n",
       "    <tr>\n",
       "      <th>331</th>\n",
       "      <td>Prometheus</td>\n",
       "      <td>124.0</td>\n",
       "      <td>Warm</td>\n",
       "      <td>[Adventure, Mystery, Sci-Fi]</td>\n",
       "      <td>277448265</td>\n",
       "    </tr>\n",
       "    <tr>\n",
       "      <th>2</th>\n",
       "      <td>Jurassic World</td>\n",
       "      <td>124.0</td>\n",
       "      <td>Warm</td>\n",
       "      <td>[Action, Adventure, Sci-Fi]</td>\n",
       "      <td>1433854864</td>\n",
       "    </tr>\n",
       "    <tr>\n",
       "      <th>215</th>\n",
       "      <td>X-Men: First Class</td>\n",
       "      <td>131.0</td>\n",
       "      <td>Warm</td>\n",
       "      <td>[Action, Adventure, Sci-Fi]</td>\n",
       "      <td>195408305</td>\n",
       "    </tr>\n",
       "    <tr>\n",
       "      <th>576</th>\n",
       "      <td>The Amazing Spider-Man 2</td>\n",
       "      <td>142.0</td>\n",
       "      <td>Warm</td>\n",
       "      <td>[Action, Adventure, Sci-Fi]</td>\n",
       "      <td>508996336</td>\n",
       "    </tr>\n",
       "  </tbody>\n",
       "</table>\n",
       "</div>"
      ],
      "text/plain": [
       "                primary_title  runtime_minutes season_split  \\\n",
       "316             The Wolverine            126.0         Warm   \n",
       "331                Prometheus            124.0         Warm   \n",
       "2              Jurassic World            124.0         Warm   \n",
       "215        X-Men: First Class            131.0         Warm   \n",
       "576  The Amazing Spider-Man 2            142.0         Warm   \n",
       "\n",
       "                      genres_list  adjusted_worldwide  \n",
       "316   [Action, Adventure, Sci-Fi]           301456852  \n",
       "331  [Adventure, Mystery, Sci-Fi]           277448265  \n",
       "2     [Action, Adventure, Sci-Fi]          1433854864  \n",
       "215   [Action, Adventure, Sci-Fi]           195408305  \n",
       "576   [Action, Adventure, Sci-Fi]           508996336  "
      ]
     },
     "execution_count": 41,
     "metadata": {},
     "output_type": "execute_result"
    }
   ],
   "source": [
    "movie_samp = imdb_df_c2.loc[(imdb_df_c2[\"runtime_minutes\"] >= 120) &\n",
    "                           (imdb_df_c2[\"season_split\"] == \"Warm\") & \n",
    "                           [(\"Sci-Fi\" in g) for g in imdb_df_c2[\"genres_list\"]]]\n",
    "movie_samp[[\"primary_title\", \"runtime_minutes\", \"season_split\", \"genres_list\", \n",
    "            \"adjusted_worldwide\"]].sample(n=5, random_state=77777)"
   ]
  },
  {
   "cell_type": "code",
   "execution_count": 42,
   "metadata": {
    "ExecuteTime": {
     "end_time": "2022-08-19T16:41:56.910095Z",
     "start_time": "2022-08-19T16:41:56.788563Z"
    }
   },
   "outputs": [
    {
     "data": {
      "image/png": "[encoded data removed]",
      "text/plain": [
       "<Figure size 720x360 with 1 Axes>"
      ]
     },
     "metadata": {},
     "output_type": "display_data"
    }
   ],
   "source": [
    "fig, ax = plt.subplots(figsize = (10,5))\n",
    "sns.boxplot(x='adjusted_worldwide', data= movie_samp)\n",
    "ax.set_xlabel(\"Worldwide Profit ($)\")\n",
    "ax.set_title(\"Worldwide Profit of Ideal Movies\");"
   ]
  },
  {
   "cell_type": "code",
   "execution_count": 43,
   "metadata": {
    "ExecuteTime": {
     "end_time": "2022-08-19T16:41:57.079640Z",
     "start_time": "2022-08-19T16:41:56.911679Z"
    }
   },
   "outputs": [
    {
     "data": {
      "image/png": "[encoded data removed]",
      "text/plain": [
       "<Figure size 720x360 with 1 Axes>"
      ]
     },
     "metadata": {},
     "output_type": "display_data"
    }
   ],
   "source": [
    "fig, ax = plt.subplots(figsize = (10,5))\n",
    "sns.histplot(x='adjusted_worldwide', data= movie_samp)\n",
    "ax.set_xlabel(\"Worldwide Profit ($)\")\n",
    "ax.set_title(\"Worldwide Profit of Ideal Movies\")\n",
    "plt.axvline(movie_samp[\"adjusted_worldwide\"].median(), color = \"r\")\n",
    "ax.legend(loc='upper right',\\\n",
    "     labels=['Median = ${}M'.format(int(round(movie_samp[\"adjusted_worldwide\"].median()/1000000)))]);"
   ]
  },
  {
   "cell_type": "code",
   "execution_count": 44,
   "metadata": {
    "ExecuteTime": {
     "end_time": "2022-08-19T16:41:57.095490Z",
     "start_time": "2022-08-19T16:41:57.080819Z"
    }
   },
   "outputs": [
    {
     "data": {
      "text/plain": [
       "539822447.24"
      ]
     },
     "execution_count": 44,
     "metadata": {},
     "output_type": "execute_result"
    }
   ],
   "source": [
    "# mean Profit\n",
    "round(movie_samp[\"adjusted_worldwide\"].mean(),2)"
   ]
  },
  {
   "cell_type": "code",
   "execution_count": 45,
   "metadata": {
    "ExecuteTime": {
     "end_time": "2022-08-19T16:41:57.111068Z",
     "start_time": "2022-08-19T16:41:57.099596Z"
    }
   },
   "outputs": [
    {
     "data": {
      "text/plain": [
       "442999518.0"
      ]
     },
     "execution_count": 45,
     "metadata": {},
     "output_type": "execute_result"
    }
   ],
   "source": [
    "# median Profit\n",
    "round(movie_samp[\"adjusted_worldwide\"].median(),2)"
   ]
  },
  {
   "cell_type": "code",
   "execution_count": 46,
   "metadata": {
    "ExecuteTime": {
     "end_time": "2022-08-19T16:41:57.126391Z",
     "start_time": "2022-08-19T16:41:57.113083Z"
    }
   },
   "outputs": [
    {
     "data": {
      "text/plain": [
       "484163444.0"
      ]
     },
     "execution_count": 46,
     "metadata": {},
     "output_type": "execute_result"
    }
   ],
   "source": [
    "# IQR of Profit\n",
    "round(movie_samp[\"adjusted_worldwide\"].quantile(.75),2) - round(movie_samp[\"adjusted_worldwide\"].quantile(.25),2)"
   ]
  },
  {
   "cell_type": "code",
   "execution_count": 47,
   "metadata": {
    "ExecuteTime": {
     "end_time": "2022-08-19T16:41:57.142281Z",
     "start_time": "2022-08-19T16:41:57.128722Z"
    }
   },
   "outputs": [],
   "source": [
    "conn.close()"
   ]
  },
  {
   "cell_type": "code",
   "execution_count": null,
   "metadata": {},
   "outputs": [],
   "source": []
  }
 ],
 "metadata": {
  "kernelspec": {
   "display_name": "Python 3",
   "language": "python",
   "name": "python3"
  },
  "language_info": {
   "codemirror_mode": {
    "name": "ipython",
    "version": 3
   },
   "file_extension": ".py",
   "mimetype": "text/x-python",
   "name": "python",
   "nbconvert_exporter": "python",
   "pygments_lexer": "ipython3",
   "version": "3.8.5"
  },
  "toc": {
   "base_numbering": 1,
   "nav_menu": {
    "height": "195px",
    "width": "279.987px"
   },
   "number_sections": false,
   "sideBar": true,
   "skip_h1_title": false,
   "title_cell": "Table of Contents",
   "title_sidebar": "Contents",
   "toc_cell": false,
   "toc_position": {},
   "toc_section_display": true,
   "toc_window_display": true
  },
  "varInspector": {
   "cols": {
    "lenName": 16,
    "lenType": 16,
    "lenVar": 40
   },
   "kernels_config": {
    "python": {
     "delete_cmd_postfix": "",
     "delete_cmd_prefix": "del ",
     "library": "var_list.py",
     "varRefreshCmd": "print(var_dic_list())"
    },
    "r": {
     "delete_cmd_postfix": ") ",
     "delete_cmd_prefix": "rm(",
     "library": "var_list.r",
     "varRefreshCmd": "cat(var_dic_list()) "
    }
   },
   "types_to_exclude": [
    "module",
    "function",
    "builtin_function_or_method",
    "instance",
    "_Feature"
   ],
   "window_display": false
  },
  "vscode": {
   "interpreter": {
    "hash": "aee8b7b246df8f9039afb4144a1f6fd8d2ca17a180786b69acc140d282b71a49"
   }
  }
 },
 "nbformat": 4,
 "nbformat_minor": 2
}
