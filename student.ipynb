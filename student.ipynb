{
 "cells": [
  {
   "cell_type": "markdown",
   "metadata": {},
   "source": [
    "## Semester 1 Project Submission\n",
    "\n",
    "Please fill out:\n",
    "* Student name: \n",
    "* Instructor name: \n"
   ]
  },
  {
   "cell_type": "code",
   "execution_count": 1,
   "metadata": {
    "ExecuteTime": {
     "end_time": "2022-08-17T18:35:08.441195Z",
     "start_time": "2022-08-17T18:35:08.424597Z"
    }
   },
   "outputs": [],
   "source": [
    "# Your code here - remember to use markdown cells for comments as well!"
   ]
  },
  {
   "cell_type": "code",
   "execution_count": 2,
   "metadata": {
    "ExecuteTime": {
     "end_time": "2022-08-17T18:35:09.497241Z",
     "start_time": "2022-08-17T18:35:08.442578Z"
    }
   },
   "outputs": [],
   "source": [
    "import pandas as pd\n",
    "import numpy as np\n",
    "import sqlite3\n",
    "import scipy.stats as stats\n",
    "import matplotlib.pyplot as plt\n",
    "import seaborn as sns\n",
    "import math\n",
    "%matplotlib inline\n",
    "# You'll need to unzip the db locally.\n",
    "conn = sqlite3.connect('zippedData/im.db')"
   ]
  },
  {
   "cell_type": "markdown",
   "metadata": {},
   "source": [
    "# Habib Khadri"
   ]
  },
  {
   "cell_type": "code",
   "execution_count": null,
   "metadata": {},
   "outputs": [],
   "source": []
  },
  {
   "cell_type": "markdown",
   "metadata": {},
   "source": [
    "# Nick Kirbabas"
   ]
  },
  {
   "cell_type": "code",
   "execution_count": null,
   "metadata": {},
   "outputs": [],
   "source": []
  },
  {
   "cell_type": "markdown",
   "metadata": {},
   "source": [
    "# Seerat Mutneja"
   ]
  },
  {
   "cell_type": "code",
   "execution_count": null,
   "metadata": {},
   "outputs": [],
   "source": []
  },
  {
   "cell_type": "markdown",
   "metadata": {},
   "source": [
    "# Sidhya Raman"
   ]
  },
  {
   "cell_type": "code",
   "execution_count": null,
   "metadata": {},
   "outputs": [],
   "source": []
  },
  {
   "cell_type": "markdown",
   "metadata": {},
   "source": [
    "# Douglas Riggs"
   ]
  },
  {
   "cell_type": "code",
   "execution_count": 3,
   "metadata": {
    "ExecuteTime": {
     "end_time": "2022-08-17T18:35:09.574602Z",
     "start_time": "2022-08-17T18:35:09.499701Z"
    }
   },
   "outputs": [
    {
     "data": {
      "text/html": [
       "<div>\n",
       "<style scoped>\n",
       "    .dataframe tbody tr th:only-of-type {\n",
       "        vertical-align: middle;\n",
       "    }\n",
       "\n",
       "    .dataframe tbody tr th {\n",
       "        vertical-align: top;\n",
       "    }\n",
       "\n",
       "    .dataframe thead th {\n",
       "        text-align: right;\n",
       "    }\n",
       "</style>\n",
       "<table border=\"1\" class=\"dataframe\">\n",
       "  <thead>\n",
       "    <tr style=\"text-align: right;\">\n",
       "      <th></th>\n",
       "      <th>name</th>\n",
       "    </tr>\n",
       "  </thead>\n",
       "  <tbody>\n",
       "    <tr>\n",
       "      <th>0</th>\n",
       "      <td>movie_basics</td>\n",
       "    </tr>\n",
       "    <tr>\n",
       "      <th>1</th>\n",
       "      <td>directors</td>\n",
       "    </tr>\n",
       "    <tr>\n",
       "      <th>2</th>\n",
       "      <td>known_for</td>\n",
       "    </tr>\n",
       "    <tr>\n",
       "      <th>3</th>\n",
       "      <td>movie_akas</td>\n",
       "    </tr>\n",
       "    <tr>\n",
       "      <th>4</th>\n",
       "      <td>movie_ratings</td>\n",
       "    </tr>\n",
       "    <tr>\n",
       "      <th>5</th>\n",
       "      <td>persons</td>\n",
       "    </tr>\n",
       "    <tr>\n",
       "      <th>6</th>\n",
       "      <td>principals</td>\n",
       "    </tr>\n",
       "    <tr>\n",
       "      <th>7</th>\n",
       "      <td>writers</td>\n",
       "    </tr>\n",
       "  </tbody>\n",
       "</table>\n",
       "</div>"
      ],
      "text/plain": [
       "            name\n",
       "0   movie_basics\n",
       "1      directors\n",
       "2      known_for\n",
       "3     movie_akas\n",
       "4  movie_ratings\n",
       "5        persons\n",
       "6     principals\n",
       "7        writers"
      ]
     },
     "execution_count": 3,
     "metadata": {},
     "output_type": "execute_result"
    }
   ],
   "source": [
    "pd.read_sql('''\n",
    "SELECT \n",
    "    name\n",
    "FROM \n",
    "    sqlite_schema\n",
    "WHERE \n",
    "    type ='table' AND \n",
    "    name NOT LIKE 'sqlite_%';\n",
    "''',conn)"
   ]
  },
  {
   "cell_type": "markdown",
   "metadata": {},
   "source": [
    "# Andrew Yang"
   ]
  },
  {
   "cell_type": "markdown",
   "metadata": {},
   "source": [
    "## Data Exploration & Cleaning"
   ]
  },
  {
   "cell_type": "code",
   "execution_count": 4,
   "metadata": {
    "ExecuteTime": {
     "end_time": "2022-08-17T18:35:09.713336Z",
     "start_time": "2022-08-17T18:35:09.579025Z"
    }
   },
   "outputs": [
    {
     "data": {
      "text/html": [
       "<div>\n",
       "<style scoped>\n",
       "    .dataframe tbody tr th:only-of-type {\n",
       "        vertical-align: middle;\n",
       "    }\n",
       "\n",
       "    .dataframe tbody tr th {\n",
       "        vertical-align: top;\n",
       "    }\n",
       "\n",
       "    .dataframe thead th {\n",
       "        text-align: right;\n",
       "    }\n",
       "</style>\n",
       "<table border=\"1\" class=\"dataframe\">\n",
       "  <thead>\n",
       "    <tr style=\"text-align: right;\">\n",
       "      <th></th>\n",
       "      <th>release_date</th>\n",
       "      <th>movie</th>\n",
       "      <th>production_budget</th>\n",
       "      <th>domestic_gross</th>\n",
       "      <th>worldwide_gross</th>\n",
       "      <th>datetime</th>\n",
       "      <th>release_weeknum</th>\n",
       "      <th>release_weekday</th>\n",
       "      <th>release_month</th>\n",
       "      <th>release_year</th>\n",
       "      <th>weekend</th>\n",
       "    </tr>\n",
       "  </thead>\n",
       "  <tbody>\n",
       "    <tr>\n",
       "      <th>0</th>\n",
       "      <td>Dec 18, 2009</td>\n",
       "      <td>Avatar</td>\n",
       "      <td>425000000</td>\n",
       "      <td>760507625</td>\n",
       "      <td>2776345279</td>\n",
       "      <td>2009-12-18</td>\n",
       "      <td>51</td>\n",
       "      <td>4</td>\n",
       "      <td>12</td>\n",
       "      <td>2009</td>\n",
       "      <td>0</td>\n",
       "    </tr>\n",
       "    <tr>\n",
       "      <th>1</th>\n",
       "      <td>May 20, 2011</td>\n",
       "      <td>Pirates of the Caribbean: On Stranger Tides</td>\n",
       "      <td>410600000</td>\n",
       "      <td>241063875</td>\n",
       "      <td>1045663875</td>\n",
       "      <td>2011-05-20</td>\n",
       "      <td>20</td>\n",
       "      <td>4</td>\n",
       "      <td>5</td>\n",
       "      <td>2011</td>\n",
       "      <td>0</td>\n",
       "    </tr>\n",
       "    <tr>\n",
       "      <th>2</th>\n",
       "      <td>Jun 7, 2019</td>\n",
       "      <td>Dark Phoenix</td>\n",
       "      <td>350000000</td>\n",
       "      <td>42762350</td>\n",
       "      <td>149762350</td>\n",
       "      <td>2019-06-07</td>\n",
       "      <td>23</td>\n",
       "      <td>4</td>\n",
       "      <td>6</td>\n",
       "      <td>2019</td>\n",
       "      <td>0</td>\n",
       "    </tr>\n",
       "    <tr>\n",
       "      <th>3</th>\n",
       "      <td>May 1, 2015</td>\n",
       "      <td>Avengers: Age of Ultron</td>\n",
       "      <td>330600000</td>\n",
       "      <td>459005868</td>\n",
       "      <td>1403013963</td>\n",
       "      <td>2015-05-01</td>\n",
       "      <td>18</td>\n",
       "      <td>4</td>\n",
       "      <td>5</td>\n",
       "      <td>2015</td>\n",
       "      <td>0</td>\n",
       "    </tr>\n",
       "    <tr>\n",
       "      <th>4</th>\n",
       "      <td>Dec 15, 2017</td>\n",
       "      <td>Star Wars Ep. VIII: The Last Jedi</td>\n",
       "      <td>317000000</td>\n",
       "      <td>620181382</td>\n",
       "      <td>1316721747</td>\n",
       "      <td>2017-12-15</td>\n",
       "      <td>50</td>\n",
       "      <td>4</td>\n",
       "      <td>12</td>\n",
       "      <td>2017</td>\n",
       "      <td>0</td>\n",
       "    </tr>\n",
       "  </tbody>\n",
       "</table>\n",
       "</div>"
      ],
      "text/plain": [
       "   release_date                                        movie  \\\n",
       "0  Dec 18, 2009                                       Avatar   \n",
       "1  May 20, 2011  Pirates of the Caribbean: On Stranger Tides   \n",
       "2   Jun 7, 2019                                 Dark Phoenix   \n",
       "3   May 1, 2015                      Avengers: Age of Ultron   \n",
       "4  Dec 15, 2017            Star Wars Ep. VIII: The Last Jedi   \n",
       "\n",
       "   production_budget  domestic_gross  worldwide_gross   datetime  \\\n",
       "0          425000000       760507625       2776345279 2009-12-18   \n",
       "1          410600000       241063875       1045663875 2011-05-20   \n",
       "2          350000000        42762350        149762350 2019-06-07   \n",
       "3          330600000       459005868       1403013963 2015-05-01   \n",
       "4          317000000       620181382       1316721747 2017-12-15   \n",
       "\n",
       "   release_weeknum  release_weekday  release_month  release_year  weekend  \n",
       "0               51                4             12          2009        0  \n",
       "1               20                4              5          2011        0  \n",
       "2               23                4              6          2019        0  \n",
       "3               18                4              5          2015        0  \n",
       "4               50                4             12          2017        0  "
      ]
     },
     "execution_count": 4,
     "metadata": {},
     "output_type": "execute_result"
    }
   ],
   "source": [
    "# nab the tn dataset and clean up columns regarding budget and gross profit\n",
    "from datetime import datetime\n",
    "tn_df = pd.read_csv(\"zippedData/tn.movie_budgets.csv.gz\").drop(\"id\", axis = 1)\n",
    "tn_df[\"production_budget\"].replace([\"\\$\",\",\"], \"\", regex = True, inplace = True)\n",
    "tn_df[\"domestic_gross\"].replace([\"\\$\",\",\"], \"\", regex = True, inplace = True)\n",
    "tn_df[\"worldwide_gross\"].replace([\"\\$\",\",\"], \"\", regex = True, inplace = True)\n",
    "\n",
    "# convert budget and profit columns to numeric\n",
    "cols = [\"production_budget\",\"domestic_gross\",\"worldwide_gross\"]\n",
    "tn_df[cols] = tn_df[cols].apply(pd.to_numeric)\n",
    "\n",
    "# created new columns to grab date information (day, week of year, month, etc.)\n",
    "tn_df[\"datetime\"] = [datetime.strptime(d, \"%b %d, %Y\") for d in tn_df[\"release_date\"]]\n",
    "tn_df[\"release_weeknum\"] = [d.isocalendar()[1] for d in tn_df[\"datetime\"]]\n",
    "tn_df[\"release_weekday\"] = [d.weekday() for d in tn_df[\"datetime\"]]\n",
    "tn_df[\"release_month\"] = [d.month for d in tn_df[\"datetime\"]]\n",
    "tn_df[\"release_year\"] = [d.year for d in tn_df[\"datetime\"]]\n",
    "\n",
    "# calc movie seasonal info (came out on a weekend, calander season)\n",
    "tn_df[\"weekend\"]  = np.where((tn_df[\"release_weekday\"]== 5) |\n",
    "                                  (tn_df[\"release_weekday\"]== 6),\n",
    "                                    1, 0)   \n",
    "\n",
    "tn_df.head(5)"
   ]
  },
  {
   "cell_type": "code",
   "execution_count": 5,
   "metadata": {
    "ExecuteTime": {
     "end_time": "2022-08-17T18:35:09.728588Z",
     "start_time": "2022-08-17T18:35:09.714348Z"
    }
   },
   "outputs": [],
   "source": [
    "# null check\n",
    "#tn_df.info()"
   ]
  },
  {
   "cell_type": "code",
   "execution_count": 6,
   "metadata": {
    "ExecuteTime": {
     "end_time": "2022-08-17T18:35:09.775080Z",
     "start_time": "2022-08-17T18:35:09.730195Z"
    }
   },
   "outputs": [
    {
     "data": {
      "text/html": [
       "<div>\n",
       "<style scoped>\n",
       "    .dataframe tbody tr th:only-of-type {\n",
       "        vertical-align: middle;\n",
       "    }\n",
       "\n",
       "    .dataframe tbody tr th {\n",
       "        vertical-align: top;\n",
       "    }\n",
       "\n",
       "    .dataframe thead th {\n",
       "        text-align: right;\n",
       "    }\n",
       "</style>\n",
       "<table border=\"1\" class=\"dataframe\">\n",
       "  <thead>\n",
       "    <tr style=\"text-align: right;\">\n",
       "      <th></th>\n",
       "      <th>title</th>\n",
       "      <th>studio</th>\n",
       "      <th>domestic_gross</th>\n",
       "      <th>foreign_gross</th>\n",
       "      <th>year</th>\n",
       "    </tr>\n",
       "  </thead>\n",
       "  <tbody>\n",
       "    <tr>\n",
       "      <th>0</th>\n",
       "      <td>Toy Story 3</td>\n",
       "      <td>BV</td>\n",
       "      <td>415000000.0</td>\n",
       "      <td>652000000.0</td>\n",
       "      <td>2010</td>\n",
       "    </tr>\n",
       "    <tr>\n",
       "      <th>1</th>\n",
       "      <td>Alice in Wonderland (2010)</td>\n",
       "      <td>BV</td>\n",
       "      <td>334200000.0</td>\n",
       "      <td>691300000.0</td>\n",
       "      <td>2010</td>\n",
       "    </tr>\n",
       "    <tr>\n",
       "      <th>2</th>\n",
       "      <td>Harry Potter and the Deathly Hallows Part 1</td>\n",
       "      <td>WB</td>\n",
       "      <td>296000000.0</td>\n",
       "      <td>664300000.0</td>\n",
       "      <td>2010</td>\n",
       "    </tr>\n",
       "    <tr>\n",
       "      <th>3</th>\n",
       "      <td>Inception</td>\n",
       "      <td>WB</td>\n",
       "      <td>292600000.0</td>\n",
       "      <td>535700000.0</td>\n",
       "      <td>2010</td>\n",
       "    </tr>\n",
       "    <tr>\n",
       "      <th>4</th>\n",
       "      <td>Shrek Forever After</td>\n",
       "      <td>P/DW</td>\n",
       "      <td>238700000.0</td>\n",
       "      <td>513900000.0</td>\n",
       "      <td>2010</td>\n",
       "    </tr>\n",
       "  </tbody>\n",
       "</table>\n",
       "</div>"
      ],
      "text/plain": [
       "                                         title studio  domestic_gross  \\\n",
       "0                                  Toy Story 3     BV     415000000.0   \n",
       "1                   Alice in Wonderland (2010)     BV     334200000.0   \n",
       "2  Harry Potter and the Deathly Hallows Part 1     WB     296000000.0   \n",
       "3                                    Inception     WB     292600000.0   \n",
       "4                          Shrek Forever After   P/DW     238700000.0   \n",
       "\n",
       "   foreign_gross  year  \n",
       "0    652000000.0  2010  \n",
       "1    691300000.0  2010  \n",
       "2    664300000.0  2010  \n",
       "3    535700000.0  2010  \n",
       "4    513900000.0  2010  "
      ]
     },
     "execution_count": 6,
     "metadata": {},
     "output_type": "execute_result"
    }
   ],
   "source": [
    "# cleaned up dataset by gathering gross profit values and dropping NaN studios\n",
    "bom_df = pd.read_csv(\"zippedData/bom.movie_gross.csv.gz\")\n",
    "bom_df[\"foreign_gross\"].replace(\",\",\"\", regex = True, inplace = True)\n",
    "bom_df[\"foreign_gross\"] = pd.to_numeric(bom_df[\"foreign_gross\"])\n",
    "bom_df[\"foreign_gross\"].fillna(bom_df[\"foreign_gross\"].median(), inplace = True)\n",
    "bom_df[\"domestic_gross\"].fillna(bom_df[\"domestic_gross\"].median(), inplace = True)\n",
    "bom_df.dropna(subset = [\"studio\"], inplace = True)\n",
    "bom_df.head(5)"
   ]
  },
  {
   "cell_type": "code",
   "execution_count": 7,
   "metadata": {
    "ExecuteTime": {
     "end_time": "2022-08-17T18:35:09.790837Z",
     "start_time": "2022-08-17T18:35:09.776995Z"
    }
   },
   "outputs": [],
   "source": [
    "#bom_df.info()"
   ]
  },
  {
   "cell_type": "code",
   "execution_count": 8,
   "metadata": {
    "ExecuteTime": {
     "end_time": "2022-08-17T18:35:10.257484Z",
     "start_time": "2022-08-17T18:35:09.792956Z"
    }
   },
   "outputs": [],
   "source": [
    "# Grab movie basics info along with average ratings for each from imdb dataset\n",
    "imdb_df = pd.read_sql('''\n",
    "SELECT *\n",
    "FROM movie_basics\n",
    "    INNER JOIN movie_ratings USING(\"movie_id\")\n",
    "''',conn)"
   ]
  },
  {
   "cell_type": "code",
   "execution_count": 9,
   "metadata": {
    "ExecuteTime": {
     "end_time": "2022-08-17T18:35:10.443419Z",
     "start_time": "2022-08-17T18:35:10.259041Z"
    }
   },
   "outputs": [
    {
     "data": {
      "text/html": [
       "<div>\n",
       "<style scoped>\n",
       "    .dataframe tbody tr th:only-of-type {\n",
       "        vertical-align: middle;\n",
       "    }\n",
       "\n",
       "    .dataframe tbody tr th {\n",
       "        vertical-align: top;\n",
       "    }\n",
       "\n",
       "    .dataframe thead th {\n",
       "        text-align: right;\n",
       "    }\n",
       "</style>\n",
       "<table border=\"1\" class=\"dataframe\">\n",
       "  <thead>\n",
       "    <tr style=\"text-align: right;\">\n",
       "      <th></th>\n",
       "      <th>movie_id</th>\n",
       "      <th>primary_title</th>\n",
       "      <th>original_title</th>\n",
       "      <th>start_year</th>\n",
       "      <th>runtime_minutes</th>\n",
       "      <th>genres</th>\n",
       "      <th>averagerating</th>\n",
       "      <th>numvotes</th>\n",
       "      <th>genres_list</th>\n",
       "      <th>genres_count</th>\n",
       "    </tr>\n",
       "  </thead>\n",
       "  <tbody>\n",
       "    <tr>\n",
       "      <th>0</th>\n",
       "      <td>tt0063540</td>\n",
       "      <td>Sunghursh</td>\n",
       "      <td>Sunghursh</td>\n",
       "      <td>2013</td>\n",
       "      <td>175.000000</td>\n",
       "      <td>Action,Crime,Drama</td>\n",
       "      <td>7.0</td>\n",
       "      <td>77</td>\n",
       "      <td>[Action, Crime, Drama]</td>\n",
       "      <td>3</td>\n",
       "    </tr>\n",
       "    <tr>\n",
       "      <th>1</th>\n",
       "      <td>tt0066787</td>\n",
       "      <td>One Day Before the Rainy Season</td>\n",
       "      <td>Ashad Ka Ek Din</td>\n",
       "      <td>2019</td>\n",
       "      <td>114.000000</td>\n",
       "      <td>Biography,Drama</td>\n",
       "      <td>7.2</td>\n",
       "      <td>43</td>\n",
       "      <td>[Biography, Drama]</td>\n",
       "      <td>2</td>\n",
       "    </tr>\n",
       "    <tr>\n",
       "      <th>2</th>\n",
       "      <td>tt0069049</td>\n",
       "      <td>The Other Side of the Wind</td>\n",
       "      <td>The Other Side of the Wind</td>\n",
       "      <td>2018</td>\n",
       "      <td>122.000000</td>\n",
       "      <td>Drama</td>\n",
       "      <td>6.9</td>\n",
       "      <td>4517</td>\n",
       "      <td>[Drama]</td>\n",
       "      <td>1</td>\n",
       "    </tr>\n",
       "    <tr>\n",
       "      <th>3</th>\n",
       "      <td>tt0069204</td>\n",
       "      <td>Sabse Bada Sukh</td>\n",
       "      <td>Sabse Bada Sukh</td>\n",
       "      <td>2018</td>\n",
       "      <td>94.732273</td>\n",
       "      <td>Comedy,Drama</td>\n",
       "      <td>6.1</td>\n",
       "      <td>13</td>\n",
       "      <td>[Comedy, Drama]</td>\n",
       "      <td>2</td>\n",
       "    </tr>\n",
       "    <tr>\n",
       "      <th>4</th>\n",
       "      <td>tt0100275</td>\n",
       "      <td>The Wandering Soap Opera</td>\n",
       "      <td>La Telenovela Errante</td>\n",
       "      <td>2017</td>\n",
       "      <td>80.000000</td>\n",
       "      <td>Comedy,Drama,Fantasy</td>\n",
       "      <td>6.5</td>\n",
       "      <td>119</td>\n",
       "      <td>[Comedy, Drama, Fantasy]</td>\n",
       "      <td>3</td>\n",
       "    </tr>\n",
       "    <tr>\n",
       "      <th>...</th>\n",
       "      <td>...</td>\n",
       "      <td>...</td>\n",
       "      <td>...</td>\n",
       "      <td>...</td>\n",
       "      <td>...</td>\n",
       "      <td>...</td>\n",
       "      <td>...</td>\n",
       "      <td>...</td>\n",
       "      <td>...</td>\n",
       "      <td>...</td>\n",
       "    </tr>\n",
       "    <tr>\n",
       "      <th>73850</th>\n",
       "      <td>tt9913056</td>\n",
       "      <td>Swarm Season</td>\n",
       "      <td>Swarm Season</td>\n",
       "      <td>2019</td>\n",
       "      <td>86.000000</td>\n",
       "      <td>Documentary</td>\n",
       "      <td>6.2</td>\n",
       "      <td>5</td>\n",
       "      <td>[Documentary]</td>\n",
       "      <td>1</td>\n",
       "    </tr>\n",
       "    <tr>\n",
       "      <th>73851</th>\n",
       "      <td>tt9913084</td>\n",
       "      <td>Diabolik sono io</td>\n",
       "      <td>Diabolik sono io</td>\n",
       "      <td>2019</td>\n",
       "      <td>75.000000</td>\n",
       "      <td>Documentary</td>\n",
       "      <td>6.2</td>\n",
       "      <td>6</td>\n",
       "      <td>[Documentary]</td>\n",
       "      <td>1</td>\n",
       "    </tr>\n",
       "    <tr>\n",
       "      <th>73852</th>\n",
       "      <td>tt9914286</td>\n",
       "      <td>Sokagin Çocuklari</td>\n",
       "      <td>Sokagin Çocuklari</td>\n",
       "      <td>2019</td>\n",
       "      <td>98.000000</td>\n",
       "      <td>Drama,Family</td>\n",
       "      <td>8.7</td>\n",
       "      <td>136</td>\n",
       "      <td>[Drama, Family]</td>\n",
       "      <td>2</td>\n",
       "    </tr>\n",
       "    <tr>\n",
       "      <th>73853</th>\n",
       "      <td>tt9914642</td>\n",
       "      <td>Albatross</td>\n",
       "      <td>Albatross</td>\n",
       "      <td>2017</td>\n",
       "      <td>94.732273</td>\n",
       "      <td>Documentary</td>\n",
       "      <td>8.5</td>\n",
       "      <td>8</td>\n",
       "      <td>[Documentary]</td>\n",
       "      <td>1</td>\n",
       "    </tr>\n",
       "    <tr>\n",
       "      <th>73855</th>\n",
       "      <td>tt9916160</td>\n",
       "      <td>Drømmeland</td>\n",
       "      <td>Drømmeland</td>\n",
       "      <td>2019</td>\n",
       "      <td>72.000000</td>\n",
       "      <td>Documentary</td>\n",
       "      <td>6.5</td>\n",
       "      <td>11</td>\n",
       "      <td>[Documentary]</td>\n",
       "      <td>1</td>\n",
       "    </tr>\n",
       "  </tbody>\n",
       "</table>\n",
       "<p>73009 rows × 10 columns</p>\n",
       "</div>"
      ],
      "text/plain": [
       "        movie_id                    primary_title              original_title  \\\n",
       "0      tt0063540                        Sunghursh                   Sunghursh   \n",
       "1      tt0066787  One Day Before the Rainy Season             Ashad Ka Ek Din   \n",
       "2      tt0069049       The Other Side of the Wind  The Other Side of the Wind   \n",
       "3      tt0069204                  Sabse Bada Sukh             Sabse Bada Sukh   \n",
       "4      tt0100275         The Wandering Soap Opera       La Telenovela Errante   \n",
       "...          ...                              ...                         ...   \n",
       "73850  tt9913056                     Swarm Season                Swarm Season   \n",
       "73851  tt9913084                 Diabolik sono io            Diabolik sono io   \n",
       "73852  tt9914286                Sokagin Çocuklari           Sokagin Çocuklari   \n",
       "73853  tt9914642                        Albatross                   Albatross   \n",
       "73855  tt9916160                       Drømmeland                  Drømmeland   \n",
       "\n",
       "       start_year  runtime_minutes                genres  averagerating  \\\n",
       "0            2013       175.000000    Action,Crime,Drama            7.0   \n",
       "1            2019       114.000000       Biography,Drama            7.2   \n",
       "2            2018       122.000000                 Drama            6.9   \n",
       "3            2018        94.732273          Comedy,Drama            6.1   \n",
       "4            2017        80.000000  Comedy,Drama,Fantasy            6.5   \n",
       "...           ...              ...                   ...            ...   \n",
       "73850        2019        86.000000           Documentary            6.2   \n",
       "73851        2019        75.000000           Documentary            6.2   \n",
       "73852        2019        98.000000          Drama,Family            8.7   \n",
       "73853        2017        94.732273           Documentary            8.5   \n",
       "73855        2019        72.000000           Documentary            6.5   \n",
       "\n",
       "       numvotes               genres_list  genres_count  \n",
       "0            77    [Action, Crime, Drama]             3  \n",
       "1            43        [Biography, Drama]             2  \n",
       "2          4517                   [Drama]             1  \n",
       "3            13           [Comedy, Drama]             2  \n",
       "4           119  [Comedy, Drama, Fantasy]             3  \n",
       "...         ...                       ...           ...  \n",
       "73850         5             [Documentary]             1  \n",
       "73851         6             [Documentary]             1  \n",
       "73852       136           [Drama, Family]             2  \n",
       "73853         8             [Documentary]             1  \n",
       "73855        11             [Documentary]             1  \n",
       "\n",
       "[73009 rows x 10 columns]"
      ]
     },
     "execution_count": 9,
     "metadata": {},
     "output_type": "execute_result"
    }
   ],
   "source": [
    "# Data cleaning to get genre count and runtime minutes\n",
    "imdb_df.dropna(subset = [\"genres\"], inplace = True)\n",
    "imdb_df[\"runtime_minutes\"] = imdb_df[\"runtime_minutes\"].fillna(imdb_df[\"runtime_minutes\"].mean())\n",
    "imdb_df[\"genres_list\"] = [gs.split(\",\") for gs in imdb_df[\"genres\"]]\n",
    "imdb_df[\"genres_count\"] = [len(gs) for gs in imdb_df[\"genres_list\"]]\n",
    "imdb_df = imdb_df[imdb_df[\"runtime_minutes\"] <= 300]\n",
    "imdb_df"
   ]
  },
  {
   "cell_type": "code",
   "execution_count": 10,
   "metadata": {
    "ExecuteTime": {
     "end_time": "2022-08-17T18:35:10.505426Z",
     "start_time": "2022-08-17T18:35:10.444906Z"
    }
   },
   "outputs": [
    {
     "data": {
      "text/html": [
       "<div>\n",
       "<style scoped>\n",
       "    .dataframe tbody tr th:only-of-type {\n",
       "        vertical-align: middle;\n",
       "    }\n",
       "\n",
       "    .dataframe tbody tr th {\n",
       "        vertical-align: top;\n",
       "    }\n",
       "\n",
       "    .dataframe thead th {\n",
       "        text-align: right;\n",
       "    }\n",
       "</style>\n",
       "<table border=\"1\" class=\"dataframe\">\n",
       "  <thead>\n",
       "    <tr style=\"text-align: right;\">\n",
       "      <th></th>\n",
       "      <th>movie_id</th>\n",
       "      <th>primary_title</th>\n",
       "      <th>original_title</th>\n",
       "      <th>start_year</th>\n",
       "      <th>runtime_minutes</th>\n",
       "      <th>genres</th>\n",
       "      <th>averagerating</th>\n",
       "      <th>numvotes</th>\n",
       "      <th>genres_list</th>\n",
       "      <th>genres_count</th>\n",
       "      <th>title</th>\n",
       "      <th>studio</th>\n",
       "      <th>domestic_gross</th>\n",
       "      <th>foreign_gross</th>\n",
       "      <th>year</th>\n",
       "    </tr>\n",
       "  </thead>\n",
       "  <tbody>\n",
       "    <tr>\n",
       "      <th>0</th>\n",
       "      <td>tt0315642</td>\n",
       "      <td>Wazir</td>\n",
       "      <td>Wazir</td>\n",
       "      <td>2016</td>\n",
       "      <td>103.0</td>\n",
       "      <td>Action,Crime,Drama</td>\n",
       "      <td>7.1</td>\n",
       "      <td>15378</td>\n",
       "      <td>[Action, Crime, Drama]</td>\n",
       "      <td>3</td>\n",
       "      <td>Wazir</td>\n",
       "      <td>Relbig.</td>\n",
       "      <td>1100000.0</td>\n",
       "      <td>18700000.0</td>\n",
       "      <td>2016</td>\n",
       "    </tr>\n",
       "    <tr>\n",
       "      <th>1</th>\n",
       "      <td>tt0337692</td>\n",
       "      <td>On the Road</td>\n",
       "      <td>On the Road</td>\n",
       "      <td>2012</td>\n",
       "      <td>124.0</td>\n",
       "      <td>Adventure,Drama,Romance</td>\n",
       "      <td>6.1</td>\n",
       "      <td>37886</td>\n",
       "      <td>[Adventure, Drama, Romance]</td>\n",
       "      <td>3</td>\n",
       "      <td>On the Road</td>\n",
       "      <td>IFC</td>\n",
       "      <td>744000.0</td>\n",
       "      <td>8000000.0</td>\n",
       "      <td>2012</td>\n",
       "    </tr>\n",
       "    <tr>\n",
       "      <th>2</th>\n",
       "      <td>tt0359950</td>\n",
       "      <td>The Secret Life of Walter Mitty</td>\n",
       "      <td>The Secret Life of Walter Mitty</td>\n",
       "      <td>2013</td>\n",
       "      <td>114.0</td>\n",
       "      <td>Adventure,Comedy,Drama</td>\n",
       "      <td>7.3</td>\n",
       "      <td>275300</td>\n",
       "      <td>[Adventure, Comedy, Drama]</td>\n",
       "      <td>3</td>\n",
       "      <td>The Secret Life of Walter Mitty</td>\n",
       "      <td>Fox</td>\n",
       "      <td>58200000.0</td>\n",
       "      <td>129900000.0</td>\n",
       "      <td>2013</td>\n",
       "    </tr>\n",
       "    <tr>\n",
       "      <th>3</th>\n",
       "      <td>tt0365907</td>\n",
       "      <td>A Walk Among the Tombstones</td>\n",
       "      <td>A Walk Among the Tombstones</td>\n",
       "      <td>2014</td>\n",
       "      <td>114.0</td>\n",
       "      <td>Action,Crime,Drama</td>\n",
       "      <td>6.5</td>\n",
       "      <td>105116</td>\n",
       "      <td>[Action, Crime, Drama]</td>\n",
       "      <td>3</td>\n",
       "      <td>A Walk Among the Tombstones</td>\n",
       "      <td>Uni.</td>\n",
       "      <td>26300000.0</td>\n",
       "      <td>26900000.0</td>\n",
       "      <td>2014</td>\n",
       "    </tr>\n",
       "    <tr>\n",
       "      <th>4</th>\n",
       "      <td>tt0369610</td>\n",
       "      <td>Jurassic World</td>\n",
       "      <td>Jurassic World</td>\n",
       "      <td>2015</td>\n",
       "      <td>124.0</td>\n",
       "      <td>Action,Adventure,Sci-Fi</td>\n",
       "      <td>7.0</td>\n",
       "      <td>539338</td>\n",
       "      <td>[Action, Adventure, Sci-Fi]</td>\n",
       "      <td>3</td>\n",
       "      <td>Jurassic World</td>\n",
       "      <td>Uni.</td>\n",
       "      <td>652300000.0</td>\n",
       "      <td>1019.4</td>\n",
       "      <td>2015</td>\n",
       "    </tr>\n",
       "  </tbody>\n",
       "</table>\n",
       "</div>"
      ],
      "text/plain": [
       "    movie_id                    primary_title  \\\n",
       "0  tt0315642                            Wazir   \n",
       "1  tt0337692                      On the Road   \n",
       "2  tt0359950  The Secret Life of Walter Mitty   \n",
       "3  tt0365907      A Walk Among the Tombstones   \n",
       "4  tt0369610                   Jurassic World   \n",
       "\n",
       "                    original_title  start_year  runtime_minutes  \\\n",
       "0                            Wazir        2016            103.0   \n",
       "1                      On the Road        2012            124.0   \n",
       "2  The Secret Life of Walter Mitty        2013            114.0   \n",
       "3      A Walk Among the Tombstones        2014            114.0   \n",
       "4                   Jurassic World        2015            124.0   \n",
       "\n",
       "                    genres  averagerating  numvotes  \\\n",
       "0       Action,Crime,Drama            7.1     15378   \n",
       "1  Adventure,Drama,Romance            6.1     37886   \n",
       "2   Adventure,Comedy,Drama            7.3    275300   \n",
       "3       Action,Crime,Drama            6.5    105116   \n",
       "4  Action,Adventure,Sci-Fi            7.0    539338   \n",
       "\n",
       "                   genres_list  genres_count                            title  \\\n",
       "0       [Action, Crime, Drama]             3                            Wazir   \n",
       "1  [Adventure, Drama, Romance]             3                      On the Road   \n",
       "2   [Adventure, Comedy, Drama]             3  The Secret Life of Walter Mitty   \n",
       "3       [Action, Crime, Drama]             3      A Walk Among the Tombstones   \n",
       "4  [Action, Adventure, Sci-Fi]             3                   Jurassic World   \n",
       "\n",
       "    studio  domestic_gross  foreign_gross  year  \n",
       "0  Relbig.       1100000.0     18700000.0  2016  \n",
       "1      IFC        744000.0      8000000.0  2012  \n",
       "2      Fox      58200000.0    129900000.0  2013  \n",
       "3     Uni.      26300000.0     26900000.0  2014  \n",
       "4     Uni.     652300000.0         1019.4  2015  "
      ]
     },
     "execution_count": 10,
     "metadata": {},
     "output_type": "execute_result"
    }
   ],
   "source": [
    "# merging datasets imdb (cleaned) and bom (cleaned) with inner join\n",
    "# on movie titles and year of movie release\n",
    "imdb_df_c = imdb_df.merge(bom_df, how = \"inner\", \n",
    "                          left_on = [\"primary_title\", \"start_year\"], \n",
    "                          right_on = [\"title\",\"year\"])\n",
    "imdb_df_c.head(5)"
   ]
  },
  {
   "cell_type": "code",
   "execution_count": 11,
   "metadata": {
    "ExecuteTime": {
     "end_time": "2022-08-17T18:35:10.567121Z",
     "start_time": "2022-08-17T18:35:10.506696Z"
    }
   },
   "outputs": [
    {
     "data": {
      "text/html": [
       "<div>\n",
       "<style scoped>\n",
       "    .dataframe tbody tr th:only-of-type {\n",
       "        vertical-align: middle;\n",
       "    }\n",
       "\n",
       "    .dataframe tbody tr th {\n",
       "        vertical-align: top;\n",
       "    }\n",
       "\n",
       "    .dataframe thead th {\n",
       "        text-align: right;\n",
       "    }\n",
       "</style>\n",
       "<table border=\"1\" class=\"dataframe\">\n",
       "  <thead>\n",
       "    <tr style=\"text-align: right;\">\n",
       "      <th></th>\n",
       "      <th>movie_id</th>\n",
       "      <th>primary_title</th>\n",
       "      <th>original_title</th>\n",
       "      <th>start_year</th>\n",
       "      <th>runtime_minutes</th>\n",
       "      <th>genres</th>\n",
       "      <th>averagerating</th>\n",
       "      <th>numvotes</th>\n",
       "      <th>genres_list</th>\n",
       "      <th>genres_count</th>\n",
       "      <th>...</th>\n",
       "      <th>domestic_gross_y</th>\n",
       "      <th>worldwide_gross</th>\n",
       "      <th>datetime</th>\n",
       "      <th>release_weeknum</th>\n",
       "      <th>release_weekday</th>\n",
       "      <th>release_month</th>\n",
       "      <th>release_year</th>\n",
       "      <th>weekend</th>\n",
       "      <th>release_season</th>\n",
       "      <th>adjusted_worldwide</th>\n",
       "    </tr>\n",
       "  </thead>\n",
       "  <tbody>\n",
       "    <tr>\n",
       "      <th>0</th>\n",
       "      <td>tt0359950</td>\n",
       "      <td>The Secret Life of Walter Mitty</td>\n",
       "      <td>The Secret Life of Walter Mitty</td>\n",
       "      <td>2013</td>\n",
       "      <td>114.0</td>\n",
       "      <td>Adventure,Comedy,Drama</td>\n",
       "      <td>7.3</td>\n",
       "      <td>275300</td>\n",
       "      <td>[Adventure, Comedy, Drama]</td>\n",
       "      <td>3</td>\n",
       "      <td>...</td>\n",
       "      <td>58236838</td>\n",
       "      <td>187861183</td>\n",
       "      <td>2013-12-25</td>\n",
       "      <td>52</td>\n",
       "      <td>2</td>\n",
       "      <td>12</td>\n",
       "      <td>2013</td>\n",
       "      <td>0</td>\n",
       "      <td>winter</td>\n",
       "      <td>96861183</td>\n",
       "    </tr>\n",
       "    <tr>\n",
       "      <th>1</th>\n",
       "      <td>tt0365907</td>\n",
       "      <td>A Walk Among the Tombstones</td>\n",
       "      <td>A Walk Among the Tombstones</td>\n",
       "      <td>2014</td>\n",
       "      <td>114.0</td>\n",
       "      <td>Action,Crime,Drama</td>\n",
       "      <td>6.5</td>\n",
       "      <td>105116</td>\n",
       "      <td>[Action, Crime, Drama]</td>\n",
       "      <td>3</td>\n",
       "      <td>...</td>\n",
       "      <td>26017685</td>\n",
       "      <td>62108587</td>\n",
       "      <td>2014-09-19</td>\n",
       "      <td>38</td>\n",
       "      <td>4</td>\n",
       "      <td>9</td>\n",
       "      <td>2014</td>\n",
       "      <td>0</td>\n",
       "      <td>fall</td>\n",
       "      <td>34108587</td>\n",
       "    </tr>\n",
       "    <tr>\n",
       "      <th>2</th>\n",
       "      <td>tt0369610</td>\n",
       "      <td>Jurassic World</td>\n",
       "      <td>Jurassic World</td>\n",
       "      <td>2015</td>\n",
       "      <td>124.0</td>\n",
       "      <td>Action,Adventure,Sci-Fi</td>\n",
       "      <td>7.0</td>\n",
       "      <td>539338</td>\n",
       "      <td>[Action, Adventure, Sci-Fi]</td>\n",
       "      <td>3</td>\n",
       "      <td>...</td>\n",
       "      <td>652270625</td>\n",
       "      <td>1648854864</td>\n",
       "      <td>2015-06-12</td>\n",
       "      <td>24</td>\n",
       "      <td>4</td>\n",
       "      <td>6</td>\n",
       "      <td>2015</td>\n",
       "      <td>0</td>\n",
       "      <td>summer</td>\n",
       "      <td>1433854864</td>\n",
       "    </tr>\n",
       "    <tr>\n",
       "      <th>3</th>\n",
       "      <td>tt0376136</td>\n",
       "      <td>The Rum Diary</td>\n",
       "      <td>The Rum Diary</td>\n",
       "      <td>2011</td>\n",
       "      <td>119.0</td>\n",
       "      <td>Comedy,Drama</td>\n",
       "      <td>6.2</td>\n",
       "      <td>94787</td>\n",
       "      <td>[Comedy, Drama]</td>\n",
       "      <td>2</td>\n",
       "      <td>...</td>\n",
       "      <td>13109815</td>\n",
       "      <td>21544732</td>\n",
       "      <td>2011-10-28</td>\n",
       "      <td>43</td>\n",
       "      <td>4</td>\n",
       "      <td>10</td>\n",
       "      <td>2011</td>\n",
       "      <td>0</td>\n",
       "      <td>fall</td>\n",
       "      <td>-23455268</td>\n",
       "    </tr>\n",
       "    <tr>\n",
       "      <th>4</th>\n",
       "      <td>tt0383010</td>\n",
       "      <td>The Three Stooges</td>\n",
       "      <td>The Three Stooges</td>\n",
       "      <td>2012</td>\n",
       "      <td>92.0</td>\n",
       "      <td>Comedy,Family</td>\n",
       "      <td>5.1</td>\n",
       "      <td>28570</td>\n",
       "      <td>[Comedy, Family]</td>\n",
       "      <td>2</td>\n",
       "      <td>...</td>\n",
       "      <td>44338224</td>\n",
       "      <td>54052249</td>\n",
       "      <td>2012-04-13</td>\n",
       "      <td>15</td>\n",
       "      <td>4</td>\n",
       "      <td>4</td>\n",
       "      <td>2012</td>\n",
       "      <td>0</td>\n",
       "      <td>spring</td>\n",
       "      <td>24052249</td>\n",
       "    </tr>\n",
       "  </tbody>\n",
       "</table>\n",
       "<p>5 rows × 28 columns</p>\n",
       "</div>"
      ],
      "text/plain": [
       "    movie_id                    primary_title  \\\n",
       "0  tt0359950  The Secret Life of Walter Mitty   \n",
       "1  tt0365907      A Walk Among the Tombstones   \n",
       "2  tt0369610                   Jurassic World   \n",
       "3  tt0376136                    The Rum Diary   \n",
       "4  tt0383010                The Three Stooges   \n",
       "\n",
       "                    original_title  start_year  runtime_minutes  \\\n",
       "0  The Secret Life of Walter Mitty        2013            114.0   \n",
       "1      A Walk Among the Tombstones        2014            114.0   \n",
       "2                   Jurassic World        2015            124.0   \n",
       "3                    The Rum Diary        2011            119.0   \n",
       "4                The Three Stooges        2012             92.0   \n",
       "\n",
       "                    genres  averagerating  numvotes  \\\n",
       "0   Adventure,Comedy,Drama            7.3    275300   \n",
       "1       Action,Crime,Drama            6.5    105116   \n",
       "2  Action,Adventure,Sci-Fi            7.0    539338   \n",
       "3             Comedy,Drama            6.2     94787   \n",
       "4            Comedy,Family            5.1     28570   \n",
       "\n",
       "                   genres_list  genres_count  ... domestic_gross_y  \\\n",
       "0   [Adventure, Comedy, Drama]             3  ...         58236838   \n",
       "1       [Action, Crime, Drama]             3  ...         26017685   \n",
       "2  [Action, Adventure, Sci-Fi]             3  ...        652270625   \n",
       "3              [Comedy, Drama]             2  ...         13109815   \n",
       "4             [Comedy, Family]             2  ...         44338224   \n",
       "\n",
       "  worldwide_gross   datetime  release_weeknum  release_weekday release_month  \\\n",
       "0       187861183 2013-12-25               52                2            12   \n",
       "1        62108587 2014-09-19               38                4             9   \n",
       "2      1648854864 2015-06-12               24                4             6   \n",
       "3        21544732 2011-10-28               43                4            10   \n",
       "4        54052249 2012-04-13               15                4             4   \n",
       "\n",
       "  release_year  weekend  release_season  adjusted_worldwide  \n",
       "0         2013        0          winter            96861183  \n",
       "1         2014        0            fall            34108587  \n",
       "2         2015        0          summer          1433854864  \n",
       "3         2011        0            fall           -23455268  \n",
       "4         2012        0          spring            24052249  \n",
       "\n",
       "[5 rows x 28 columns]"
      ]
     },
     "execution_count": 11,
     "metadata": {},
     "output_type": "execute_result"
    }
   ],
   "source": [
    "# merging datasets imdb_c (cleaned) and tn (cleaned) with inner join\n",
    "# on movie titles and year of movie release\n",
    "imdb_df_c2 = imdb_df_c.merge(tn_df, how = \"inner\", \n",
    "                             left_on = [\"primary_title\", \"start_year\"], \n",
    "                             right_on = [\"movie\",\"release_year\"])\n",
    "\n",
    "# create release season of movies\n",
    "seasons = []\n",
    "for m in imdb_df_c2[\"release_month\"]:\n",
    "    if(m in [12,1,2]): \n",
    "        seasons.append(\"winter\")\n",
    "    elif(m in [3,4,5]): \n",
    "        seasons.append(\"spring\")\n",
    "    elif(m in [6,7,8]): \n",
    "        seasons.append(\"summer\")\n",
    "    else: \n",
    "        seasons.append(\"fall\")\n",
    "\n",
    "imdb_df_c2[\"release_season\"] = seasons \n",
    "\n",
    "# create worldwide profit, adjusted for production budge\n",
    "imdb_df_c2[\"adjusted_worldwide\"] = imdb_df_c2[\"worldwide_gross\"] - imdb_df_c2[\"production_budget\"]\n",
    "\n",
    "# it's beautiful\n",
    "imdb_df_c2.head(5)"
   ]
  },
  {
   "cell_type": "code",
   "execution_count": 12,
   "metadata": {
    "ExecuteTime": {
     "end_time": "2022-08-17T18:35:10.582744Z",
     "start_time": "2022-08-17T18:35:10.569434Z"
    }
   },
   "outputs": [],
   "source": [
    "#imdb_df_c2.info()"
   ]
  },
  {
   "cell_type": "markdown",
   "metadata": {},
   "source": [
    "## EDA"
   ]
  },
  {
   "cell_type": "code",
   "execution_count": 13,
   "metadata": {
    "ExecuteTime": {
     "end_time": "2022-08-17T18:35:10.737869Z",
     "start_time": "2022-08-17T18:35:10.585504Z"
    }
   },
   "outputs": [
    {
     "name": "stderr",
     "output_type": "stream",
     "text": [
      "<ipython-input-13-a8ec1373fbc0>:6: UserWarning: Matplotlib is currently using module://ipykernel.pylab.backend_inline, which is a non-GUI backend, so cannot show the figure.\n",
      "  fig.show()\n"
     ]
    },
    {
     "data": {
      "image/png": "[encoded data removed]",
      "text/plain": [
       "<Figure size 432x288 with 1 Axes>"
      ]
     },
     "metadata": {
      "needs_background": "light"
     },
     "output_type": "display_data"
    }
   ],
   "source": [
    "fig, ax = plt.subplots()\n",
    "ax.scatter(imdb_df_c[\"runtime_minutes\"], imdb_df_c[\"averagerating\"])\n",
    "ax.set_title(\"Movie Runtime vs. Average Rating\")\n",
    "ax.set_xlabel(\"Movie Runtime (mins)\")\n",
    "ax.set_ylabel(\"Averate Rating\")\n",
    "fig.show()"
   ]
  },
  {
   "cell_type": "code",
   "execution_count": 14,
   "metadata": {
    "ExecuteTime": {
     "end_time": "2022-08-17T18:35:10.878994Z",
     "start_time": "2022-08-17T18:35:10.739157Z"
    }
   },
   "outputs": [
    {
     "data": {
      "text/plain": [
       "Text(0, 0.5, 'Frequency')"
      ]
     },
     "execution_count": 14,
     "metadata": {},
     "output_type": "execute_result"
    },
    {
     "data": {
      "image/png": "[encoded data removed]",
      "text/plain": [
       "<Figure size 432x288 with 1 Axes>"
      ]
     },
     "metadata": {
      "needs_background": "light"
     },
     "output_type": "display_data"
    }
   ],
   "source": [
    "fig, ax = plt.subplots()\n",
    "ax.hist(imdb_df_c2[\"runtime_minutes\"])\n",
    "ax.set_title(\"Movie Runtime Distribution\")\n",
    "ax.set_xlabel(\"Movie Runtime (mins)\")\n",
    "ax.set_ylabel(\"Frequency\")"
   ]
  },
  {
   "cell_type": "code",
   "execution_count": 15,
   "metadata": {
    "ExecuteTime": {
     "end_time": "2022-08-17T18:35:11.017902Z",
     "start_time": "2022-08-17T18:35:10.881122Z"
    }
   },
   "outputs": [
    {
     "data": {
      "text/plain": [
       "Text(0, 0.5, 'Frequency')"
      ]
     },
     "execution_count": 15,
     "metadata": {},
     "output_type": "execute_result"
    },
    {
     "data": {
      "image/png": "[encoded data removed]",
      "text/plain": [
       "<Figure size 432x288 with 1 Axes>"
      ]
     },
     "metadata": {
      "needs_background": "light"
     },
     "output_type": "display_data"
    }
   ],
   "source": [
    "fig, ax = plt.subplots()\n",
    "ax.hist(imdb_df_c2[\"adjusted_worldwide\"])\n",
    "ax.set_title(\"Distribution of Worldwide Profit\")\n",
    "ax.set_xlabel(\"Worldwide Profit ($)\")\n",
    "ax.set_ylabel(\"Frequency\")"
   ]
  },
  {
   "cell_type": "code",
   "execution_count": 16,
   "metadata": {
    "ExecuteTime": {
     "end_time": "2022-08-17T18:35:11.188142Z",
     "start_time": "2022-08-17T18:35:11.020127Z"
    }
   },
   "outputs": [
    {
     "data": {
      "text/plain": [
       "Text(0, 0.5, 'Relative Frequency')"
      ]
     },
     "execution_count": 16,
     "metadata": {},
     "output_type": "execute_result"
    },
    {
     "data": {
      "image/png": "[encoded data removed]",
      "text/plain": [
       "<Figure size 432x288 with 1 Axes>"
      ]
     },
     "metadata": {
      "needs_background": "light"
     },
     "output_type": "display_data"
    }
   ],
   "source": [
    "g_count = imdb_df_c2[\"genres_count\"].value_counts(normalize  = True)\n",
    "labs = [str(x) for x in g_count.index]\n",
    "fig, ax = plt.subplots()\n",
    "ax.bar(labs, g_count)\n",
    "ax.set_title(\"Distribution of Genre Counts\")\n",
    "ax.set_xlabel(\"Number of Genres\")\n",
    "ax.set_ylabel(\"Relative Frequency\")"
   ]
  },
  {
   "cell_type": "markdown",
   "metadata": {},
   "source": [
    "## Hypothesis Testing"
   ]
  },
  {
   "cell_type": "markdown",
   "metadata": {},
   "source": [
    "### Runtime and Adjusted Worldwide Profit"
   ]
  },
  {
   "cell_type": "markdown",
   "metadata": {},
   "source": [
    "H0: Movies longer than two hours do not make more worldwide profit than those shorter than two hours.\n",
    "\n",
    "Ha: Movies longer than two hours do make more worldwide profit than those shorter than two hours."
   ]
  },
  {
   "cell_type": "code",
   "execution_count": 17,
   "metadata": {
    "ExecuteTime": {
     "end_time": "2022-08-17T18:35:11.203510Z",
     "start_time": "2022-08-17T18:35:11.189217Z"
    }
   },
   "outputs": [],
   "source": [
    "import scipy.stats as stats"
   ]
  },
  {
   "cell_type": "code",
   "execution_count": 18,
   "metadata": {
    "ExecuteTime": {
     "end_time": "2022-08-17T18:35:11.219574Z",
     "start_time": "2022-08-17T18:35:11.205936Z"
    }
   },
   "outputs": [],
   "source": [
    "# divide movies by runtime; movies longer or equal to 2 hours are long movies\n",
    "long_movies = imdb_df_c2[imdb_df_c2[\"runtime_minutes\"]>= 120]\n",
    "short_movies = imdb_df_c2[imdb_df_c2[\"runtime_minutes\"]< 120]"
   ]
  },
  {
   "cell_type": "code",
   "execution_count": 19,
   "metadata": {
    "ExecuteTime": {
     "end_time": "2022-08-17T18:35:11.234748Z",
     "start_time": "2022-08-17T18:35:11.221500Z"
    }
   },
   "outputs": [
    {
     "name": "stdout",
     "output_type": "stream",
     "text": [
      "The t-statistic is 8.512566342699477.\n",
      "The p-value is 2.9394100040933126e-17.\n",
      "We reject the null hypothesis at an alpha level of 0.05.\n"
     ]
    }
   ],
   "source": [
    "# conduct two-sample t-test (independent)\n",
    "results = stats.ttest_ind(long_movies[\"adjusted_worldwide\"], \n",
    "                          short_movies[\"adjusted_worldwide\"], alternative = \"greater\")\n",
    "alpha = 0.05\n",
    "print(\"The t-statistic is {}.\".format(results.statistic))\n",
    "print(\"The p-value is {}.\".format(results.pvalue))\n",
    "if(results.pvalue < alpha): \n",
    "    print(\"We reject the null hypothesis at an alpha level of {}.\".format(alpha))\n",
    "else:\n",
    "    print(\"We fail to reject the null hypothesis at an alpha level of {}.\".format(alpha))"
   ]
  },
  {
   "cell_type": "code",
   "execution_count": 20,
   "metadata": {
    "ExecuteTime": {
     "end_time": "2022-08-17T18:35:11.421228Z",
     "start_time": "2022-08-17T18:35:11.236936Z"
    }
   },
   "outputs": [
    {
     "name": "stderr",
     "output_type": "stream",
     "text": [
      "<ipython-input-20-44b6a134bd8c>:9: UserWarning: Matplotlib is currently using module://ipykernel.pylab.backend_inline, which is a non-GUI backend, so cannot show the figure.\n",
      "  fig.show()\n"
     ]
    },
    {
     "data": {
      "image/png": "[encoded data removed]",
      "text/plain": [
       "<Figure size 432x288 with 1 Axes>"
      ]
     },
     "metadata": {
      "needs_background": "light"
     },
     "output_type": "display_data"
    }
   ],
   "source": [
    "# Display split between long and short movie adjusted worldwide profit\n",
    "fig, ax = plt.subplots()\n",
    "ax.scatter(long_movies[\"runtime_minutes\"], long_movies[\"adjusted_worldwide\"], label='> 120 minutes')\n",
    "ax.scatter(short_movies[\"runtime_minutes\"], short_movies[\"adjusted_worldwide\"], label='<= 120 minutes')\n",
    "ax.set_title(\"Movie Runtime vs. Worldwide Profit\")\n",
    "ax.set_xlabel(\"Movie Runtime (mins)\")\n",
    "ax.set_ylabel(\"Worldwide Profit ($)\")\n",
    "ax.legend(bbox_to_anchor = (1.40, 1))\n",
    "fig.show()"
   ]
  },
  {
   "cell_type": "code",
   "execution_count": 21,
   "metadata": {
    "ExecuteTime": {
     "end_time": "2022-08-17T18:35:11.777958Z",
     "start_time": "2022-08-17T18:35:11.424739Z"
    }
   },
   "outputs": [
    {
     "data": {
      "text/plain": [
       "<seaborn.axisgrid.FacetGrid at 0x211642aea00>"
      ]
     },
     "execution_count": 21,
     "metadata": {},
     "output_type": "execute_result"
    },
    {
     "data": {
      "image/png": "[encoded data removed]",
      "text/plain": [
       "<Figure size 360x360 with 1 Axes>"
      ]
     },
     "metadata": {},
     "output_type": "display_data"
    }
   ],
   "source": [
    "# try drawing a correlation line, visualize correlation\n",
    "import seaborn as sns\n",
    "sns.set_style('whitegrid')\n",
    "p = sns.lmplot(x ='runtime_minutes', y ='adjusted_worldwide', data = imdb_df_c2)\n",
    "p.set(title = \"Correlation of Runtime and Worldwide Profit\")\n",
    "p.set(xlabel = \"Movie Runtime (mins)\", ylabel = \"Worldwide Profit ($)\")"
   ]
  },
  {
   "cell_type": "code",
   "execution_count": 22,
   "metadata": {
    "ExecuteTime": {
     "end_time": "2022-08-17T18:35:12.072092Z",
     "start_time": "2022-08-17T18:35:11.784614Z"
    }
   },
   "outputs": [
    {
     "data": {
      "text/plain": [
       "(-172096249.6, 1500000000.0)"
      ]
     },
     "execution_count": 22,
     "metadata": {},
     "output_type": "execute_result"
    },
    {
     "data": {
      "image/png": "[encoded data removed]",
      "text/plain": [
       "<Figure size 432x288 with 2 Axes>"
      ]
     },
     "metadata": {},
     "output_type": "display_data"
    }
   ],
   "source": [
    "fig, ax = plt.subplots(1, 2)\n",
    "fig.tight_layout()\n",
    "ax[0].hist(long_movies[\"adjusted_worldwide\"], bins = 10, density = True)\n",
    "ax[1].hist(short_movies[\"adjusted_worldwide\"], bins = 10, density = True)\n",
    "\n",
    "ax[0].set_title(\"Long Movies\")\n",
    "ax[0].set_xlabel(\"Worldwide Profit ($)\")\n",
    "ax[0].set_ylabel(\"Frequency\")\n",
    "ax[0].set_xlim(right = 1.5 * 10**9)\n",
    "ax[0].set_ylim(top = 4*10**(-9))\n",
    "\n",
    "ax[1].set_title(\"Short Movies\")\n",
    "ax[1].set_xlabel(\"Worldwide Profit ($)\")\n",
    "ax[1].set_ylabel(\"Frequency\")\n",
    "ax[1].set_xlim(right = 1.5 * 10**9)"
   ]
  },
  {
   "cell_type": "markdown",
   "metadata": {},
   "source": [
    "### Genre Count and Adjusted Worldwide Profit"
   ]
  },
  {
   "cell_type": "markdown",
   "metadata": {},
   "source": [
    "H0: Movies that occupy three genres do not have higher worldwide profit than those with only one or two genres.\n",
    "\n",
    "Ha: Movies that occupy three genres do have higher worldwide profit than those with only one or two genres."
   ]
  },
  {
   "cell_type": "code",
   "execution_count": 23,
   "metadata": {
    "ExecuteTime": {
     "end_time": "2022-08-17T18:35:12.087282Z",
     "start_time": "2022-08-17T18:35:12.074179Z"
    }
   },
   "outputs": [],
   "source": [
    "genres_3 = imdb_df_c2[imdb_df_c2[\"genres_count\"]== 3]\n",
    "genres_1or2 = imdb_df_c2[imdb_df_c2[\"genres_count\"]!= 3]"
   ]
  },
  {
   "cell_type": "code",
   "execution_count": 24,
   "metadata": {
    "ExecuteTime": {
     "end_time": "2022-08-17T18:35:12.102887Z",
     "start_time": "2022-08-17T18:35:12.088742Z"
    }
   },
   "outputs": [
    {
     "name": "stdout",
     "output_type": "stream",
     "text": [
      "The t-statistic is 5.972650069299291.\n",
      "The p-value is 1.6004895566572263e-09.\n",
      "We reject the null hypothesis at an alpha level of 0.05.\n"
     ]
    }
   ],
   "source": [
    "results = stats.ttest_ind(genres_3[\"adjusted_worldwide\"], \n",
    "                          genres_1or2[\"adjusted_worldwide\"], alternative = \"greater\")\n",
    "alpha = 0.05\n",
    "print(\"The t-statistic is {}.\".format(results.statistic))\n",
    "print(\"The p-value is {}.\".format(results.pvalue))\n",
    "if(results.pvalue < alpha): \n",
    "    print(\"We reject the null hypothesis at an alpha level of {}.\".format(alpha))\n",
    "else:\n",
    "    print(\"We fail to reject the null hypothesis at an alpha level of {}.\".format(alpha))"
   ]
  },
  {
   "cell_type": "code",
   "execution_count": 25,
   "metadata": {
    "ExecuteTime": {
     "end_time": "2022-08-17T18:35:12.228039Z",
     "start_time": "2022-08-17T18:35:12.103907Z"
    }
   },
   "outputs": [
    {
     "data": {
      "text/plain": [
       "Text(0, 0.5, 'Worldwide Profit ($)')"
      ]
     },
     "execution_count": 25,
     "metadata": {},
     "output_type": "execute_result"
    },
    {
     "data": {
      "image/png": "[encoded data removed]",
      "text/plain": [
       "<Figure size 432x288 with 1 Axes>"
      ]
     },
     "metadata": {},
     "output_type": "display_data"
    }
   ],
   "source": [
    "g_adjWW = imdb_df_c2.groupby(\"genres_count\").median()[\"adjusted_worldwide\"]\n",
    "labs2 = [str(x) for x in g_adjWW.index]\n",
    "fig, ax = plt.subplots()\n",
    "ax.bar(labs2, g_adjWW)\n",
    "ax.set_title(\"Median Worldwide Profit within Genre Counts\")\n",
    "ax.set_xlabel(\"Number of Genres\")\n",
    "ax.set_ylabel(\"Worldwide Profit ($)\")"
   ]
  },
  {
   "cell_type": "markdown",
   "metadata": {},
   "source": [
    "### Movie Budget and Adjusted Worldwide Profit"
   ]
  },
  {
   "cell_type": "markdown",
   "metadata": {},
   "source": [
    "H0: Movies with higher budgets do not have larger worldwide profit than those with smaller budgets on average.\n",
    "\n",
    "Ha: Movies with higher budgets do have larger worldwide profit than those with smaller budgets."
   ]
  },
  {
   "cell_type": "code",
   "execution_count": 26,
   "metadata": {
    "ExecuteTime": {
     "end_time": "2022-08-17T18:35:12.524901Z",
     "start_time": "2022-08-17T18:35:12.232300Z"
    }
   },
   "outputs": [
    {
     "data": {
      "text/plain": [
       "<seaborn.axisgrid.FacetGrid at 0x2116444cf70>"
      ]
     },
     "execution_count": 26,
     "metadata": {},
     "output_type": "execute_result"
    },
    {
     "data": {
      "image/png": "[encoded data removed]",
      "text/plain": [
       "<Figure size 360x360 with 1 Axes>"
      ]
     },
     "metadata": {},
     "output_type": "display_data"
    }
   ],
   "source": [
    "import seaborn as sns\n",
    "sns.set_style('whitegrid')\n",
    "p = sns.lmplot(x ='production_budget', y ='adjusted_worldwide', data = imdb_df_c2)\n",
    "p.set(title = \"Correlation of Budget and Worldwide Profit\")\n",
    "p.set(xlabel = \"Production Budget ($)\", ylabel = \"Worldwide Profit ($)\")"
   ]
  },
  {
   "cell_type": "code",
   "execution_count": 27,
   "metadata": {
    "ExecuteTime": {
     "end_time": "2022-08-17T18:35:12.541063Z",
     "start_time": "2022-08-17T18:35:12.529918Z"
    }
   },
   "outputs": [],
   "source": [
    "high_prod = imdb_df_c2[imdb_df_c2[\"production_budget\"] >= imdb_df_c2[\"production_budget\"].median()]\n",
    "low_prod = imdb_df_c2[imdb_df_c2[\"production_budget\"] < imdb_df_c2[\"production_budget\"].median()]"
   ]
  },
  {
   "cell_type": "code",
   "execution_count": 28,
   "metadata": {
    "ExecuteTime": {
     "end_time": "2022-08-17T18:35:12.556656Z",
     "start_time": "2022-08-17T18:35:12.544555Z"
    }
   },
   "outputs": [
    {
     "name": "stdout",
     "output_type": "stream",
     "text": [
      "The t-statistic is 13.44147474533769.\n",
      "The p-value is 2.1399824760435253e-38.\n",
      "We reject the null hypothesis at an alpha level of 0.05.\n"
     ]
    }
   ],
   "source": [
    "results = stats.ttest_ind(high_prod[\"adjusted_worldwide\"], low_prod[\"adjusted_worldwide\"], alternative = \"greater\")\n",
    "alpha = 0.05\n",
    "print(\"The t-statistic is {}.\".format(results.statistic))\n",
    "print(\"The p-value is {}.\".format(results.pvalue))\n",
    "if(results.pvalue < alpha): \n",
    "    print(\"We reject the null hypothesis at an alpha level of {}.\".format(alpha))\n",
    "else:\n",
    "    print(\"We fail to reject the null hypothesis at an alpha level of {}.\".format(alpha))"
   ]
  },
  {
   "cell_type": "code",
   "execution_count": 29,
   "metadata": {
    "ExecuteTime": {
     "end_time": "2022-08-17T18:35:12.741622Z",
     "start_time": "2022-08-17T18:35:12.558747Z"
    }
   },
   "outputs": [
    {
     "data": {
      "text/plain": [
       "<matplotlib.legend.Legend at 0x211644dc8b0>"
      ]
     },
     "execution_count": 29,
     "metadata": {},
     "output_type": "execute_result"
    },
    {
     "data": {
      "image/png": "[encoded data removed]",
      "text/plain": [
       "<Figure size 432x288 with 1 Axes>"
      ]
     },
     "metadata": {},
     "output_type": "display_data"
    }
   ],
   "source": [
    "fig, ax = plt.subplots()\n",
    "ax.scatter(high_prod[\"production_budget\"], high_prod[\"adjusted_worldwide\"], \n",
    "           label = \"high budget\")\n",
    "ax.scatter(low_prod[\"production_budget\"], low_prod[\"adjusted_worldwide\"],\n",
    "          label = \"low budget\")\n",
    "ax.set_title(\"Correlation of Budget and Worldwide Profit\")\n",
    "ax.set_xlabel(\"Production Budget ($)\")\n",
    "ax.set_ylabel(\"Worldwide Profit ($)\")\n",
    "ax.legend(bbox_to_anchor = (1.30, 1))"
   ]
  },
  {
   "cell_type": "markdown",
   "metadata": {},
   "source": [
    "### Seasons and Worldwide Profit"
   ]
  },
  {
   "cell_type": "code",
   "execution_count": 30,
   "metadata": {
    "ExecuteTime": {
     "end_time": "2022-08-17T18:35:12.757833Z",
     "start_time": "2022-08-17T18:35:12.743597Z"
    }
   },
   "outputs": [
    {
     "data": {
      "text/plain": [
       "fall      332\n",
       "summer    275\n",
       "winter    226\n",
       "spring    209\n",
       "Name: release_season, dtype: int64"
      ]
     },
     "execution_count": 30,
     "metadata": {},
     "output_type": "execute_result"
    }
   ],
   "source": [
    "imdb_df_c2[\"release_season\"].value_counts()"
   ]
  },
  {
   "cell_type": "code",
   "execution_count": 31,
   "metadata": {
    "ExecuteTime": {
     "end_time": "2022-08-17T18:35:12.883705Z",
     "start_time": "2022-08-17T18:35:12.759143Z"
    }
   },
   "outputs": [
    {
     "data": {
      "text/plain": [
       "Text(0, 0.5, 'Median Worldwide Profit ($)')"
      ]
     },
     "execution_count": 31,
     "metadata": {},
     "output_type": "execute_result"
    },
    {
     "data": {
      "image/png": "[encoded data removed]",
      "text/plain": [
       "<Figure size 432x288 with 1 Axes>"
      ]
     },
     "metadata": {},
     "output_type": "display_data"
    }
   ],
   "source": [
    "# group rows by release season, and get medians of each\n",
    "seasonal_medians = imdb_df_c2.groupby(\"release_season\").median()[\"adjusted_worldwide\"]\n",
    "\n",
    "# create barplot w/ custom colors\n",
    "fig, ax = plt.subplots()\n",
    "c = ['sandybrown', 'forestgreen', 'khaki', 'lightblue']\n",
    "ax.bar(seasonal_medians.index, seasonal_medians, color = c)\n",
    "ax.set_title(\"Seasonal Median Worldwide Profit\")\n",
    "ax.set_xlabel(\"Release Season\")\n",
    "ax.set_ylabel(\"Median Worldwide Profit ($)\")"
   ]
  },
  {
   "cell_type": "code",
   "execution_count": 32,
   "metadata": {
    "ExecuteTime": {
     "end_time": "2022-08-17T18:35:13.007513Z",
     "start_time": "2022-08-17T18:35:12.886657Z"
    },
    "scrolled": true
   },
   "outputs": [
    {
     "data": {
      "text/plain": [
       "Text(0, 0.5, 'Mean Worldwide Profit ($)')"
      ]
     },
     "execution_count": 32,
     "metadata": {},
     "output_type": "execute_result"
    },
    {
     "data": {
      "image/png": "[encoded data removed]",
      "text/plain": [
       "<Figure size 432x288 with 1 Axes>"
      ]
     },
     "metadata": {},
     "output_type": "display_data"
    }
   ],
   "source": [
    "# group rows by release season, and get means of each\n",
    "seasonal_means = imdb_df_c2.groupby(\"release_season\").mean()[\"adjusted_worldwide\"]\n",
    "\n",
    "# create barplot w/ custom colors\n",
    "fig, ax = plt.subplots()\n",
    "c = ['sandybrown', 'forestgreen', 'khaki', 'lightblue']\n",
    "ax.bar(seasonal_means.index, seasonal_means, color = c)\n",
    "ax.set_title(\"Seasonal Mean Worldwide Profit\")\n",
    "ax.set_xlabel(\"Release Season\")\n",
    "ax.set_ylabel(\"Mean Worldwide Profit ($)\")"
   ]
  },
  {
   "cell_type": "markdown",
   "metadata": {},
   "source": [
    "H0: Movies that release in warmer seasons do not have larger worldwide profit than those released in colder ones.\n",
    "\n",
    "Ha: Movies that release in warmer seasons have larger worldwide profit than those released in colder ones."
   ]
  },
  {
   "cell_type": "code",
   "execution_count": 33,
   "metadata": {
    "ExecuteTime": {
     "end_time": "2022-08-17T18:35:13.023205Z",
     "start_time": "2022-08-17T18:35:13.009634Z"
    }
   },
   "outputs": [],
   "source": [
    "# only rows where season is fall or winter\n",
    "cold_season = imdb_df_c2[(imdb_df_c2[\"release_season\"] == \"winter\") | \n",
    "                        (imdb_df_c2[\"release_season\"] == \"fall\")]\n",
    "\n",
    "# only rows where season is spring or summer\n",
    "warm_season = imdb_df_c2.loc[(imdb_df_c2[\"release_season\"] == \"summer\") | \n",
    "                             (imdb_df_c2[\"release_season\"] == \"spring\")]"
   ]
  },
  {
   "cell_type": "code",
   "execution_count": 34,
   "metadata": {
    "ExecuteTime": {
     "end_time": "2022-08-17T18:35:13.038639Z",
     "start_time": "2022-08-17T18:35:13.025468Z"
    }
   },
   "outputs": [
    {
     "name": "stdout",
     "output_type": "stream",
     "text": [
      "The t-statistic is 3.9231631768619604.\n",
      "The p-value is 4.656534401995471e-05.\n",
      "We reject the null hypothesis at an alpha level of 0.05.\n"
     ]
    }
   ],
   "source": [
    "results = stats.ttest_ind(warm_season[\"adjusted_worldwide\"], cold_season[\"adjusted_worldwide\"], alternative = \"greater\")\n",
    "alpha = 0.05\n",
    "print(\"The t-statistic is {}.\".format(results.statistic))\n",
    "print(\"The p-value is {}.\".format(results.pvalue))\n",
    "if(results.pvalue < alpha): \n",
    "    print(\"We reject the null hypothesis at an alpha level of {}.\".format(alpha))\n",
    "else:\n",
    "    print(\"We fail to reject the null hypothesis at an alpha level of {}.\".format(alpha))"
   ]
  },
  {
   "cell_type": "code",
   "execution_count": 35,
   "metadata": {
    "ExecuteTime": {
     "end_time": "2022-08-17T18:35:13.194788Z",
     "start_time": "2022-08-17T18:35:13.040153Z"
    }
   },
   "outputs": [
    {
     "data": {
      "text/plain": [
       "Text(0.5, 1.0, 'Worldwide Profit between Cold and Warm Seasons')"
      ]
     },
     "execution_count": 35,
     "metadata": {},
     "output_type": "execute_result"
    },
    {
     "data": {
      "image/png": "[encoded data removed]",
      "text/plain": [
       "<Figure size 720x360 with 1 Axes>"
      ]
     },
     "metadata": {},
     "output_type": "display_data"
    }
   ],
   "source": [
    "season_list = []\n",
    "for s in imdb_df_c2[\"release_season\"]:\n",
    "    if (s == \"winter\") | (s == \"fall\"):\n",
    "        season_list.append(\"cold\")\n",
    "    else:\n",
    "        season_list.append(\"warm\")\n",
    "\n",
    "imdb_df_c2[\"season_split\"] = season_list\n",
    "\n",
    "fig, ax = plt.subplots(figsize = (10,5))\n",
    "sns.boxplot(x='adjusted_worldwide', y='season_split', data= imdb_df_c2)\n",
    "ax.set_xlabel(\"Worldwide Profit ($)\")\n",
    "ax.set_ylabel(\"Season\")\n",
    "ax.set_title(\"Worldwide Profit between Cold and Warm Seasons\")"
   ]
  },
  {
   "cell_type": "markdown",
   "metadata": {},
   "source": [
    "### Visualize the Ideal Movie"
   ]
  },
  {
   "cell_type": "code",
   "execution_count": 42,
   "metadata": {
    "ExecuteTime": {
     "end_time": "2022-08-17T18:35:23.692911Z",
     "start_time": "2022-08-17T18:35:23.665837Z"
    }
   },
   "outputs": [
    {
     "data": {
      "text/html": [
       "<div>\n",
       "<style scoped>\n",
       "    .dataframe tbody tr th:only-of-type {\n",
       "        vertical-align: middle;\n",
       "    }\n",
       "\n",
       "    .dataframe tbody tr th {\n",
       "        vertical-align: top;\n",
       "    }\n",
       "\n",
       "    .dataframe thead th {\n",
       "        text-align: right;\n",
       "    }\n",
       "</style>\n",
       "<table border=\"1\" class=\"dataframe\">\n",
       "  <thead>\n",
       "    <tr style=\"text-align: right;\">\n",
       "      <th></th>\n",
       "      <th>primary_title</th>\n",
       "      <th>runtime_minutes</th>\n",
       "      <th>season_split</th>\n",
       "      <th>genres_list</th>\n",
       "      <th>adjusted_worldwide</th>\n",
       "    </tr>\n",
       "  </thead>\n",
       "  <tbody>\n",
       "    <tr>\n",
       "      <th>2</th>\n",
       "      <td>Jurassic World</td>\n",
       "      <td>124.0</td>\n",
       "      <td>warm</td>\n",
       "      <td>[Action, Adventure, Sci-Fi]</td>\n",
       "      <td>1433854864</td>\n",
       "    </tr>\n",
       "    <tr>\n",
       "      <th>6</th>\n",
       "      <td>John Carter</td>\n",
       "      <td>132.0</td>\n",
       "      <td>warm</td>\n",
       "      <td>[Action, Adventure, Sci-Fi]</td>\n",
       "      <td>7778100</td>\n",
       "    </tr>\n",
       "    <tr>\n",
       "      <th>15</th>\n",
       "      <td>Wonder Woman</td>\n",
       "      <td>141.0</td>\n",
       "      <td>warm</td>\n",
       "      <td>[Action, Adventure, Fantasy]</td>\n",
       "      <td>671133378</td>\n",
       "    </tr>\n",
       "    <tr>\n",
       "      <th>19</th>\n",
       "      <td>Captain America: The First Avenger</td>\n",
       "      <td>124.0</td>\n",
       "      <td>warm</td>\n",
       "      <td>[Action, Adventure, Sci-Fi]</td>\n",
       "      <td>230569776</td>\n",
       "    </tr>\n",
       "    <tr>\n",
       "      <th>41</th>\n",
       "      <td>Man of Steel</td>\n",
       "      <td>143.0</td>\n",
       "      <td>warm</td>\n",
       "      <td>[Action, Adventure, Sci-Fi]</td>\n",
       "      <td>442999518</td>\n",
       "    </tr>\n",
       "  </tbody>\n",
       "</table>\n",
       "</div>"
      ],
      "text/plain": [
       "                         primary_title  runtime_minutes season_split  \\\n",
       "2                       Jurassic World            124.0         warm   \n",
       "6                          John Carter            132.0         warm   \n",
       "15                        Wonder Woman            141.0         warm   \n",
       "19  Captain America: The First Avenger            124.0         warm   \n",
       "41                        Man of Steel            143.0         warm   \n",
       "\n",
       "                     genres_list  adjusted_worldwide  \n",
       "2    [Action, Adventure, Sci-Fi]          1433854864  \n",
       "6    [Action, Adventure, Sci-Fi]             7778100  \n",
       "15  [Action, Adventure, Fantasy]           671133378  \n",
       "19   [Action, Adventure, Sci-Fi]           230569776  \n",
       "41   [Action, Adventure, Sci-Fi]           442999518  "
      ]
     },
     "execution_count": 42,
     "metadata": {},
     "output_type": "execute_result"
    }
   ],
   "source": [
    "movie_samp = imdb_df_c2.loc[(imdb_df_c2[\"runtime_minutes\"] >= 120) &\n",
    "                           (imdb_df_c2[\"season_split\"] == \"warm\") & \n",
    "                           [(\"Adventure\" in g) for g in imdb_df_c2[\"genres_list\"]]]\n",
    "movie_samp[[\"primary_title\", \"runtime_minutes\", \"season_split\", \"genres_list\", \n",
    "            \"adjusted_worldwide\"]].head(5)"
   ]
  },
  {
   "cell_type": "code",
   "execution_count": 37,
   "metadata": {
    "ExecuteTime": {
     "end_time": "2022-08-17T18:35:13.367246Z",
     "start_time": "2022-08-17T18:35:13.227176Z"
    }
   },
   "outputs": [
    {
     "data": {
      "text/plain": [
       "Text(0.5, 1.0, 'Worldwide Profit of Ideal Movies')"
      ]
     },
     "execution_count": 37,
     "metadata": {},
     "output_type": "execute_result"
    },
    {
     "data": {
      "image/png": "[encoded data removed]",
      "text/plain": [
       "<Figure size 720x360 with 1 Axes>"
      ]
     },
     "metadata": {},
     "output_type": "display_data"
    }
   ],
   "source": [
    "fig, ax = plt.subplots(figsize = (10,5))\n",
    "sns.boxplot(x='adjusted_worldwide', data= movie_samp)\n",
    "ax.set_xlabel(\"Worldwide Profit ($)\")\n",
    "ax.set_title(\"Worldwide Profit of Ideal Movies\")"
   ]
  },
  {
   "cell_type": "code",
   "execution_count": 38,
   "metadata": {
    "ExecuteTime": {
     "end_time": "2022-08-17T18:35:13.568716Z",
     "start_time": "2022-08-17T18:35:13.368762Z"
    }
   },
   "outputs": [
    {
     "data": {
      "text/plain": [
       "<matplotlib.lines.Line2D at 0x211669dedf0>"
      ]
     },
     "execution_count": 38,
     "metadata": {},
     "output_type": "execute_result"
    },
    {
     "data": {
      "image/png": "[encoded data removed]",
      "text/plain": [
       "<Figure size 720x360 with 1 Axes>"
      ]
     },
     "metadata": {},
     "output_type": "display_data"
    }
   ],
   "source": [
    "fig, ax = plt.subplots(figsize = (10,5))\n",
    "sns.histplot(x='adjusted_worldwide', data= movie_samp)\n",
    "ax.set_xlabel(\"Worldwide Profit ($)\")\n",
    "ax.set_title(\"Worldwide Profit of Ideal Movies\")\n",
    "plt.axvline(movie_samp[\"adjusted_worldwide\"].mean(), color = \"r\")"
   ]
  },
  {
   "cell_type": "code",
   "execution_count": 39,
   "metadata": {
    "ExecuteTime": {
     "end_time": "2022-08-17T18:35:13.584444Z",
     "start_time": "2022-08-17T18:35:13.571064Z"
    }
   },
   "outputs": [
    {
     "data": {
      "text/plain": [
       "453857894.2"
      ]
     },
     "execution_count": 39,
     "metadata": {},
     "output_type": "execute_result"
    }
   ],
   "source": [
    "# mean Profit\n",
    "round(movie_samp[\"adjusted_worldwide\"].mean(),2)"
   ]
  },
  {
   "cell_type": "code",
   "execution_count": 40,
   "metadata": {
    "ExecuteTime": {
     "end_time": "2022-08-17T18:35:13.600363Z",
     "start_time": "2022-08-17T18:35:13.587096Z"
    }
   },
   "outputs": [
    {
     "data": {
      "text/plain": [
       "375215443.0"
      ]
     },
     "execution_count": 40,
     "metadata": {},
     "output_type": "execute_result"
    }
   ],
   "source": [
    "# median Profit\n",
    "round(movie_samp[\"adjusted_worldwide\"].median(),2)"
   ]
  },
  {
   "cell_type": "code",
   "execution_count": 41,
   "metadata": {
    "ExecuteTime": {
     "end_time": "2022-08-17T18:35:13.615911Z",
     "start_time": "2022-08-17T18:35:13.602878Z"
    }
   },
   "outputs": [
    {
     "data": {
      "text/plain": [
       "411993505.0"
      ]
     },
     "execution_count": 41,
     "metadata": {},
     "output_type": "execute_result"
    }
   ],
   "source": [
    "# IQR of Profit\n",
    "round(movie_samp[\"adjusted_worldwide\"].quantile(.75),2) - round(movie_samp[\"adjusted_worldwide\"].quantile(.25),2)"
   ]
  },
  {
   "cell_type": "code",
   "execution_count": null,
   "metadata": {},
   "outputs": [],
   "source": []
  }
 ],
 "metadata": {
  "kernelspec": {
   "display_name": "Python 3",
   "language": "python",
   "name": "python3"
  },
  "language_info": {
   "codemirror_mode": {
    "name": "ipython",
    "version": 3
   },
   "file_extension": ".py",
   "mimetype": "text/x-python",
   "name": "python",
   "nbconvert_exporter": "python",
   "pygments_lexer": "ipython3",
   "version": "3.8.5"
  },
  "toc": {
   "base_numbering": 1,
   "nav_menu": {
    "height": "195px",
    "width": "279.987px"
   },
   "number_sections": true,
   "sideBar": true,
   "skip_h1_title": false,
   "title_cell": "Table of Contents",
   "title_sidebar": "Contents",
   "toc_cell": false,
   "toc_position": {},
   "toc_section_display": true,
   "toc_window_display": false
  },
  "varInspector": {
   "cols": {
    "lenName": 16,
    "lenType": 16,
    "lenVar": 40
   },
   "kernels_config": {
    "python": {
     "delete_cmd_postfix": "",
     "delete_cmd_prefix": "del ",
     "library": "var_list.py",
     "varRefreshCmd": "print(var_dic_list())"
    },
    "r": {
     "delete_cmd_postfix": ") ",
     "delete_cmd_prefix": "rm(",
     "library": "var_list.r",
     "varRefreshCmd": "cat(var_dic_list()) "
    }
   },
   "types_to_exclude": [
    "module",
    "function",
    "builtin_function_or_method",
    "instance",
    "_Feature"
   ],
   "window_display": false
  }
 },
 "nbformat": 4,
 "nbformat_minor": 2
}
