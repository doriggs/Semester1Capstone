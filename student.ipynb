{
 "cells": [
  {
   "cell_type": "markdown",
   "metadata": {},
   "source": [
    "## Semester 1 Project Submission\n",
    "\n",
    "Please fill out:\n",
    "* Student name: \n",
    "* Instructor name: \n"
   ]
  },
  {
   "cell_type": "code",
   "execution_count": 1,
   "metadata": {
    "ExecuteTime": {
     "end_time": "2022-08-15T21:20:07.186388Z",
     "start_time": "2022-08-15T21:20:07.174328Z"
    }
   },
   "outputs": [],
   "source": [
    "# Your code here - remember to use markdown cells for comments as well!"
   ]
  },
  {
   "cell_type": "code",
   "execution_count": 2,
   "metadata": {
    "ExecuteTime": {
     "end_time": "2022-08-15T21:20:08.394041Z",
     "start_time": "2022-08-15T21:20:07.187515Z"
    }
   },
   "outputs": [],
   "source": [
    "import pandas as pd\n",
    "import numpy as np\n",
    "import sqlite3\n",
    "import scipy.stats as stats\n",
    "import matplotlib.pyplot as plt\n",
    "import seaborn as sns\n",
    "import math\n",
    "%matplotlib inline\n",
    "# You'll need to unzip the db locally.\n",
    "conn = sqlite3.connect('zippedData/im.db')"
   ]
  },
  {
   "cell_type": "markdown",
   "metadata": {},
   "source": [
    "# Habib Khadri"
   ]
  },
  {
   "cell_type": "code",
   "execution_count": null,
   "metadata": {},
   "outputs": [],
   "source": []
  },
  {
   "cell_type": "markdown",
   "metadata": {},
   "source": [
    "# Nick Kirbabas"
   ]
  },
  {
   "cell_type": "code",
   "execution_count": null,
   "metadata": {},
   "outputs": [],
   "source": []
  },
  {
   "cell_type": "markdown",
   "metadata": {},
   "source": [
    "# Seerat Mutneja"
   ]
  },
  {
   "cell_type": "code",
   "execution_count": null,
   "metadata": {},
   "outputs": [],
   "source": []
  },
  {
   "cell_type": "markdown",
   "metadata": {},
   "source": [
    "# Sidhya Raman"
   ]
  },
  {
   "cell_type": "code",
   "execution_count": null,
   "metadata": {},
   "outputs": [],
   "source": []
  },
  {
   "cell_type": "markdown",
   "metadata": {},
   "source": [
    "# Douglas Riggs"
   ]
  },
  {
   "cell_type": "code",
   "execution_count": 3,
   "metadata": {
    "ExecuteTime": {
     "end_time": "2022-08-15T21:20:08.485523Z",
     "start_time": "2022-08-15T21:20:08.397155Z"
    }
   },
   "outputs": [
    {
     "data": {
      "text/html": [
       "<div>\n",
       "<style scoped>\n",
       "    .dataframe tbody tr th:only-of-type {\n",
       "        vertical-align: middle;\n",
       "    }\n",
       "\n",
       "    .dataframe tbody tr th {\n",
       "        vertical-align: top;\n",
       "    }\n",
       "\n",
       "    .dataframe thead th {\n",
       "        text-align: right;\n",
       "    }\n",
       "</style>\n",
       "<table border=\"1\" class=\"dataframe\">\n",
       "  <thead>\n",
       "    <tr style=\"text-align: right;\">\n",
       "      <th></th>\n",
       "      <th>name</th>\n",
       "    </tr>\n",
       "  </thead>\n",
       "  <tbody>\n",
       "    <tr>\n",
       "      <th>0</th>\n",
       "      <td>movie_basics</td>\n",
       "    </tr>\n",
       "    <tr>\n",
       "      <th>1</th>\n",
       "      <td>directors</td>\n",
       "    </tr>\n",
       "    <tr>\n",
       "      <th>2</th>\n",
       "      <td>known_for</td>\n",
       "    </tr>\n",
       "    <tr>\n",
       "      <th>3</th>\n",
       "      <td>movie_akas</td>\n",
       "    </tr>\n",
       "    <tr>\n",
       "      <th>4</th>\n",
       "      <td>movie_ratings</td>\n",
       "    </tr>\n",
       "    <tr>\n",
       "      <th>5</th>\n",
       "      <td>persons</td>\n",
       "    </tr>\n",
       "    <tr>\n",
       "      <th>6</th>\n",
       "      <td>principals</td>\n",
       "    </tr>\n",
       "    <tr>\n",
       "      <th>7</th>\n",
       "      <td>writers</td>\n",
       "    </tr>\n",
       "  </tbody>\n",
       "</table>\n",
       "</div>"
      ],
      "text/plain": [
       "            name\n",
       "0   movie_basics\n",
       "1      directors\n",
       "2      known_for\n",
       "3     movie_akas\n",
       "4  movie_ratings\n",
       "5        persons\n",
       "6     principals\n",
       "7        writers"
      ]
     },
     "execution_count": 3,
     "metadata": {},
     "output_type": "execute_result"
    }
   ],
   "source": [
    "pd.read_sql('''\n",
    "SELECT \n",
    "    name\n",
    "FROM \n",
    "    sqlite_schema\n",
    "WHERE \n",
    "    type ='table' AND \n",
    "    name NOT LIKE 'sqlite_%';\n",
    "''',conn)"
   ]
  },
  {
   "cell_type": "markdown",
   "metadata": {},
   "source": [
    "# Andrew Yang"
   ]
  },
  {
   "cell_type": "markdown",
   "metadata": {},
   "source": [
    "## Data Exploration & Cleaning"
   ]
  },
  {
   "cell_type": "code",
   "execution_count": 4,
   "metadata": {
    "ExecuteTime": {
     "end_time": "2022-08-15T21:20:08.654773Z",
     "start_time": "2022-08-15T21:20:08.489522Z"
    }
   },
   "outputs": [
    {
     "data": {
      "text/html": [
       "<div>\n",
       "<style scoped>\n",
       "    .dataframe tbody tr th:only-of-type {\n",
       "        vertical-align: middle;\n",
       "    }\n",
       "\n",
       "    .dataframe tbody tr th {\n",
       "        vertical-align: top;\n",
       "    }\n",
       "\n",
       "    .dataframe thead th {\n",
       "        text-align: right;\n",
       "    }\n",
       "</style>\n",
       "<table border=\"1\" class=\"dataframe\">\n",
       "  <thead>\n",
       "    <tr style=\"text-align: right;\">\n",
       "      <th></th>\n",
       "      <th>release_date</th>\n",
       "      <th>movie</th>\n",
       "      <th>production_budget</th>\n",
       "      <th>domestic_gross</th>\n",
       "      <th>worldwide_gross</th>\n",
       "      <th>datetime</th>\n",
       "      <th>release_weeknum</th>\n",
       "      <th>release_weekday</th>\n",
       "      <th>release_month</th>\n",
       "      <th>release_year</th>\n",
       "      <th>weekend</th>\n",
       "    </tr>\n",
       "  </thead>\n",
       "  <tbody>\n",
       "    <tr>\n",
       "      <th>0</th>\n",
       "      <td>Dec 18, 2009</td>\n",
       "      <td>Avatar</td>\n",
       "      <td>425000000</td>\n",
       "      <td>760507625</td>\n",
       "      <td>2776345279</td>\n",
       "      <td>2009-12-18</td>\n",
       "      <td>51</td>\n",
       "      <td>4</td>\n",
       "      <td>12</td>\n",
       "      <td>2009</td>\n",
       "      <td>0</td>\n",
       "    </tr>\n",
       "    <tr>\n",
       "      <th>1</th>\n",
       "      <td>May 20, 2011</td>\n",
       "      <td>Pirates of the Caribbean: On Stranger Tides</td>\n",
       "      <td>410600000</td>\n",
       "      <td>241063875</td>\n",
       "      <td>1045663875</td>\n",
       "      <td>2011-05-20</td>\n",
       "      <td>20</td>\n",
       "      <td>4</td>\n",
       "      <td>5</td>\n",
       "      <td>2011</td>\n",
       "      <td>0</td>\n",
       "    </tr>\n",
       "    <tr>\n",
       "      <th>2</th>\n",
       "      <td>Jun 7, 2019</td>\n",
       "      <td>Dark Phoenix</td>\n",
       "      <td>350000000</td>\n",
       "      <td>42762350</td>\n",
       "      <td>149762350</td>\n",
       "      <td>2019-06-07</td>\n",
       "      <td>23</td>\n",
       "      <td>4</td>\n",
       "      <td>6</td>\n",
       "      <td>2019</td>\n",
       "      <td>0</td>\n",
       "    </tr>\n",
       "    <tr>\n",
       "      <th>3</th>\n",
       "      <td>May 1, 2015</td>\n",
       "      <td>Avengers: Age of Ultron</td>\n",
       "      <td>330600000</td>\n",
       "      <td>459005868</td>\n",
       "      <td>1403013963</td>\n",
       "      <td>2015-05-01</td>\n",
       "      <td>18</td>\n",
       "      <td>4</td>\n",
       "      <td>5</td>\n",
       "      <td>2015</td>\n",
       "      <td>0</td>\n",
       "    </tr>\n",
       "    <tr>\n",
       "      <th>4</th>\n",
       "      <td>Dec 15, 2017</td>\n",
       "      <td>Star Wars Ep. VIII: The Last Jedi</td>\n",
       "      <td>317000000</td>\n",
       "      <td>620181382</td>\n",
       "      <td>1316721747</td>\n",
       "      <td>2017-12-15</td>\n",
       "      <td>50</td>\n",
       "      <td>4</td>\n",
       "      <td>12</td>\n",
       "      <td>2017</td>\n",
       "      <td>0</td>\n",
       "    </tr>\n",
       "  </tbody>\n",
       "</table>\n",
       "</div>"
      ],
      "text/plain": [
       "   release_date                                        movie  \\\n",
       "0  Dec 18, 2009                                       Avatar   \n",
       "1  May 20, 2011  Pirates of the Caribbean: On Stranger Tides   \n",
       "2   Jun 7, 2019                                 Dark Phoenix   \n",
       "3   May 1, 2015                      Avengers: Age of Ultron   \n",
       "4  Dec 15, 2017            Star Wars Ep. VIII: The Last Jedi   \n",
       "\n",
       "   production_budget  domestic_gross  worldwide_gross   datetime  \\\n",
       "0          425000000       760507625       2776345279 2009-12-18   \n",
       "1          410600000       241063875       1045663875 2011-05-20   \n",
       "2          350000000        42762350        149762350 2019-06-07   \n",
       "3          330600000       459005868       1403013963 2015-05-01   \n",
       "4          317000000       620181382       1316721747 2017-12-15   \n",
       "\n",
       "   release_weeknum  release_weekday  release_month  release_year  weekend  \n",
       "0               51                4             12          2009        0  \n",
       "1               20                4              5          2011        0  \n",
       "2               23                4              6          2019        0  \n",
       "3               18                4              5          2015        0  \n",
       "4               50                4             12          2017        0  "
      ]
     },
     "execution_count": 4,
     "metadata": {},
     "output_type": "execute_result"
    }
   ],
   "source": [
    "# nab the tn dataset and clean up columns regarding budget and gross profit\n",
    "from datetime import datetime\n",
    "tn_df = pd.read_csv(\"zippedData/tn.movie_budgets.csv.gz\").drop(\"id\", axis = 1)\n",
    "tn_df[\"production_budget\"].replace([\"\\$\",\",\"], \"\", regex = True, inplace = True)\n",
    "tn_df[\"domestic_gross\"].replace([\"\\$\",\",\"], \"\", regex = True, inplace = True)\n",
    "tn_df[\"worldwide_gross\"].replace([\"\\$\",\",\"], \"\", regex = True, inplace = True)\n",
    "\n",
    "# convert budget and profit columns to numeric\n",
    "cols = [\"production_budget\",\"domestic_gross\",\"worldwide_gross\"]\n",
    "tn_df[cols] = tn_df[cols].apply(pd.to_numeric)\n",
    "\n",
    "# created new columns to grab date information (day, week of year, month, etc.)\n",
    "tn_df[\"datetime\"] = [datetime.strptime(d, \"%b %d, %Y\") for d in tn_df[\"release_date\"]]\n",
    "tn_df[\"release_weeknum\"] = [d.isocalendar()[1] for d in tn_df[\"datetime\"]]\n",
    "tn_df[\"release_weekday\"] = [d.weekday() for d in tn_df[\"datetime\"]]\n",
    "tn_df[\"release_month\"] = [d.month for d in tn_df[\"datetime\"]]\n",
    "tn_df[\"release_year\"] = [d.year for d in tn_df[\"datetime\"]]\n",
    "\n",
    "# calc movie seasonal info (came out on a weekend, calander season)\n",
    "tn_df[\"weekend\"]  = np.where((tn_df[\"release_weekday\"]== 5) |\n",
    "                                  (tn_df[\"release_weekday\"]== 6),\n",
    "                                    1, 0)   \n",
    "\n",
    "tn_df.head(5)"
   ]
  },
  {
   "cell_type": "code",
   "execution_count": 5,
   "metadata": {
    "ExecuteTime": {
     "end_time": "2022-08-15T21:20:08.685854Z",
     "start_time": "2022-08-15T21:20:08.656962Z"
    }
   },
   "outputs": [
    {
     "name": "stdout",
     "output_type": "stream",
     "text": [
      "<class 'pandas.core.frame.DataFrame'>\n",
      "RangeIndex: 5782 entries, 0 to 5781\n",
      "Data columns (total 11 columns):\n",
      " #   Column             Non-Null Count  Dtype         \n",
      "---  ------             --------------  -----         \n",
      " 0   release_date       5782 non-null   object        \n",
      " 1   movie              5782 non-null   object        \n",
      " 2   production_budget  5782 non-null   int64         \n",
      " 3   domestic_gross     5782 non-null   int64         \n",
      " 4   worldwide_gross    5782 non-null   int64         \n",
      " 5   datetime           5782 non-null   datetime64[ns]\n",
      " 6   release_weeknum    5782 non-null   int64         \n",
      " 7   release_weekday    5782 non-null   int64         \n",
      " 8   release_month      5782 non-null   int64         \n",
      " 9   release_year       5782 non-null   int64         \n",
      " 10  weekend            5782 non-null   int32         \n",
      "dtypes: datetime64[ns](1), int32(1), int64(7), object(2)\n",
      "memory usage: 474.4+ KB\n"
     ]
    }
   ],
   "source": [
    "# null check\n",
    "tn_df.info()"
   ]
  },
  {
   "cell_type": "code",
   "execution_count": 6,
   "metadata": {
    "ExecuteTime": {
     "end_time": "2022-08-15T21:20:08.732176Z",
     "start_time": "2022-08-15T21:20:08.687369Z"
    }
   },
   "outputs": [
    {
     "data": {
      "text/html": [
       "<div>\n",
       "<style scoped>\n",
       "    .dataframe tbody tr th:only-of-type {\n",
       "        vertical-align: middle;\n",
       "    }\n",
       "\n",
       "    .dataframe tbody tr th {\n",
       "        vertical-align: top;\n",
       "    }\n",
       "\n",
       "    .dataframe thead th {\n",
       "        text-align: right;\n",
       "    }\n",
       "</style>\n",
       "<table border=\"1\" class=\"dataframe\">\n",
       "  <thead>\n",
       "    <tr style=\"text-align: right;\">\n",
       "      <th></th>\n",
       "      <th>title</th>\n",
       "      <th>studio</th>\n",
       "      <th>domestic_gross</th>\n",
       "      <th>foreign_gross</th>\n",
       "      <th>year</th>\n",
       "    </tr>\n",
       "  </thead>\n",
       "  <tbody>\n",
       "    <tr>\n",
       "      <th>0</th>\n",
       "      <td>Toy Story 3</td>\n",
       "      <td>BV</td>\n",
       "      <td>415000000.0</td>\n",
       "      <td>652000000.0</td>\n",
       "      <td>2010</td>\n",
       "    </tr>\n",
       "    <tr>\n",
       "      <th>1</th>\n",
       "      <td>Alice in Wonderland (2010)</td>\n",
       "      <td>BV</td>\n",
       "      <td>334200000.0</td>\n",
       "      <td>691300000.0</td>\n",
       "      <td>2010</td>\n",
       "    </tr>\n",
       "    <tr>\n",
       "      <th>2</th>\n",
       "      <td>Harry Potter and the Deathly Hallows Part 1</td>\n",
       "      <td>WB</td>\n",
       "      <td>296000000.0</td>\n",
       "      <td>664300000.0</td>\n",
       "      <td>2010</td>\n",
       "    </tr>\n",
       "    <tr>\n",
       "      <th>3</th>\n",
       "      <td>Inception</td>\n",
       "      <td>WB</td>\n",
       "      <td>292600000.0</td>\n",
       "      <td>535700000.0</td>\n",
       "      <td>2010</td>\n",
       "    </tr>\n",
       "    <tr>\n",
       "      <th>4</th>\n",
       "      <td>Shrek Forever After</td>\n",
       "      <td>P/DW</td>\n",
       "      <td>238700000.0</td>\n",
       "      <td>513900000.0</td>\n",
       "      <td>2010</td>\n",
       "    </tr>\n",
       "  </tbody>\n",
       "</table>\n",
       "</div>"
      ],
      "text/plain": [
       "                                         title studio  domestic_gross  \\\n",
       "0                                  Toy Story 3     BV     415000000.0   \n",
       "1                   Alice in Wonderland (2010)     BV     334200000.0   \n",
       "2  Harry Potter and the Deathly Hallows Part 1     WB     296000000.0   \n",
       "3                                    Inception     WB     292600000.0   \n",
       "4                          Shrek Forever After   P/DW     238700000.0   \n",
       "\n",
       "   foreign_gross  year  \n",
       "0    652000000.0  2010  \n",
       "1    691300000.0  2010  \n",
       "2    664300000.0  2010  \n",
       "3    535700000.0  2010  \n",
       "4    513900000.0  2010  "
      ]
     },
     "execution_count": 6,
     "metadata": {},
     "output_type": "execute_result"
    }
   ],
   "source": [
    "# cleaned up dataset by gathering gross profit values and dropping NaN studios\n",
    "bom_df = pd.read_csv(\"zippedData/bom.movie_gross.csv.gz\")\n",
    "bom_df[\"foreign_gross\"].replace(\",\",\"\", regex = True, inplace = True)\n",
    "bom_df[\"foreign_gross\"] = pd.to_numeric(bom_df[\"foreign_gross\"])\n",
    "bom_df[\"foreign_gross\"].fillna(bom_df[\"foreign_gross\"].median(), inplace = True)\n",
    "bom_df[\"domestic_gross\"].fillna(bom_df[\"domestic_gross\"].median(), inplace = True)\n",
    "bom_df.dropna(subset = [\"studio\"], inplace = True)\n",
    "bom_df.head(5)"
   ]
  },
  {
   "cell_type": "code",
   "execution_count": 7,
   "metadata": {
    "ExecuteTime": {
     "end_time": "2022-08-15T21:20:08.747603Z",
     "start_time": "2022-08-15T21:20:08.735290Z"
    }
   },
   "outputs": [
    {
     "name": "stdout",
     "output_type": "stream",
     "text": [
      "<class 'pandas.core.frame.DataFrame'>\n",
      "Int64Index: 3382 entries, 0 to 3386\n",
      "Data columns (total 5 columns):\n",
      " #   Column          Non-Null Count  Dtype  \n",
      "---  ------          --------------  -----  \n",
      " 0   title           3382 non-null   object \n",
      " 1   studio          3382 non-null   object \n",
      " 2   domestic_gross  3382 non-null   float64\n",
      " 3   foreign_gross   3382 non-null   float64\n",
      " 4   year            3382 non-null   int64  \n",
      "dtypes: float64(2), int64(1), object(2)\n",
      "memory usage: 158.5+ KB\n"
     ]
    }
   ],
   "source": [
    "bom_df.info()"
   ]
  },
  {
   "cell_type": "code",
   "execution_count": 8,
   "metadata": {
    "ExecuteTime": {
     "end_time": "2022-08-15T21:20:09.304326Z",
     "start_time": "2022-08-15T21:20:08.751630Z"
    }
   },
   "outputs": [],
   "source": [
    "# Grab movie basics info along with average ratings for each from imdb dataset\n",
    "imdb_df = pd.read_sql('''\n",
    "SELECT *\n",
    "FROM movie_basics\n",
    "    INNER JOIN movie_ratings USING(\"movie_id\")\n",
    "''',conn)\n",
    "    \n",
    "    \n",
    "    #INNER JOIN known_for USING(\"movie_id\")\n",
    "    #INNER JOIN persons USING(\"person_id\")"
   ]
  },
  {
   "cell_type": "code",
   "execution_count": 9,
   "metadata": {
    "ExecuteTime": {
     "end_time": "2022-08-15T21:20:09.554547Z",
     "start_time": "2022-08-15T21:20:09.305485Z"
    }
   },
   "outputs": [
    {
     "data": {
      "text/html": [
       "<div>\n",
       "<style scoped>\n",
       "    .dataframe tbody tr th:only-of-type {\n",
       "        vertical-align: middle;\n",
       "    }\n",
       "\n",
       "    .dataframe tbody tr th {\n",
       "        vertical-align: top;\n",
       "    }\n",
       "\n",
       "    .dataframe thead th {\n",
       "        text-align: right;\n",
       "    }\n",
       "</style>\n",
       "<table border=\"1\" class=\"dataframe\">\n",
       "  <thead>\n",
       "    <tr style=\"text-align: right;\">\n",
       "      <th></th>\n",
       "      <th>movie_id</th>\n",
       "      <th>primary_title</th>\n",
       "      <th>original_title</th>\n",
       "      <th>start_year</th>\n",
       "      <th>runtime_minutes</th>\n",
       "      <th>genres</th>\n",
       "      <th>averagerating</th>\n",
       "      <th>numvotes</th>\n",
       "      <th>genres_list</th>\n",
       "      <th>genres_count</th>\n",
       "    </tr>\n",
       "  </thead>\n",
       "  <tbody>\n",
       "    <tr>\n",
       "      <th>0</th>\n",
       "      <td>tt0063540</td>\n",
       "      <td>Sunghursh</td>\n",
       "      <td>Sunghursh</td>\n",
       "      <td>2013</td>\n",
       "      <td>175.000000</td>\n",
       "      <td>Action,Crime,Drama</td>\n",
       "      <td>7.0</td>\n",
       "      <td>77</td>\n",
       "      <td>[Action, Crime, Drama]</td>\n",
       "      <td>3</td>\n",
       "    </tr>\n",
       "    <tr>\n",
       "      <th>1</th>\n",
       "      <td>tt0066787</td>\n",
       "      <td>One Day Before the Rainy Season</td>\n",
       "      <td>Ashad Ka Ek Din</td>\n",
       "      <td>2019</td>\n",
       "      <td>114.000000</td>\n",
       "      <td>Biography,Drama</td>\n",
       "      <td>7.2</td>\n",
       "      <td>43</td>\n",
       "      <td>[Biography, Drama]</td>\n",
       "      <td>2</td>\n",
       "    </tr>\n",
       "    <tr>\n",
       "      <th>2</th>\n",
       "      <td>tt0069049</td>\n",
       "      <td>The Other Side of the Wind</td>\n",
       "      <td>The Other Side of the Wind</td>\n",
       "      <td>2018</td>\n",
       "      <td>122.000000</td>\n",
       "      <td>Drama</td>\n",
       "      <td>6.9</td>\n",
       "      <td>4517</td>\n",
       "      <td>[Drama]</td>\n",
       "      <td>1</td>\n",
       "    </tr>\n",
       "    <tr>\n",
       "      <th>3</th>\n",
       "      <td>tt0069204</td>\n",
       "      <td>Sabse Bada Sukh</td>\n",
       "      <td>Sabse Bada Sukh</td>\n",
       "      <td>2018</td>\n",
       "      <td>94.732273</td>\n",
       "      <td>Comedy,Drama</td>\n",
       "      <td>6.1</td>\n",
       "      <td>13</td>\n",
       "      <td>[Comedy, Drama]</td>\n",
       "      <td>2</td>\n",
       "    </tr>\n",
       "    <tr>\n",
       "      <th>4</th>\n",
       "      <td>tt0100275</td>\n",
       "      <td>The Wandering Soap Opera</td>\n",
       "      <td>La Telenovela Errante</td>\n",
       "      <td>2017</td>\n",
       "      <td>80.000000</td>\n",
       "      <td>Comedy,Drama,Fantasy</td>\n",
       "      <td>6.5</td>\n",
       "      <td>119</td>\n",
       "      <td>[Comedy, Drama, Fantasy]</td>\n",
       "      <td>3</td>\n",
       "    </tr>\n",
       "    <tr>\n",
       "      <th>...</th>\n",
       "      <td>...</td>\n",
       "      <td>...</td>\n",
       "      <td>...</td>\n",
       "      <td>...</td>\n",
       "      <td>...</td>\n",
       "      <td>...</td>\n",
       "      <td>...</td>\n",
       "      <td>...</td>\n",
       "      <td>...</td>\n",
       "      <td>...</td>\n",
       "    </tr>\n",
       "    <tr>\n",
       "      <th>73850</th>\n",
       "      <td>tt9913056</td>\n",
       "      <td>Swarm Season</td>\n",
       "      <td>Swarm Season</td>\n",
       "      <td>2019</td>\n",
       "      <td>86.000000</td>\n",
       "      <td>Documentary</td>\n",
       "      <td>6.2</td>\n",
       "      <td>5</td>\n",
       "      <td>[Documentary]</td>\n",
       "      <td>1</td>\n",
       "    </tr>\n",
       "    <tr>\n",
       "      <th>73851</th>\n",
       "      <td>tt9913084</td>\n",
       "      <td>Diabolik sono io</td>\n",
       "      <td>Diabolik sono io</td>\n",
       "      <td>2019</td>\n",
       "      <td>75.000000</td>\n",
       "      <td>Documentary</td>\n",
       "      <td>6.2</td>\n",
       "      <td>6</td>\n",
       "      <td>[Documentary]</td>\n",
       "      <td>1</td>\n",
       "    </tr>\n",
       "    <tr>\n",
       "      <th>73852</th>\n",
       "      <td>tt9914286</td>\n",
       "      <td>Sokagin Çocuklari</td>\n",
       "      <td>Sokagin Çocuklari</td>\n",
       "      <td>2019</td>\n",
       "      <td>98.000000</td>\n",
       "      <td>Drama,Family</td>\n",
       "      <td>8.7</td>\n",
       "      <td>136</td>\n",
       "      <td>[Drama, Family]</td>\n",
       "      <td>2</td>\n",
       "    </tr>\n",
       "    <tr>\n",
       "      <th>73853</th>\n",
       "      <td>tt9914642</td>\n",
       "      <td>Albatross</td>\n",
       "      <td>Albatross</td>\n",
       "      <td>2017</td>\n",
       "      <td>94.732273</td>\n",
       "      <td>Documentary</td>\n",
       "      <td>8.5</td>\n",
       "      <td>8</td>\n",
       "      <td>[Documentary]</td>\n",
       "      <td>1</td>\n",
       "    </tr>\n",
       "    <tr>\n",
       "      <th>73855</th>\n",
       "      <td>tt9916160</td>\n",
       "      <td>Drømmeland</td>\n",
       "      <td>Drømmeland</td>\n",
       "      <td>2019</td>\n",
       "      <td>72.000000</td>\n",
       "      <td>Documentary</td>\n",
       "      <td>6.5</td>\n",
       "      <td>11</td>\n",
       "      <td>[Documentary]</td>\n",
       "      <td>1</td>\n",
       "    </tr>\n",
       "  </tbody>\n",
       "</table>\n",
       "<p>73009 rows × 10 columns</p>\n",
       "</div>"
      ],
      "text/plain": [
       "        movie_id                    primary_title              original_title  \\\n",
       "0      tt0063540                        Sunghursh                   Sunghursh   \n",
       "1      tt0066787  One Day Before the Rainy Season             Ashad Ka Ek Din   \n",
       "2      tt0069049       The Other Side of the Wind  The Other Side of the Wind   \n",
       "3      tt0069204                  Sabse Bada Sukh             Sabse Bada Sukh   \n",
       "4      tt0100275         The Wandering Soap Opera       La Telenovela Errante   \n",
       "...          ...                              ...                         ...   \n",
       "73850  tt9913056                     Swarm Season                Swarm Season   \n",
       "73851  tt9913084                 Diabolik sono io            Diabolik sono io   \n",
       "73852  tt9914286                Sokagin Çocuklari           Sokagin Çocuklari   \n",
       "73853  tt9914642                        Albatross                   Albatross   \n",
       "73855  tt9916160                       Drømmeland                  Drømmeland   \n",
       "\n",
       "       start_year  runtime_minutes                genres  averagerating  \\\n",
       "0            2013       175.000000    Action,Crime,Drama            7.0   \n",
       "1            2019       114.000000       Biography,Drama            7.2   \n",
       "2            2018       122.000000                 Drama            6.9   \n",
       "3            2018        94.732273          Comedy,Drama            6.1   \n",
       "4            2017        80.000000  Comedy,Drama,Fantasy            6.5   \n",
       "...           ...              ...                   ...            ...   \n",
       "73850        2019        86.000000           Documentary            6.2   \n",
       "73851        2019        75.000000           Documentary            6.2   \n",
       "73852        2019        98.000000          Drama,Family            8.7   \n",
       "73853        2017        94.732273           Documentary            8.5   \n",
       "73855        2019        72.000000           Documentary            6.5   \n",
       "\n",
       "       numvotes               genres_list  genres_count  \n",
       "0            77    [Action, Crime, Drama]             3  \n",
       "1            43        [Biography, Drama]             2  \n",
       "2          4517                   [Drama]             1  \n",
       "3            13           [Comedy, Drama]             2  \n",
       "4           119  [Comedy, Drama, Fantasy]             3  \n",
       "...         ...                       ...           ...  \n",
       "73850         5             [Documentary]             1  \n",
       "73851         6             [Documentary]             1  \n",
       "73852       136           [Drama, Family]             2  \n",
       "73853         8             [Documentary]             1  \n",
       "73855        11             [Documentary]             1  \n",
       "\n",
       "[73009 rows x 10 columns]"
      ]
     },
     "execution_count": 9,
     "metadata": {},
     "output_type": "execute_result"
    }
   ],
   "source": [
    "# Data cleaning to get genre count and runtime minutes\n",
    "imdb_df.dropna(subset = [\"genres\"], inplace = True)\n",
    "#imdb_df.dropna(subset = [\"primary_profession\"], inplace = True)\n",
    "imdb_df[\"runtime_minutes\"] = imdb_df[\"runtime_minutes\"].fillna(imdb_df[\"runtime_minutes\"].mean())\n",
    "imdb_df[\"genres_list\"] = [gs.split(\",\") for gs in imdb_df[\"genres\"]]\n",
    "imdb_df[\"genres_count\"] = [len(gs) for gs in imdb_df[\"genres_list\"]]\n",
    "#imdb_df[\"prof_list\"] = [gs.split(\",\") for gs in imdb_df[\"primary_profession\"]]\n",
    "imdb_df = imdb_df[imdb_df[\"runtime_minutes\"] <= 300]\n",
    "imdb_df"
   ]
  },
  {
   "cell_type": "code",
   "execution_count": 10,
   "metadata": {
    "ExecuteTime": {
     "end_time": "2022-08-15T21:20:09.618010Z",
     "start_time": "2022-08-15T21:20:09.555936Z"
    }
   },
   "outputs": [
    {
     "data": {
      "text/html": [
       "<div>\n",
       "<style scoped>\n",
       "    .dataframe tbody tr th:only-of-type {\n",
       "        vertical-align: middle;\n",
       "    }\n",
       "\n",
       "    .dataframe tbody tr th {\n",
       "        vertical-align: top;\n",
       "    }\n",
       "\n",
       "    .dataframe thead th {\n",
       "        text-align: right;\n",
       "    }\n",
       "</style>\n",
       "<table border=\"1\" class=\"dataframe\">\n",
       "  <thead>\n",
       "    <tr style=\"text-align: right;\">\n",
       "      <th></th>\n",
       "      <th>movie_id</th>\n",
       "      <th>primary_title</th>\n",
       "      <th>original_title</th>\n",
       "      <th>start_year</th>\n",
       "      <th>runtime_minutes</th>\n",
       "      <th>genres</th>\n",
       "      <th>averagerating</th>\n",
       "      <th>numvotes</th>\n",
       "      <th>genres_list</th>\n",
       "      <th>genres_count</th>\n",
       "      <th>title</th>\n",
       "      <th>studio</th>\n",
       "      <th>domestic_gross</th>\n",
       "      <th>foreign_gross</th>\n",
       "      <th>year</th>\n",
       "    </tr>\n",
       "  </thead>\n",
       "  <tbody>\n",
       "    <tr>\n",
       "      <th>0</th>\n",
       "      <td>tt0315642</td>\n",
       "      <td>Wazir</td>\n",
       "      <td>Wazir</td>\n",
       "      <td>2016</td>\n",
       "      <td>103.0</td>\n",
       "      <td>Action,Crime,Drama</td>\n",
       "      <td>7.1</td>\n",
       "      <td>15378</td>\n",
       "      <td>[Action, Crime, Drama]</td>\n",
       "      <td>3</td>\n",
       "      <td>Wazir</td>\n",
       "      <td>Relbig.</td>\n",
       "      <td>1100000.0</td>\n",
       "      <td>18700000.0</td>\n",
       "      <td>2016</td>\n",
       "    </tr>\n",
       "    <tr>\n",
       "      <th>1</th>\n",
       "      <td>tt0337692</td>\n",
       "      <td>On the Road</td>\n",
       "      <td>On the Road</td>\n",
       "      <td>2012</td>\n",
       "      <td>124.0</td>\n",
       "      <td>Adventure,Drama,Romance</td>\n",
       "      <td>6.1</td>\n",
       "      <td>37886</td>\n",
       "      <td>[Adventure, Drama, Romance]</td>\n",
       "      <td>3</td>\n",
       "      <td>On the Road</td>\n",
       "      <td>IFC</td>\n",
       "      <td>744000.0</td>\n",
       "      <td>8000000.0</td>\n",
       "      <td>2012</td>\n",
       "    </tr>\n",
       "    <tr>\n",
       "      <th>2</th>\n",
       "      <td>tt0359950</td>\n",
       "      <td>The Secret Life of Walter Mitty</td>\n",
       "      <td>The Secret Life of Walter Mitty</td>\n",
       "      <td>2013</td>\n",
       "      <td>114.0</td>\n",
       "      <td>Adventure,Comedy,Drama</td>\n",
       "      <td>7.3</td>\n",
       "      <td>275300</td>\n",
       "      <td>[Adventure, Comedy, Drama]</td>\n",
       "      <td>3</td>\n",
       "      <td>The Secret Life of Walter Mitty</td>\n",
       "      <td>Fox</td>\n",
       "      <td>58200000.0</td>\n",
       "      <td>129900000.0</td>\n",
       "      <td>2013</td>\n",
       "    </tr>\n",
       "    <tr>\n",
       "      <th>3</th>\n",
       "      <td>tt0365907</td>\n",
       "      <td>A Walk Among the Tombstones</td>\n",
       "      <td>A Walk Among the Tombstones</td>\n",
       "      <td>2014</td>\n",
       "      <td>114.0</td>\n",
       "      <td>Action,Crime,Drama</td>\n",
       "      <td>6.5</td>\n",
       "      <td>105116</td>\n",
       "      <td>[Action, Crime, Drama]</td>\n",
       "      <td>3</td>\n",
       "      <td>A Walk Among the Tombstones</td>\n",
       "      <td>Uni.</td>\n",
       "      <td>26300000.0</td>\n",
       "      <td>26900000.0</td>\n",
       "      <td>2014</td>\n",
       "    </tr>\n",
       "    <tr>\n",
       "      <th>4</th>\n",
       "      <td>tt0369610</td>\n",
       "      <td>Jurassic World</td>\n",
       "      <td>Jurassic World</td>\n",
       "      <td>2015</td>\n",
       "      <td>124.0</td>\n",
       "      <td>Action,Adventure,Sci-Fi</td>\n",
       "      <td>7.0</td>\n",
       "      <td>539338</td>\n",
       "      <td>[Action, Adventure, Sci-Fi]</td>\n",
       "      <td>3</td>\n",
       "      <td>Jurassic World</td>\n",
       "      <td>Uni.</td>\n",
       "      <td>652300000.0</td>\n",
       "      <td>1019.4</td>\n",
       "      <td>2015</td>\n",
       "    </tr>\n",
       "  </tbody>\n",
       "</table>\n",
       "</div>"
      ],
      "text/plain": [
       "    movie_id                    primary_title  \\\n",
       "0  tt0315642                            Wazir   \n",
       "1  tt0337692                      On the Road   \n",
       "2  tt0359950  The Secret Life of Walter Mitty   \n",
       "3  tt0365907      A Walk Among the Tombstones   \n",
       "4  tt0369610                   Jurassic World   \n",
       "\n",
       "                    original_title  start_year  runtime_minutes  \\\n",
       "0                            Wazir        2016            103.0   \n",
       "1                      On the Road        2012            124.0   \n",
       "2  The Secret Life of Walter Mitty        2013            114.0   \n",
       "3      A Walk Among the Tombstones        2014            114.0   \n",
       "4                   Jurassic World        2015            124.0   \n",
       "\n",
       "                    genres  averagerating  numvotes  \\\n",
       "0       Action,Crime,Drama            7.1     15378   \n",
       "1  Adventure,Drama,Romance            6.1     37886   \n",
       "2   Adventure,Comedy,Drama            7.3    275300   \n",
       "3       Action,Crime,Drama            6.5    105116   \n",
       "4  Action,Adventure,Sci-Fi            7.0    539338   \n",
       "\n",
       "                   genres_list  genres_count                            title  \\\n",
       "0       [Action, Crime, Drama]             3                            Wazir   \n",
       "1  [Adventure, Drama, Romance]             3                      On the Road   \n",
       "2   [Adventure, Comedy, Drama]             3  The Secret Life of Walter Mitty   \n",
       "3       [Action, Crime, Drama]             3      A Walk Among the Tombstones   \n",
       "4  [Action, Adventure, Sci-Fi]             3                   Jurassic World   \n",
       "\n",
       "    studio  domestic_gross  foreign_gross  year  \n",
       "0  Relbig.       1100000.0     18700000.0  2016  \n",
       "1      IFC        744000.0      8000000.0  2012  \n",
       "2      Fox      58200000.0    129900000.0  2013  \n",
       "3     Uni.      26300000.0     26900000.0  2014  \n",
       "4     Uni.     652300000.0         1019.4  2015  "
      ]
     },
     "execution_count": 10,
     "metadata": {},
     "output_type": "execute_result"
    }
   ],
   "source": [
    "# merging datasets imdb (cleaned) and bom (cleaned) with inner join\n",
    "# on movie titles and year of movie release\n",
    "imdb_df_c = imdb_df.merge(bom_df, how = \"inner\", \n",
    "                          left_on = [\"primary_title\", \"start_year\"], \n",
    "                          right_on = [\"title\",\"year\"])\n",
    "imdb_df_c.head(5)"
   ]
  },
  {
   "cell_type": "code",
   "execution_count": 11,
   "metadata": {
    "ExecuteTime": {
     "end_time": "2022-08-15T21:20:09.664926Z",
     "start_time": "2022-08-15T21:20:09.620618Z"
    }
   },
   "outputs": [
    {
     "data": {
      "text/html": [
       "<div>\n",
       "<style scoped>\n",
       "    .dataframe tbody tr th:only-of-type {\n",
       "        vertical-align: middle;\n",
       "    }\n",
       "\n",
       "    .dataframe tbody tr th {\n",
       "        vertical-align: top;\n",
       "    }\n",
       "\n",
       "    .dataframe thead th {\n",
       "        text-align: right;\n",
       "    }\n",
       "</style>\n",
       "<table border=\"1\" class=\"dataframe\">\n",
       "  <thead>\n",
       "    <tr style=\"text-align: right;\">\n",
       "      <th></th>\n",
       "      <th>movie_id</th>\n",
       "      <th>primary_title</th>\n",
       "      <th>original_title</th>\n",
       "      <th>start_year</th>\n",
       "      <th>runtime_minutes</th>\n",
       "      <th>genres</th>\n",
       "      <th>averagerating</th>\n",
       "      <th>numvotes</th>\n",
       "      <th>genres_list</th>\n",
       "      <th>genres_count</th>\n",
       "      <th>...</th>\n",
       "      <th>movie</th>\n",
       "      <th>production_budget</th>\n",
       "      <th>domestic_gross_y</th>\n",
       "      <th>worldwide_gross</th>\n",
       "      <th>datetime</th>\n",
       "      <th>release_weeknum</th>\n",
       "      <th>release_weekday</th>\n",
       "      <th>release_month</th>\n",
       "      <th>release_year</th>\n",
       "      <th>weekend</th>\n",
       "    </tr>\n",
       "  </thead>\n",
       "  <tbody>\n",
       "    <tr>\n",
       "      <th>0</th>\n",
       "      <td>tt0359950</td>\n",
       "      <td>The Secret Life of Walter Mitty</td>\n",
       "      <td>The Secret Life of Walter Mitty</td>\n",
       "      <td>2013</td>\n",
       "      <td>114.0</td>\n",
       "      <td>Adventure,Comedy,Drama</td>\n",
       "      <td>7.3</td>\n",
       "      <td>275300</td>\n",
       "      <td>[Adventure, Comedy, Drama]</td>\n",
       "      <td>3</td>\n",
       "      <td>...</td>\n",
       "      <td>The Secret Life of Walter Mitty</td>\n",
       "      <td>91000000</td>\n",
       "      <td>58236838</td>\n",
       "      <td>187861183</td>\n",
       "      <td>2013-12-25</td>\n",
       "      <td>52</td>\n",
       "      <td>2</td>\n",
       "      <td>12</td>\n",
       "      <td>2013</td>\n",
       "      <td>0</td>\n",
       "    </tr>\n",
       "    <tr>\n",
       "      <th>1</th>\n",
       "      <td>tt0365907</td>\n",
       "      <td>A Walk Among the Tombstones</td>\n",
       "      <td>A Walk Among the Tombstones</td>\n",
       "      <td>2014</td>\n",
       "      <td>114.0</td>\n",
       "      <td>Action,Crime,Drama</td>\n",
       "      <td>6.5</td>\n",
       "      <td>105116</td>\n",
       "      <td>[Action, Crime, Drama]</td>\n",
       "      <td>3</td>\n",
       "      <td>...</td>\n",
       "      <td>A Walk Among the Tombstones</td>\n",
       "      <td>28000000</td>\n",
       "      <td>26017685</td>\n",
       "      <td>62108587</td>\n",
       "      <td>2014-09-19</td>\n",
       "      <td>38</td>\n",
       "      <td>4</td>\n",
       "      <td>9</td>\n",
       "      <td>2014</td>\n",
       "      <td>0</td>\n",
       "    </tr>\n",
       "    <tr>\n",
       "      <th>2</th>\n",
       "      <td>tt0369610</td>\n",
       "      <td>Jurassic World</td>\n",
       "      <td>Jurassic World</td>\n",
       "      <td>2015</td>\n",
       "      <td>124.0</td>\n",
       "      <td>Action,Adventure,Sci-Fi</td>\n",
       "      <td>7.0</td>\n",
       "      <td>539338</td>\n",
       "      <td>[Action, Adventure, Sci-Fi]</td>\n",
       "      <td>3</td>\n",
       "      <td>...</td>\n",
       "      <td>Jurassic World</td>\n",
       "      <td>215000000</td>\n",
       "      <td>652270625</td>\n",
       "      <td>1648854864</td>\n",
       "      <td>2015-06-12</td>\n",
       "      <td>24</td>\n",
       "      <td>4</td>\n",
       "      <td>6</td>\n",
       "      <td>2015</td>\n",
       "      <td>0</td>\n",
       "    </tr>\n",
       "    <tr>\n",
       "      <th>3</th>\n",
       "      <td>tt0376136</td>\n",
       "      <td>The Rum Diary</td>\n",
       "      <td>The Rum Diary</td>\n",
       "      <td>2011</td>\n",
       "      <td>119.0</td>\n",
       "      <td>Comedy,Drama</td>\n",
       "      <td>6.2</td>\n",
       "      <td>94787</td>\n",
       "      <td>[Comedy, Drama]</td>\n",
       "      <td>2</td>\n",
       "      <td>...</td>\n",
       "      <td>The Rum Diary</td>\n",
       "      <td>45000000</td>\n",
       "      <td>13109815</td>\n",
       "      <td>21544732</td>\n",
       "      <td>2011-10-28</td>\n",
       "      <td>43</td>\n",
       "      <td>4</td>\n",
       "      <td>10</td>\n",
       "      <td>2011</td>\n",
       "      <td>0</td>\n",
       "    </tr>\n",
       "    <tr>\n",
       "      <th>4</th>\n",
       "      <td>tt0383010</td>\n",
       "      <td>The Three Stooges</td>\n",
       "      <td>The Three Stooges</td>\n",
       "      <td>2012</td>\n",
       "      <td>92.0</td>\n",
       "      <td>Comedy,Family</td>\n",
       "      <td>5.1</td>\n",
       "      <td>28570</td>\n",
       "      <td>[Comedy, Family]</td>\n",
       "      <td>2</td>\n",
       "      <td>...</td>\n",
       "      <td>The Three Stooges</td>\n",
       "      <td>30000000</td>\n",
       "      <td>44338224</td>\n",
       "      <td>54052249</td>\n",
       "      <td>2012-04-13</td>\n",
       "      <td>15</td>\n",
       "      <td>4</td>\n",
       "      <td>4</td>\n",
       "      <td>2012</td>\n",
       "      <td>0</td>\n",
       "    </tr>\n",
       "  </tbody>\n",
       "</table>\n",
       "<p>5 rows × 26 columns</p>\n",
       "</div>"
      ],
      "text/plain": [
       "    movie_id                    primary_title  \\\n",
       "0  tt0359950  The Secret Life of Walter Mitty   \n",
       "1  tt0365907      A Walk Among the Tombstones   \n",
       "2  tt0369610                   Jurassic World   \n",
       "3  tt0376136                    The Rum Diary   \n",
       "4  tt0383010                The Three Stooges   \n",
       "\n",
       "                    original_title  start_year  runtime_minutes  \\\n",
       "0  The Secret Life of Walter Mitty        2013            114.0   \n",
       "1      A Walk Among the Tombstones        2014            114.0   \n",
       "2                   Jurassic World        2015            124.0   \n",
       "3                    The Rum Diary        2011            119.0   \n",
       "4                The Three Stooges        2012             92.0   \n",
       "\n",
       "                    genres  averagerating  numvotes  \\\n",
       "0   Adventure,Comedy,Drama            7.3    275300   \n",
       "1       Action,Crime,Drama            6.5    105116   \n",
       "2  Action,Adventure,Sci-Fi            7.0    539338   \n",
       "3             Comedy,Drama            6.2     94787   \n",
       "4            Comedy,Family            5.1     28570   \n",
       "\n",
       "                   genres_list  genres_count  ...  \\\n",
       "0   [Adventure, Comedy, Drama]             3  ...   \n",
       "1       [Action, Crime, Drama]             3  ...   \n",
       "2  [Action, Adventure, Sci-Fi]             3  ...   \n",
       "3              [Comedy, Drama]             2  ...   \n",
       "4             [Comedy, Family]             2  ...   \n",
       "\n",
       "                             movie production_budget  domestic_gross_y  \\\n",
       "0  The Secret Life of Walter Mitty          91000000          58236838   \n",
       "1      A Walk Among the Tombstones          28000000          26017685   \n",
       "2                   Jurassic World         215000000         652270625   \n",
       "3                    The Rum Diary          45000000          13109815   \n",
       "4                The Three Stooges          30000000          44338224   \n",
       "\n",
       "   worldwide_gross   datetime release_weeknum release_weekday  release_month  \\\n",
       "0        187861183 2013-12-25              52               2             12   \n",
       "1         62108587 2014-09-19              38               4              9   \n",
       "2       1648854864 2015-06-12              24               4              6   \n",
       "3         21544732 2011-10-28              43               4             10   \n",
       "4         54052249 2012-04-13              15               4              4   \n",
       "\n",
       "   release_year  weekend  \n",
       "0          2013        0  \n",
       "1          2014        0  \n",
       "2          2015        0  \n",
       "3          2011        0  \n",
       "4          2012        0  \n",
       "\n",
       "[5 rows x 26 columns]"
      ]
     },
     "execution_count": 11,
     "metadata": {},
     "output_type": "execute_result"
    }
   ],
   "source": [
    "# merging datasets imdb_c (cleaned) and tn (cleaned) with inner join\n",
    "# on movie titles and year of movie release\n",
    "imdb_df_c2 = imdb_df_c.merge(tn_df, how = \"inner\", \n",
    "                             left_on = [\"primary_title\", \"start_year\"], \n",
    "                             right_on = [\"movie\",\"release_year\"])\n",
    "\n",
    "# it's beautiful\n",
    "imdb_df_c2.head(5)"
   ]
  },
  {
   "cell_type": "code",
   "execution_count": 12,
   "metadata": {
    "ExecuteTime": {
     "end_time": "2022-08-15T21:20:09.680386Z",
     "start_time": "2022-08-15T21:20:09.666296Z"
    }
   },
   "outputs": [
    {
     "name": "stdout",
     "output_type": "stream",
     "text": [
      "<class 'pandas.core.frame.DataFrame'>\n",
      "Int64Index: 1042 entries, 0 to 1041\n",
      "Data columns (total 26 columns):\n",
      " #   Column             Non-Null Count  Dtype         \n",
      "---  ------             --------------  -----         \n",
      " 0   movie_id           1042 non-null   object        \n",
      " 1   primary_title      1042 non-null   object        \n",
      " 2   original_title     1042 non-null   object        \n",
      " 3   start_year         1042 non-null   int64         \n",
      " 4   runtime_minutes    1042 non-null   float64       \n",
      " 5   genres             1042 non-null   object        \n",
      " 6   averagerating      1042 non-null   float64       \n",
      " 7   numvotes           1042 non-null   int64         \n",
      " 8   genres_list        1042 non-null   object        \n",
      " 9   genres_count       1042 non-null   int64         \n",
      " 10  title              1042 non-null   object        \n",
      " 11  studio             1042 non-null   object        \n",
      " 12  domestic_gross_x   1042 non-null   float64       \n",
      " 13  foreign_gross      1042 non-null   float64       \n",
      " 14  year               1042 non-null   int64         \n",
      " 15  release_date       1042 non-null   object        \n",
      " 16  movie              1042 non-null   object        \n",
      " 17  production_budget  1042 non-null   int64         \n",
      " 18  domestic_gross_y   1042 non-null   int64         \n",
      " 19  worldwide_gross    1042 non-null   int64         \n",
      " 20  datetime           1042 non-null   datetime64[ns]\n",
      " 21  release_weeknum    1042 non-null   int64         \n",
      " 22  release_weekday    1042 non-null   int64         \n",
      " 23  release_month      1042 non-null   int64         \n",
      " 24  release_year       1042 non-null   int64         \n",
      " 25  weekend            1042 non-null   int32         \n",
      "dtypes: datetime64[ns](1), float64(4), int32(1), int64(11), object(9)\n",
      "memory usage: 215.7+ KB\n"
     ]
    }
   ],
   "source": [
    "imdb_df_c2.info()"
   ]
  },
  {
   "cell_type": "markdown",
   "metadata": {},
   "source": [
    "## EDA"
   ]
  },
  {
   "cell_type": "code",
   "execution_count": 13,
   "metadata": {
    "ExecuteTime": {
     "end_time": "2022-08-15T21:20:09.696107Z",
     "start_time": "2022-08-15T21:20:09.681918Z"
    }
   },
   "outputs": [],
   "source": [
    "# plots the number of movies that have various categories\n",
    "# genre_Dict = {}\n",
    "# for genres in tmdb_df[\"genre_ids\"]:\n",
    "#     for g in genres.replace(\"[\",\"\").replace(\"]\",\"\").split(\", \"):\n",
    "#         if g not in genre_Dict:\n",
    "#             genre_Dict[g] = 1\n",
    "#         else:\n",
    "#             genre_Dict[g] += 1\n",
    "\n",
    "\n",
    "# genre_Dict[\"0\"] = genre_Dict.pop(\"\")\n",
    "# fig, ax = plt.subplots()\n",
    "# ax.bar(genre_Dict.keys(),genre_Dict.values())\n",
    "# ax.set_xlabel(\"Genre\")\n",
    "# ax.set_ylabel(\"Count\")\n",
    "# plt.xticks(rotation = 90) "
   ]
  },
  {
   "cell_type": "code",
   "execution_count": 14,
   "metadata": {
    "ExecuteTime": {
     "end_time": "2022-08-15T21:20:09.711578Z",
     "start_time": "2022-08-15T21:20:09.698385Z"
    }
   },
   "outputs": [],
   "source": [
    "# Shows top 5 languages in movies\n",
    "# org_langs_tmdb = tmdb_df[\"original_language\"].value_counts()[:5]\n",
    "# fig, ax = plt.subplots()\n",
    "# ax.bar(org_langs_tmdb.index,org_langs_tmdb)"
   ]
  },
  {
   "cell_type": "code",
   "execution_count": 15,
   "metadata": {
    "ExecuteTime": {
     "end_time": "2022-08-15T21:20:09.727241Z",
     "start_time": "2022-08-15T21:20:09.714750Z"
    }
   },
   "outputs": [],
   "source": [
    "# boxoffice_dist = [int(b.replace(\",\",\"\")) for b in rt_movie_df[\"box_office\"] if isinstance(b, str)]\n",
    "# fig, ax = plt.subplots()\n",
    "# ax.hist(boxoffice_dist, bins = 25)\n",
    "# ax.set_title(\"Distribution of Box Office Earnings\")\n",
    "# ax.set_xlabel(\"Box Office Earnings\")\n",
    "# ax.set_ylabel(\"Frequency\")\n",
    "# plt.xticks(rotation = 90) \n",
    "# fig.show()"
   ]
  },
  {
   "cell_type": "code",
   "execution_count": 16,
   "metadata": {
    "ExecuteTime": {
     "end_time": "2022-08-15T21:20:09.911921Z",
     "start_time": "2022-08-15T21:20:09.730779Z"
    }
   },
   "outputs": [
    {
     "name": "stderr",
     "output_type": "stream",
     "text": [
      "<ipython-input-16-a8ec1373fbc0>:6: UserWarning: Matplotlib is currently using module://ipykernel.pylab.backend_inline, which is a non-GUI backend, so cannot show the figure.\n",
      "  fig.show()\n"
     ]
    },
    {
     "data": {
      "image/png": "[encoded data removed]",
      "text/plain": [
       "<Figure size 432x288 with 1 Axes>"
      ]
     },
     "metadata": {
      "needs_background": "light"
     },
     "output_type": "display_data"
    }
   ],
   "source": [
    "fig, ax = plt.subplots()\n",
    "ax.scatter(imdb_df_c[\"runtime_minutes\"], imdb_df_c[\"averagerating\"])\n",
    "ax.set_title(\"Movie Runtime vs. Average Rating\")\n",
    "ax.set_xlabel(\"Movie Runtime (mins)\")\n",
    "ax.set_ylabel(\"Averate Rating\")\n",
    "fig.show()"
   ]
  },
  {
   "cell_type": "code",
   "execution_count": 17,
   "metadata": {
    "ExecuteTime": {
     "end_time": "2022-08-15T21:20:10.081603Z",
     "start_time": "2022-08-15T21:20:09.913427Z"
    }
   },
   "outputs": [
    {
     "data": {
      "text/plain": [
       "Text(0, 0.5, 'Frequency')"
      ]
     },
     "execution_count": 17,
     "metadata": {},
     "output_type": "execute_result"
    },
    {
     "data": {
      "image/png": "[encoded data removed]",
      "text/plain": [
       "<Figure size 432x288 with 1 Axes>"
      ]
     },
     "metadata": {
      "needs_background": "light"
     },
     "output_type": "display_data"
    }
   ],
   "source": [
    "fig, ax = plt.subplots()\n",
    "ax.hist(imdb_df_c2[\"runtime_minutes\"])\n",
    "ax.set_title(\"Distribution of Movie Runtime\")\n",
    "ax.set_xlabel(\"Movie Runtime (mins)\")\n",
    "ax.set_ylabel(\"Frequency\")\n",
    "#fig.show()"
   ]
  },
  {
   "cell_type": "code",
   "execution_count": 18,
   "metadata": {
    "ExecuteTime": {
     "end_time": "2022-08-15T21:20:10.236591Z",
     "start_time": "2022-08-15T21:20:10.083654Z"
    }
   },
   "outputs": [
    {
     "data": {
      "text/plain": [
       "Text(0, 0.5, 'Frequency')"
      ]
     },
     "execution_count": 18,
     "metadata": {},
     "output_type": "execute_result"
    },
    {
     "data": {
      "image/png": "[encoded data removed]",
      "text/plain": [
       "<Figure size 432x288 with 1 Axes>"
      ]
     },
     "metadata": {
      "needs_background": "light"
     },
     "output_type": "display_data"
    }
   ],
   "source": [
    "fig, ax = plt.subplots()\n",
    "ax.hist(imdb_df_c2[\"averagerating\"])\n",
    "ax.set_title(\"Distribution of Average Ratings\")\n",
    "ax.set_xlabel(\"Average Rating\")\n",
    "ax.set_ylabel(\"Frequency\")"
   ]
  },
  {
   "cell_type": "code",
   "execution_count": 19,
   "metadata": {
    "ExecuteTime": {
     "end_time": "2022-08-15T21:20:10.438308Z",
     "start_time": "2022-08-15T21:20:10.238649Z"
    }
   },
   "outputs": [
    {
     "data": {
      "text/plain": [
       "Text(0, 0.5, 'Relative Frequency')"
      ]
     },
     "execution_count": 19,
     "metadata": {},
     "output_type": "execute_result"
    },
    {
     "data": {
      "image/png": "[encoded data removed]",
      "text/plain": [
       "<Figure size 432x288 with 1 Axes>"
      ]
     },
     "metadata": {
      "needs_background": "light"
     },
     "output_type": "display_data"
    }
   ],
   "source": [
    "g_count = imdb_df_c2[\"genres_count\"].value_counts(normalize  = True)\n",
    "labs = [str(x) for x in g_count.index]\n",
    "fig, ax = plt.subplots()\n",
    "ax.bar(labs, g_count)\n",
    "ax.set_title(\"Distribution of Genre Counts\")\n",
    "ax.set_xlabel(\"Number of Genres\")\n",
    "ax.set_ylabel(\"Relative Frequency\")"
   ]
  },
  {
   "cell_type": "markdown",
   "metadata": {},
   "source": [
    "## Hypothesis Testing"
   ]
  },
  {
   "cell_type": "markdown",
   "metadata": {},
   "source": [
    "### Runtime and Worldwide Gross"
   ]
  },
  {
   "cell_type": "markdown",
   "metadata": {},
   "source": [
    "H0: Movies longer than 90 minutes do no make more worldwide gross revenue than those shorter than 90 minutes.\n",
    "\n",
    "Ha: Movies longer than 90 minutes do make more worldwide gross revenue than those shorter than 90 minutes."
   ]
  },
  {
   "cell_type": "code",
   "execution_count": 20,
   "metadata": {
    "ExecuteTime": {
     "end_time": "2022-08-15T21:20:10.453741Z",
     "start_time": "2022-08-15T21:20:10.441002Z"
    }
   },
   "outputs": [],
   "source": [
    "import scipy.stats as stats"
   ]
  },
  {
   "cell_type": "code",
   "execution_count": 21,
   "metadata": {
    "ExecuteTime": {
     "end_time": "2022-08-15T21:20:10.499220Z",
     "start_time": "2022-08-15T21:20:10.455805Z"
    }
   },
   "outputs": [
    {
     "data": {
      "text/html": [
       "<div>\n",
       "<style scoped>\n",
       "    .dataframe tbody tr th:only-of-type {\n",
       "        vertical-align: middle;\n",
       "    }\n",
       "\n",
       "    .dataframe tbody tr th {\n",
       "        vertical-align: top;\n",
       "    }\n",
       "\n",
       "    .dataframe thead th {\n",
       "        text-align: right;\n",
       "    }\n",
       "</style>\n",
       "<table border=\"1\" class=\"dataframe\">\n",
       "  <thead>\n",
       "    <tr style=\"text-align: right;\">\n",
       "      <th></th>\n",
       "      <th>movie_id</th>\n",
       "      <th>primary_title</th>\n",
       "      <th>original_title</th>\n",
       "      <th>start_year</th>\n",
       "      <th>runtime_minutes</th>\n",
       "      <th>genres</th>\n",
       "      <th>averagerating</th>\n",
       "      <th>numvotes</th>\n",
       "      <th>genres_list</th>\n",
       "      <th>genres_count</th>\n",
       "      <th>...</th>\n",
       "      <th>movie</th>\n",
       "      <th>production_budget</th>\n",
       "      <th>domestic_gross_y</th>\n",
       "      <th>worldwide_gross</th>\n",
       "      <th>datetime</th>\n",
       "      <th>release_weeknum</th>\n",
       "      <th>release_weekday</th>\n",
       "      <th>release_month</th>\n",
       "      <th>release_year</th>\n",
       "      <th>weekend</th>\n",
       "    </tr>\n",
       "  </thead>\n",
       "  <tbody>\n",
       "    <tr>\n",
       "      <th>0</th>\n",
       "      <td>tt0359950</td>\n",
       "      <td>The Secret Life of Walter Mitty</td>\n",
       "      <td>The Secret Life of Walter Mitty</td>\n",
       "      <td>2013</td>\n",
       "      <td>114.0</td>\n",
       "      <td>Adventure,Comedy,Drama</td>\n",
       "      <td>7.3</td>\n",
       "      <td>275300</td>\n",
       "      <td>[Adventure, Comedy, Drama]</td>\n",
       "      <td>3</td>\n",
       "      <td>...</td>\n",
       "      <td>The Secret Life of Walter Mitty</td>\n",
       "      <td>91000000</td>\n",
       "      <td>58236838</td>\n",
       "      <td>187861183</td>\n",
       "      <td>2013-12-25</td>\n",
       "      <td>52</td>\n",
       "      <td>2</td>\n",
       "      <td>12</td>\n",
       "      <td>2013</td>\n",
       "      <td>0</td>\n",
       "    </tr>\n",
       "    <tr>\n",
       "      <th>1</th>\n",
       "      <td>tt0365907</td>\n",
       "      <td>A Walk Among the Tombstones</td>\n",
       "      <td>A Walk Among the Tombstones</td>\n",
       "      <td>2014</td>\n",
       "      <td>114.0</td>\n",
       "      <td>Action,Crime,Drama</td>\n",
       "      <td>6.5</td>\n",
       "      <td>105116</td>\n",
       "      <td>[Action, Crime, Drama]</td>\n",
       "      <td>3</td>\n",
       "      <td>...</td>\n",
       "      <td>A Walk Among the Tombstones</td>\n",
       "      <td>28000000</td>\n",
       "      <td>26017685</td>\n",
       "      <td>62108587</td>\n",
       "      <td>2014-09-19</td>\n",
       "      <td>38</td>\n",
       "      <td>4</td>\n",
       "      <td>9</td>\n",
       "      <td>2014</td>\n",
       "      <td>0</td>\n",
       "    </tr>\n",
       "    <tr>\n",
       "      <th>2</th>\n",
       "      <td>tt0369610</td>\n",
       "      <td>Jurassic World</td>\n",
       "      <td>Jurassic World</td>\n",
       "      <td>2015</td>\n",
       "      <td>124.0</td>\n",
       "      <td>Action,Adventure,Sci-Fi</td>\n",
       "      <td>7.0</td>\n",
       "      <td>539338</td>\n",
       "      <td>[Action, Adventure, Sci-Fi]</td>\n",
       "      <td>3</td>\n",
       "      <td>...</td>\n",
       "      <td>Jurassic World</td>\n",
       "      <td>215000000</td>\n",
       "      <td>652270625</td>\n",
       "      <td>1648854864</td>\n",
       "      <td>2015-06-12</td>\n",
       "      <td>24</td>\n",
       "      <td>4</td>\n",
       "      <td>6</td>\n",
       "      <td>2015</td>\n",
       "      <td>0</td>\n",
       "    </tr>\n",
       "    <tr>\n",
       "      <th>3</th>\n",
       "      <td>tt0376136</td>\n",
       "      <td>The Rum Diary</td>\n",
       "      <td>The Rum Diary</td>\n",
       "      <td>2011</td>\n",
       "      <td>119.0</td>\n",
       "      <td>Comedy,Drama</td>\n",
       "      <td>6.2</td>\n",
       "      <td>94787</td>\n",
       "      <td>[Comedy, Drama]</td>\n",
       "      <td>2</td>\n",
       "      <td>...</td>\n",
       "      <td>The Rum Diary</td>\n",
       "      <td>45000000</td>\n",
       "      <td>13109815</td>\n",
       "      <td>21544732</td>\n",
       "      <td>2011-10-28</td>\n",
       "      <td>43</td>\n",
       "      <td>4</td>\n",
       "      <td>10</td>\n",
       "      <td>2011</td>\n",
       "      <td>0</td>\n",
       "    </tr>\n",
       "    <tr>\n",
       "      <th>4</th>\n",
       "      <td>tt0383010</td>\n",
       "      <td>The Three Stooges</td>\n",
       "      <td>The Three Stooges</td>\n",
       "      <td>2012</td>\n",
       "      <td>92.0</td>\n",
       "      <td>Comedy,Family</td>\n",
       "      <td>5.1</td>\n",
       "      <td>28570</td>\n",
       "      <td>[Comedy, Family]</td>\n",
       "      <td>2</td>\n",
       "      <td>...</td>\n",
       "      <td>The Three Stooges</td>\n",
       "      <td>30000000</td>\n",
       "      <td>44338224</td>\n",
       "      <td>54052249</td>\n",
       "      <td>2012-04-13</td>\n",
       "      <td>15</td>\n",
       "      <td>4</td>\n",
       "      <td>4</td>\n",
       "      <td>2012</td>\n",
       "      <td>0</td>\n",
       "    </tr>\n",
       "  </tbody>\n",
       "</table>\n",
       "<p>5 rows × 26 columns</p>\n",
       "</div>"
      ],
      "text/plain": [
       "    movie_id                    primary_title  \\\n",
       "0  tt0359950  The Secret Life of Walter Mitty   \n",
       "1  tt0365907      A Walk Among the Tombstones   \n",
       "2  tt0369610                   Jurassic World   \n",
       "3  tt0376136                    The Rum Diary   \n",
       "4  tt0383010                The Three Stooges   \n",
       "\n",
       "                    original_title  start_year  runtime_minutes  \\\n",
       "0  The Secret Life of Walter Mitty        2013            114.0   \n",
       "1      A Walk Among the Tombstones        2014            114.0   \n",
       "2                   Jurassic World        2015            124.0   \n",
       "3                    The Rum Diary        2011            119.0   \n",
       "4                The Three Stooges        2012             92.0   \n",
       "\n",
       "                    genres  averagerating  numvotes  \\\n",
       "0   Adventure,Comedy,Drama            7.3    275300   \n",
       "1       Action,Crime,Drama            6.5    105116   \n",
       "2  Action,Adventure,Sci-Fi            7.0    539338   \n",
       "3             Comedy,Drama            6.2     94787   \n",
       "4            Comedy,Family            5.1     28570   \n",
       "\n",
       "                   genres_list  genres_count  ...  \\\n",
       "0   [Adventure, Comedy, Drama]             3  ...   \n",
       "1       [Action, Crime, Drama]             3  ...   \n",
       "2  [Action, Adventure, Sci-Fi]             3  ...   \n",
       "3              [Comedy, Drama]             2  ...   \n",
       "4             [Comedy, Family]             2  ...   \n",
       "\n",
       "                             movie production_budget  domestic_gross_y  \\\n",
       "0  The Secret Life of Walter Mitty          91000000          58236838   \n",
       "1      A Walk Among the Tombstones          28000000          26017685   \n",
       "2                   Jurassic World         215000000         652270625   \n",
       "3                    The Rum Diary          45000000          13109815   \n",
       "4                The Three Stooges          30000000          44338224   \n",
       "\n",
       "   worldwide_gross   datetime release_weeknum release_weekday  release_month  \\\n",
       "0        187861183 2013-12-25              52               2             12   \n",
       "1         62108587 2014-09-19              38               4              9   \n",
       "2       1648854864 2015-06-12              24               4              6   \n",
       "3         21544732 2011-10-28              43               4             10   \n",
       "4         54052249 2012-04-13              15               4              4   \n",
       "\n",
       "   release_year  weekend  \n",
       "0          2013        0  \n",
       "1          2014        0  \n",
       "2          2015        0  \n",
       "3          2011        0  \n",
       "4          2012        0  \n",
       "\n",
       "[5 rows x 26 columns]"
      ]
     },
     "execution_count": 21,
     "metadata": {},
     "output_type": "execute_result"
    }
   ],
   "source": [
    "long_movies = imdb_df_c2[imdb_df_c2[\"runtime_minutes\"]>= 90]\n",
    "long_movies.head()"
   ]
  },
  {
   "cell_type": "code",
   "execution_count": 22,
   "metadata": {
    "ExecuteTime": {
     "end_time": "2022-08-15T21:20:10.562153Z",
     "start_time": "2022-08-15T21:20:10.503846Z"
    }
   },
   "outputs": [
    {
     "data": {
      "text/html": [
       "<div>\n",
       "<style scoped>\n",
       "    .dataframe tbody tr th:only-of-type {\n",
       "        vertical-align: middle;\n",
       "    }\n",
       "\n",
       "    .dataframe tbody tr th {\n",
       "        vertical-align: top;\n",
       "    }\n",
       "\n",
       "    .dataframe thead th {\n",
       "        text-align: right;\n",
       "    }\n",
       "</style>\n",
       "<table border=\"1\" class=\"dataframe\">\n",
       "  <thead>\n",
       "    <tr style=\"text-align: right;\">\n",
       "      <th></th>\n",
       "      <th>movie_id</th>\n",
       "      <th>primary_title</th>\n",
       "      <th>original_title</th>\n",
       "      <th>start_year</th>\n",
       "      <th>runtime_minutes</th>\n",
       "      <th>genres</th>\n",
       "      <th>averagerating</th>\n",
       "      <th>numvotes</th>\n",
       "      <th>genres_list</th>\n",
       "      <th>genres_count</th>\n",
       "      <th>...</th>\n",
       "      <th>movie</th>\n",
       "      <th>production_budget</th>\n",
       "      <th>domestic_gross_y</th>\n",
       "      <th>worldwide_gross</th>\n",
       "      <th>datetime</th>\n",
       "      <th>release_weeknum</th>\n",
       "      <th>release_weekday</th>\n",
       "      <th>release_month</th>\n",
       "      <th>release_year</th>\n",
       "      <th>weekend</th>\n",
       "    </tr>\n",
       "  </thead>\n",
       "  <tbody>\n",
       "    <tr>\n",
       "      <th>20</th>\n",
       "      <td>tt0464154</td>\n",
       "      <td>Piranha 3D</td>\n",
       "      <td>Piranha 3D</td>\n",
       "      <td>2010</td>\n",
       "      <td>88.0</td>\n",
       "      <td>Comedy,Horror</td>\n",
       "      <td>5.4</td>\n",
       "      <td>81327</td>\n",
       "      <td>[Comedy, Horror]</td>\n",
       "      <td>2</td>\n",
       "      <td>...</td>\n",
       "      <td>Piranha 3D</td>\n",
       "      <td>24000000</td>\n",
       "      <td>25003155</td>\n",
       "      <td>83660160</td>\n",
       "      <td>2010-08-20</td>\n",
       "      <td>33</td>\n",
       "      <td>4</td>\n",
       "      <td>8</td>\n",
       "      <td>2010</td>\n",
       "      <td>0</td>\n",
       "    </tr>\n",
       "    <tr>\n",
       "      <th>60</th>\n",
       "      <td>tt0822847</td>\n",
       "      <td>Priest</td>\n",
       "      <td>Priest</td>\n",
       "      <td>2011</td>\n",
       "      <td>87.0</td>\n",
       "      <td>Action,Adventure,Fantasy</td>\n",
       "      <td>5.7</td>\n",
       "      <td>108320</td>\n",
       "      <td>[Action, Adventure, Fantasy]</td>\n",
       "      <td>3</td>\n",
       "      <td>...</td>\n",
       "      <td>Priest</td>\n",
       "      <td>60000000</td>\n",
       "      <td>29136626</td>\n",
       "      <td>84154026</td>\n",
       "      <td>2011-05-13</td>\n",
       "      <td>19</td>\n",
       "      <td>4</td>\n",
       "      <td>5</td>\n",
       "      <td>2011</td>\n",
       "      <td>0</td>\n",
       "    </tr>\n",
       "    <tr>\n",
       "      <th>68</th>\n",
       "      <td>tt0873886</td>\n",
       "      <td>Red State</td>\n",
       "      <td>Red State</td>\n",
       "      <td>2011</td>\n",
       "      <td>88.0</td>\n",
       "      <td>Action,Crime,Horror</td>\n",
       "      <td>6.2</td>\n",
       "      <td>59266</td>\n",
       "      <td>[Action, Crime, Horror]</td>\n",
       "      <td>3</td>\n",
       "      <td>...</td>\n",
       "      <td>Red State</td>\n",
       "      <td>4000000</td>\n",
       "      <td>1065429</td>\n",
       "      <td>1983596</td>\n",
       "      <td>2011-09-23</td>\n",
       "      <td>38</td>\n",
       "      <td>4</td>\n",
       "      <td>9</td>\n",
       "      <td>2011</td>\n",
       "      <td>0</td>\n",
       "    </tr>\n",
       "    <tr>\n",
       "      <th>69</th>\n",
       "      <td>tt0878835</td>\n",
       "      <td>Please Give</td>\n",
       "      <td>Please Give</td>\n",
       "      <td>2010</td>\n",
       "      <td>87.0</td>\n",
       "      <td>Comedy,Drama</td>\n",
       "      <td>6.6</td>\n",
       "      <td>10652</td>\n",
       "      <td>[Comedy, Drama]</td>\n",
       "      <td>2</td>\n",
       "      <td>...</td>\n",
       "      <td>Please Give</td>\n",
       "      <td>3000000</td>\n",
       "      <td>4033574</td>\n",
       "      <td>4570178</td>\n",
       "      <td>2010-04-30</td>\n",
       "      <td>17</td>\n",
       "      <td>4</td>\n",
       "      <td>4</td>\n",
       "      <td>2010</td>\n",
       "      <td>0</td>\n",
       "    </tr>\n",
       "    <tr>\n",
       "      <th>128</th>\n",
       "      <td>tt1075747</td>\n",
       "      <td>Jonah Hex</td>\n",
       "      <td>Jonah Hex</td>\n",
       "      <td>2010</td>\n",
       "      <td>81.0</td>\n",
       "      <td>Action,Drama,Fantasy</td>\n",
       "      <td>4.7</td>\n",
       "      <td>51860</td>\n",
       "      <td>[Action, Drama, Fantasy]</td>\n",
       "      <td>3</td>\n",
       "      <td>...</td>\n",
       "      <td>Jonah Hex</td>\n",
       "      <td>47000000</td>\n",
       "      <td>10547117</td>\n",
       "      <td>11022696</td>\n",
       "      <td>2010-06-18</td>\n",
       "      <td>24</td>\n",
       "      <td>4</td>\n",
       "      <td>6</td>\n",
       "      <td>2010</td>\n",
       "      <td>0</td>\n",
       "    </tr>\n",
       "  </tbody>\n",
       "</table>\n",
       "<p>5 rows × 26 columns</p>\n",
       "</div>"
      ],
      "text/plain": [
       "      movie_id primary_title original_title  start_year  runtime_minutes  \\\n",
       "20   tt0464154    Piranha 3D     Piranha 3D        2010             88.0   \n",
       "60   tt0822847        Priest         Priest        2011             87.0   \n",
       "68   tt0873886     Red State      Red State        2011             88.0   \n",
       "69   tt0878835   Please Give    Please Give        2010             87.0   \n",
       "128  tt1075747     Jonah Hex      Jonah Hex        2010             81.0   \n",
       "\n",
       "                       genres  averagerating  numvotes  \\\n",
       "20              Comedy,Horror            5.4     81327   \n",
       "60   Action,Adventure,Fantasy            5.7    108320   \n",
       "68        Action,Crime,Horror            6.2     59266   \n",
       "69               Comedy,Drama            6.6     10652   \n",
       "128      Action,Drama,Fantasy            4.7     51860   \n",
       "\n",
       "                      genres_list  genres_count  ...        movie  \\\n",
       "20               [Comedy, Horror]             2  ...   Piranha 3D   \n",
       "60   [Action, Adventure, Fantasy]             3  ...       Priest   \n",
       "68        [Action, Crime, Horror]             3  ...    Red State   \n",
       "69                [Comedy, Drama]             2  ...  Please Give   \n",
       "128      [Action, Drama, Fantasy]             3  ...    Jonah Hex   \n",
       "\n",
       "    production_budget  domestic_gross_y  worldwide_gross   datetime  \\\n",
       "20           24000000          25003155         83660160 2010-08-20   \n",
       "60           60000000          29136626         84154026 2011-05-13   \n",
       "68            4000000           1065429          1983596 2011-09-23   \n",
       "69            3000000           4033574          4570178 2010-04-30   \n",
       "128          47000000          10547117         11022696 2010-06-18   \n",
       "\n",
       "    release_weeknum release_weekday  release_month  release_year  weekend  \n",
       "20               33               4              8          2010        0  \n",
       "60               19               4              5          2011        0  \n",
       "68               38               4              9          2011        0  \n",
       "69               17               4              4          2010        0  \n",
       "128              24               4              6          2010        0  \n",
       "\n",
       "[5 rows x 26 columns]"
      ]
     },
     "execution_count": 22,
     "metadata": {},
     "output_type": "execute_result"
    }
   ],
   "source": [
    "short_movies = imdb_df_c2[imdb_df_c2[\"runtime_minutes\"]< 90]\n",
    "short_movies.head()"
   ]
  },
  {
   "cell_type": "code",
   "execution_count": 23,
   "metadata": {
    "ExecuteTime": {
     "end_time": "2022-08-15T21:20:10.577222Z",
     "start_time": "2022-08-15T21:20:10.565149Z"
    }
   },
   "outputs": [
    {
     "name": "stdout",
     "output_type": "stream",
     "text": [
      "The t-statistic is 2.6138902993196336.\n",
      "The p-value is 0.004540553996159626.\n",
      "We reject the null hypothesis at an alpha level of 0.05.\n"
     ]
    }
   ],
   "source": [
    "results = stats.ttest_ind(long_movies[\"worldwide_gross\"], \n",
    "                          short_movies[\"worldwide_gross\"], alternative = \"greater\")\n",
    "alpha = 0.05\n",
    "print(\"The t-statistic is {}.\".format(results.statistic))\n",
    "print(\"The p-value is {}.\".format(results.pvalue))\n",
    "if(results.pvalue < alpha): \n",
    "    print(\"We reject the null hypothesis at an alpha level of {}.\".format(alpha))\n",
    "else:\n",
    "    print(\"We fail to reject the null hypothesis at an alpha level of {}.\".format(alpha))"
   ]
  },
  {
   "cell_type": "code",
   "execution_count": 24,
   "metadata": {
    "ExecuteTime": {
     "end_time": "2022-08-15T21:20:10.592602Z",
     "start_time": "2022-08-15T21:20:10.579436Z"
    }
   },
   "outputs": [
    {
     "data": {
      "text/plain": [
       "(163656738.5425468, 196184526.65324265)"
      ]
     },
     "execution_count": 24,
     "metadata": {},
     "output_type": "execute_result"
    }
   ],
   "source": [
    "a = long_movies[\"worldwide_gross\"]\n",
    "b = short_movies[\"worldwide_gross\"]\n",
    "\n",
    "stats.t.interval(confidence=0.95, loc=a.mean(), \n",
    "                 df=len(a)-1, \n",
    "                 scale=stats.sem(a)) "
   ]
  },
  {
   "cell_type": "code",
   "execution_count": 25,
   "metadata": {
    "ExecuteTime": {
     "end_time": "2022-08-15T21:20:10.607706Z",
     "start_time": "2022-08-15T21:20:10.596613Z"
    }
   },
   "outputs": [
    {
     "data": {
      "text/plain": [
       "(71853007.88457924, 145506308.96324685)"
      ]
     },
     "execution_count": 25,
     "metadata": {},
     "output_type": "execute_result"
    }
   ],
   "source": [
    "stats.t.interval(confidence=0.95, loc=b.mean(), \n",
    "                 df=len(b)-1, \n",
    "                 scale=stats.sem(b)) "
   ]
  },
  {
   "cell_type": "markdown",
   "metadata": {},
   "source": [
    "### Genre Count and Worldwide Gross"
   ]
  },
  {
   "cell_type": "markdown",
   "metadata": {},
   "source": [
    "H0: Movies that occupy three genres do not have higher worldwide gross than those with only one or two genres.\n",
    "\n",
    "Ha: Movies that occupy three genres do have higher worldwide gross than those with only one or two genres."
   ]
  },
  {
   "cell_type": "code",
   "execution_count": 26,
   "metadata": {
    "ExecuteTime": {
     "end_time": "2022-08-15T21:20:10.623188Z",
     "start_time": "2022-08-15T21:20:10.612229Z"
    }
   },
   "outputs": [],
   "source": [
    "genres_3 = imdb_df_c2[imdb_df_c2[\"genres_count\"]== 3]\n",
    "genres_1or2 = imdb_df_c2[imdb_df_c2[\"genres_count\"]!= 3]"
   ]
  },
  {
   "cell_type": "code",
   "execution_count": 27,
   "metadata": {
    "ExecuteTime": {
     "end_time": "2022-08-15T21:20:10.638176Z",
     "start_time": "2022-08-15T21:20:10.627104Z"
    }
   },
   "outputs": [
    {
     "name": "stdout",
     "output_type": "stream",
     "text": [
      "The t-statistic is 7.098657850001625.\n",
      "The p-value is 1.1648349533500548e-12.\n",
      "We reject the null hypothesis at an alpha level of 0.05.\n"
     ]
    }
   ],
   "source": [
    "results = stats.ttest_ind(genres_3[\"worldwide_gross\"], \n",
    "                          genres_1or2[\"worldwide_gross\"], alternative = \"greater\")\n",
    "alpha = 0.05\n",
    "print(\"The t-statistic is {}.\".format(results.statistic))\n",
    "print(\"The p-value is {}.\".format(results.pvalue))\n",
    "if(results.pvalue < alpha): \n",
    "    print(\"We reject the null hypothesis at an alpha level of {}.\".format(alpha))\n",
    "else:\n",
    "    print(\"We fail to reject the null hypothesis at an alpha level of {}.\".format(alpha))"
   ]
  },
  {
   "cell_type": "markdown",
   "metadata": {},
   "source": [
    "### Movie Budget and Worldwide Gross"
   ]
  },
  {
   "cell_type": "markdown",
   "metadata": {},
   "source": [
    "H0: Movies with higher budgets do not have larger worldwide gross than those with smaller budgets on average.\n",
    "\n",
    "Ha: Movies with higher budgets do have larger worldwide gross than those with smaller budgets."
   ]
  },
  {
   "cell_type": "code",
   "execution_count": 28,
   "metadata": {
    "ExecuteTime": {
     "end_time": "2022-08-15T21:20:10.778471Z",
     "start_time": "2022-08-15T21:20:10.640467Z"
    }
   },
   "outputs": [
    {
     "data": {
      "text/plain": [
       "<AxesSubplot:>"
      ]
     },
     "execution_count": 28,
     "metadata": {},
     "output_type": "execute_result"
    },
    {
     "data": {
      "image/png": "[encoded data removed]",
      "text/plain": [
       "<Figure size 432x288 with 1 Axes>"
      ]
     },
     "metadata": {
      "needs_background": "light"
     },
     "output_type": "display_data"
    }
   ],
   "source": [
    "imdb_df_c2[\"production_budget\"].hist()"
   ]
  },
  {
   "cell_type": "code",
   "execution_count": 29,
   "metadata": {
    "ExecuteTime": {
     "end_time": "2022-08-15T21:20:10.794208Z",
     "start_time": "2022-08-15T21:20:10.779077Z"
    }
   },
   "outputs": [],
   "source": [
    "high_prod = imdb_df_c2[imdb_df_c2[\"production_budget\"] >= imdb_df_c2[\"production_budget\"].median()]\n",
    "low_prod = imdb_df_c2[imdb_df_c2[\"production_budget\"] < imdb_df_c2[\"production_budget\"].median()]"
   ]
  },
  {
   "cell_type": "code",
   "execution_count": 30,
   "metadata": {
    "ExecuteTime": {
     "end_time": "2022-08-15T21:20:10.809573Z",
     "start_time": "2022-08-15T21:20:10.796328Z"
    }
   },
   "outputs": [
    {
     "name": "stdout",
     "output_type": "stream",
     "text": [
      "The t-statistic is 17.148857550607637.\n",
      "The p-value is 1.518394591951212e-58.\n",
      "We reject the null hypothesis at an alpha level of 0.05.\n"
     ]
    }
   ],
   "source": [
    "results = stats.ttest_ind(high_prod[\"worldwide_gross\"], low_prod[\"worldwide_gross\"], alternative = \"greater\")\n",
    "alpha = 0.05\n",
    "print(\"The t-statistic is {}.\".format(results.statistic))\n",
    "print(\"The p-value is {}.\".format(results.pvalue))\n",
    "if(results.pvalue < alpha): \n",
    "    print(\"We reject the null hypothesis at an alpha level of {}.\".format(alpha))\n",
    "else:\n",
    "    print(\"We fail to reject the null hypothesis at an alpha level of {}.\".format(alpha))"
   ]
  },
  {
   "cell_type": "code",
   "execution_count": null,
   "metadata": {},
   "outputs": [],
   "source": []
  },
  {
   "cell_type": "code",
   "execution_count": null,
   "metadata": {},
   "outputs": [],
   "source": []
  }
 ],
 "metadata": {
  "kernelspec": {
   "display_name": "Python 3",
   "language": "python",
   "name": "python3"
  },
  "language_info": {
   "codemirror_mode": {
    "name": "ipython",
    "version": 3
   },
   "file_extension": ".py",
   "mimetype": "text/x-python",
   "name": "python",
   "nbconvert_exporter": "python",
   "pygments_lexer": "ipython3",
   "version": "3.8.5"
  },
  "toc": {
   "base_numbering": 1,
   "nav_menu": {},
   "number_sections": true,
   "sideBar": true,
   "skip_h1_title": false,
   "title_cell": "Table of Contents",
   "title_sidebar": "Contents",
   "toc_cell": false,
   "toc_position": {},
   "toc_section_display": true,
   "toc_window_display": false
  },
  "varInspector": {
   "cols": {
    "lenName": 16,
    "lenType": 16,
    "lenVar": 40
   },
   "kernels_config": {
    "python": {
     "delete_cmd_postfix": "",
     "delete_cmd_prefix": "del ",
     "library": "var_list.py",
     "varRefreshCmd": "print(var_dic_list())"
    },
    "r": {
     "delete_cmd_postfix": ") ",
     "delete_cmd_prefix": "rm(",
     "library": "var_list.r",
     "varRefreshCmd": "cat(var_dic_list()) "
    }
   },
   "types_to_exclude": [
    "module",
    "function",
    "builtin_function_or_method",
    "instance",
    "_Feature"
   ],
   "window_display": false
  }
 },
 "nbformat": 4,
 "nbformat_minor": 2
}
