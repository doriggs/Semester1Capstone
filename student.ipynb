{
 "cells": [
  {
   "cell_type": "markdown",
   "metadata": {},
   "source": [
    "## Semester 1 Project Submission\n",
    "\n",
    "Please fill out:\n",
    "* Student name: \n",
    "* Instructor name: \n"
   ]
  },
  {
   "cell_type": "code",
   "execution_count": 21,
   "metadata": {
    "ExecuteTime": {
     "end_time": "2022-08-12T22:11:45.846970Z",
     "start_time": "2022-08-12T22:11:45.845170Z"
    }
   },
   "outputs": [],
   "source": [
    "# Your code here - remember to use markdown cells for comments as well!"
   ]
  },
  {
   "cell_type": "code",
   "execution_count": 5,
   "metadata": {
    "ExecuteTime": {
     "end_time": "2022-08-16T21:40:20.667077Z",
     "start_time": "2022-08-16T21:40:19.451776Z"
    }
   },
   "outputs": [],
   "source": [
    "import pandas as pd\n",
    "import sqlite3\n",
    "import scipy.stats as stats\n",
    "import matplotlib.pyplot as plt\n",
    "import seaborn as sns\n",
    "import math\n",
    "%matplotlib inline\n",
    "# You'll need to unzip the db locally.\n",
    "conn = sqlite3.connect('zippedData/im.db')"
   ]
  },
  {
   "cell_type": "markdown",
   "metadata": {},
   "source": [
    "# Habib Khadri"
   ]
  },
  {
   "cell_type": "code",
   "execution_count": null,
   "metadata": {},
   "outputs": [],
   "source": []
  },
  {
   "cell_type": "markdown",
   "metadata": {},
   "source": [
    "# Nick Kirbabas"
   ]
  },
  {
   "cell_type": "code",
   "execution_count": null,
   "metadata": {},
   "outputs": [],
   "source": []
  },
  {
   "cell_type": "markdown",
   "metadata": {},
   "source": [
    "# Seerat Mutneja"
   ]
  },
  {
   "cell_type": "code",
   "execution_count": null,
   "metadata": {},
   "outputs": [],
   "source": []
  },
  {
   "cell_type": "markdown",
   "metadata": {},
   "source": [
    "# Sidhya Raman"
   ]
  },
  {
   "cell_type": "code",
   "execution_count": null,
   "metadata": {},
   "outputs": [],
   "source": []
  },
  {
   "cell_type": "markdown",
   "metadata": {},
   "source": [
    "# Douglas Riggs"
   ]
  },
  {
   "cell_type": "code",
   "execution_count": 6,
   "metadata": {
    "ExecuteTime": {
     "end_time": "2022-08-16T21:40:21.718121Z",
     "start_time": "2022-08-16T21:40:21.610563Z"
    },
    "scrolled": false
   },
   "outputs": [
    {
     "data": {
      "text/html": [
       "<div>\n",
       "<style scoped>\n",
       "    .dataframe tbody tr th:only-of-type {\n",
       "        vertical-align: middle;\n",
       "    }\n",
       "\n",
       "    .dataframe tbody tr th {\n",
       "        vertical-align: top;\n",
       "    }\n",
       "\n",
       "    .dataframe thead th {\n",
       "        text-align: right;\n",
       "    }\n",
       "</style>\n",
       "<table border=\"1\" class=\"dataframe\">\n",
       "  <thead>\n",
       "    <tr style=\"text-align: right;\">\n",
       "      <th></th>\n",
       "      <th>name</th>\n",
       "    </tr>\n",
       "  </thead>\n",
       "  <tbody>\n",
       "    <tr>\n",
       "      <th>0</th>\n",
       "      <td>movie_basics</td>\n",
       "    </tr>\n",
       "    <tr>\n",
       "      <th>1</th>\n",
       "      <td>directors</td>\n",
       "    </tr>\n",
       "    <tr>\n",
       "      <th>2</th>\n",
       "      <td>known_for</td>\n",
       "    </tr>\n",
       "    <tr>\n",
       "      <th>3</th>\n",
       "      <td>movie_akas</td>\n",
       "    </tr>\n",
       "    <tr>\n",
       "      <th>4</th>\n",
       "      <td>movie_ratings</td>\n",
       "    </tr>\n",
       "    <tr>\n",
       "      <th>5</th>\n",
       "      <td>persons</td>\n",
       "    </tr>\n",
       "    <tr>\n",
       "      <th>6</th>\n",
       "      <td>principals</td>\n",
       "    </tr>\n",
       "    <tr>\n",
       "      <th>7</th>\n",
       "      <td>writers</td>\n",
       "    </tr>\n",
       "  </tbody>\n",
       "</table>\n",
       "</div>"
      ],
      "text/plain": [
       "            name\n",
       "0   movie_basics\n",
       "1      directors\n",
       "2      known_for\n",
       "3     movie_akas\n",
       "4  movie_ratings\n",
       "5        persons\n",
       "6     principals\n",
       "7        writers"
      ]
     },
     "execution_count": 6,
     "metadata": {},
     "output_type": "execute_result"
    }
   ],
   "source": [
    "# Reading table names\n",
    "pd.read_sql('''\n",
    "SELECT \n",
    "    name\n",
    "FROM \n",
    "    sqlite_schema\n",
    "WHERE \n",
    "    type ='table' AND \n",
    "    name NOT LIKE 'sqlite_%';\n",
    "''',conn)\n",
    "#Adding a comment to initialize my branch"
   ]
  },
  {
   "cell_type": "markdown",
   "metadata": {},
   "source": [
    "## Function Definitions"
   ]
  },
  {
   "cell_type": "code",
   "execution_count": 346,
   "metadata": {
    "ExecuteTime": {
     "end_time": "2022-08-17T15:43:35.083219Z",
     "start_time": "2022-08-17T15:43:35.080659Z"
    }
   },
   "outputs": [],
   "source": [
    "# Used to convert Dollar value ($123,456,789) into int (123456789)\n",
    "def dollar_string_to_int(cash_string):\n",
    "    cash_string = cash_string.strip('$')\n",
    "    cash_string = cash_string.replace(',', '')\n",
    "    return int(cash_string)"
   ]
  },
  {
   "cell_type": "markdown",
   "metadata": {},
   "source": [
    "## Join IMDB with TN Movie Budgets and do some cleaning"
   ]
  },
  {
   "cell_type": "code",
   "execution_count": 347,
   "metadata": {
    "ExecuteTime": {
     "end_time": "2022-08-17T15:43:36.282124Z",
     "start_time": "2022-08-17T15:43:35.656978Z"
    },
    "scrolled": false
   },
   "outputs": [],
   "source": [
    "# Reading and joining 2 tables from im.db. Left join, since we won't actually\n",
    "# be using the rating/numvotes\n",
    "imdb_df = pd.read_sql('''\n",
    "SELECT DISTINCT movie_id, primary_title, genres, averagerating, numvotes\n",
    "FROM movie_basics\n",
    "LEFT JOIN movie_ratings\n",
    "    USING (movie_id)\n",
    "''',conn)"
   ]
  },
  {
   "cell_type": "code",
   "execution_count": 348,
   "metadata": {
    "ExecuteTime": {
     "end_time": "2022-08-17T15:43:36.838122Z",
     "start_time": "2022-08-17T15:43:36.809323Z"
    }
   },
   "outputs": [
    {
     "name": "stdout",
     "output_type": "stream",
     "text": [
      "<class 'pandas.core.frame.DataFrame'>\n",
      "RangeIndex: 146144 entries, 0 to 146143\n",
      "Data columns (total 5 columns):\n",
      " #   Column         Non-Null Count   Dtype  \n",
      "---  ------         --------------   -----  \n",
      " 0   movie_id       146144 non-null  object \n",
      " 1   primary_title  146144 non-null  object \n",
      " 2   genres         140736 non-null  object \n",
      " 3   averagerating  73856 non-null   float64\n",
      " 4   numvotes       73856 non-null   float64\n",
      "dtypes: float64(2), object(3)\n",
      "memory usage: 5.6+ MB\n"
     ]
    }
   ],
   "source": [
    "# Check Column names/number of values\n",
    "imdb_df.info()"
   ]
  },
  {
   "cell_type": "code",
   "execution_count": 349,
   "metadata": {
    "ExecuteTime": {
     "end_time": "2022-08-17T15:43:37.390431Z",
     "start_time": "2022-08-17T15:43:37.371622Z"
    },
    "scrolled": true
   },
   "outputs": [],
   "source": [
    "# Read data from tn.movie_budgets csv. We'll use this table for \n",
    "# budget/worldwide gross\n",
    "tn_movie_budgets_df = pd.read_csv('zippedData/tn.movie_budgets.csv.gz')"
   ]
  },
  {
   "cell_type": "code",
   "execution_count": 350,
   "metadata": {
    "ExecuteTime": {
     "end_time": "2022-08-17T15:43:37.921688Z",
     "start_time": "2022-08-17T15:43:37.914206Z"
    }
   },
   "outputs": [
    {
     "name": "stdout",
     "output_type": "stream",
     "text": [
      "<class 'pandas.core.frame.DataFrame'>\n",
      "RangeIndex: 5782 entries, 0 to 5781\n",
      "Data columns (total 6 columns):\n",
      " #   Column             Non-Null Count  Dtype \n",
      "---  ------             --------------  ----- \n",
      " 0   id                 5782 non-null   int64 \n",
      " 1   release_date       5782 non-null   object\n",
      " 2   movie              5782 non-null   object\n",
      " 3   production_budget  5782 non-null   object\n",
      " 4   domestic_gross     5782 non-null   object\n",
      " 5   worldwide_gross    5782 non-null   object\n",
      "dtypes: int64(1), object(5)\n",
      "memory usage: 271.2+ KB\n"
     ]
    }
   ],
   "source": [
    "# Check info\n",
    "tn_movie_budgets_df.info()"
   ]
  },
  {
   "cell_type": "code",
   "execution_count": 351,
   "metadata": {
    "ExecuteTime": {
     "end_time": "2022-08-17T15:43:38.808604Z",
     "start_time": "2022-08-17T15:43:38.442911Z"
    },
    "scrolled": true
   },
   "outputs": [],
   "source": [
    "# Joining the imdb df and the tn df on movie name.\n",
    "imdb_df = imdb_df.set_index('primary_title')\n",
    "tn_movie_budgets_df = tn_movie_budgets_df.set_index('movie')\n",
    "imdb_tn_df = imdb_df.join(tn_movie_budgets_df, how='inner')\n",
    "imdb_df = imdb_df.reset_index()\n",
    "tn_movie_budgets_df = tn_movie_budgets_df.reset_index()\n",
    "imdb_tn_df = imdb_tn_df.reset_index()\n",
    "# Rename index -> primary_title\n",
    "imdb_tn_df.columns = ['primary_title', 'movie_id', 'genres', 'averagerating', 'numvotes', 'id',\n",
    "       'release_date', 'production_budget', 'domestic_gross',\n",
    "       'worldwide_gross']"
   ]
  },
  {
   "cell_type": "code",
   "execution_count": 352,
   "metadata": {
    "ExecuteTime": {
     "end_time": "2022-08-17T15:43:39.317307Z",
     "start_time": "2022-08-17T15:43:39.307528Z"
    },
    "scrolled": true
   },
   "outputs": [
    {
     "data": {
      "text/html": [
       "<div>\n",
       "<style scoped>\n",
       "    .dataframe tbody tr th:only-of-type {\n",
       "        vertical-align: middle;\n",
       "    }\n",
       "\n",
       "    .dataframe tbody tr th {\n",
       "        vertical-align: top;\n",
       "    }\n",
       "\n",
       "    .dataframe thead th {\n",
       "        text-align: right;\n",
       "    }\n",
       "</style>\n",
       "<table border=\"1\" class=\"dataframe\">\n",
       "  <thead>\n",
       "    <tr style=\"text-align: right;\">\n",
       "      <th></th>\n",
       "      <th>primary_title</th>\n",
       "      <th>movie_id</th>\n",
       "      <th>genres</th>\n",
       "      <th>averagerating</th>\n",
       "      <th>numvotes</th>\n",
       "      <th>id</th>\n",
       "      <th>release_date</th>\n",
       "      <th>production_budget</th>\n",
       "      <th>domestic_gross</th>\n",
       "      <th>worldwide_gross</th>\n",
       "    </tr>\n",
       "  </thead>\n",
       "  <tbody>\n",
       "    <tr>\n",
       "      <th>0</th>\n",
       "      <td>#Horror</td>\n",
       "      <td>tt3526286</td>\n",
       "      <td>Crime,Drama,Horror</td>\n",
       "      <td>3.0</td>\n",
       "      <td>3092.0</td>\n",
       "      <td>16</td>\n",
       "      <td>Nov 20, 2015</td>\n",
       "      <td>$1,500,000</td>\n",
       "      <td>$0</td>\n",
       "      <td>$0</td>\n",
       "    </tr>\n",
       "    <tr>\n",
       "      <th>1</th>\n",
       "      <td>10 Cloverfield Lane</td>\n",
       "      <td>tt1179933</td>\n",
       "      <td>Drama,Horror,Mystery</td>\n",
       "      <td>7.2</td>\n",
       "      <td>260383.0</td>\n",
       "      <td>54</td>\n",
       "      <td>Mar 11, 2016</td>\n",
       "      <td>$5,000,000</td>\n",
       "      <td>$72,082,999</td>\n",
       "      <td>$108,286,422</td>\n",
       "    </tr>\n",
       "    <tr>\n",
       "      <th>2</th>\n",
       "      <td>10 Days in a Madhouse</td>\n",
       "      <td>tt3453052</td>\n",
       "      <td>Drama</td>\n",
       "      <td>6.7</td>\n",
       "      <td>1114.0</td>\n",
       "      <td>48</td>\n",
       "      <td>Nov 11, 2015</td>\n",
       "      <td>$12,000,000</td>\n",
       "      <td>$14,616</td>\n",
       "      <td>$14,616</td>\n",
       "    </tr>\n",
       "    <tr>\n",
       "      <th>3</th>\n",
       "      <td>12 Rounds</td>\n",
       "      <td>tt3517850</td>\n",
       "      <td>Action,Drama,Romance</td>\n",
       "      <td>8.1</td>\n",
       "      <td>11.0</td>\n",
       "      <td>37</td>\n",
       "      <td>Mar 27, 2009</td>\n",
       "      <td>$20,000,000</td>\n",
       "      <td>$12,234,694</td>\n",
       "      <td>$17,306,648</td>\n",
       "    </tr>\n",
       "    <tr>\n",
       "      <th>4</th>\n",
       "      <td>12 Strong</td>\n",
       "      <td>tt1413492</td>\n",
       "      <td>Action,Drama,History</td>\n",
       "      <td>6.6</td>\n",
       "      <td>50155.0</td>\n",
       "      <td>64</td>\n",
       "      <td>Jan 19, 2018</td>\n",
       "      <td>$35,000,000</td>\n",
       "      <td>$45,819,713</td>\n",
       "      <td>$71,118,378</td>\n",
       "    </tr>\n",
       "  </tbody>\n",
       "</table>\n",
       "</div>"
      ],
      "text/plain": [
       "           primary_title   movie_id                genres  averagerating  \\\n",
       "0                #Horror  tt3526286    Crime,Drama,Horror            3.0   \n",
       "1    10 Cloverfield Lane  tt1179933  Drama,Horror,Mystery            7.2   \n",
       "2  10 Days in a Madhouse  tt3453052                 Drama            6.7   \n",
       "3              12 Rounds  tt3517850  Action,Drama,Romance            8.1   \n",
       "4              12 Strong  tt1413492  Action,Drama,History            6.6   \n",
       "\n",
       "   numvotes  id  release_date production_budget domestic_gross worldwide_gross  \n",
       "0    3092.0  16  Nov 20, 2015        $1,500,000             $0              $0  \n",
       "1  260383.0  54  Mar 11, 2016        $5,000,000    $72,082,999    $108,286,422  \n",
       "2    1114.0  48  Nov 11, 2015       $12,000,000        $14,616         $14,616  \n",
       "3      11.0  37  Mar 27, 2009       $20,000,000    $12,234,694     $17,306,648  \n",
       "4   50155.0  64  Jan 19, 2018       $35,000,000    $45,819,713     $71,118,378  "
      ]
     },
     "execution_count": 352,
     "metadata": {},
     "output_type": "execute_result"
    }
   ],
   "source": [
    "# Take a peek at the resulting table\n",
    "imdb_tn_df.head()"
   ]
  },
  {
   "cell_type": "code",
   "execution_count": 353,
   "metadata": {
    "ExecuteTime": {
     "end_time": "2022-08-17T15:43:39.818710Z",
     "start_time": "2022-08-17T15:43:39.810398Z"
    },
    "scrolled": true
   },
   "outputs": [
    {
     "name": "stdout",
     "output_type": "stream",
     "text": [
      "<class 'pandas.core.frame.DataFrame'>\n",
      "RangeIndex: 3815 entries, 0 to 3814\n",
      "Data columns (total 10 columns):\n",
      " #   Column             Non-Null Count  Dtype  \n",
      "---  ------             --------------  -----  \n",
      " 0   primary_title      3815 non-null   object \n",
      " 1   movie_id           3815 non-null   object \n",
      " 2   genres             3743 non-null   object \n",
      " 3   averagerating      2875 non-null   float64\n",
      " 4   numvotes           2875 non-null   float64\n",
      " 5   id                 3815 non-null   int64  \n",
      " 6   release_date       3815 non-null   object \n",
      " 7   production_budget  3815 non-null   object \n",
      " 8   domestic_gross     3815 non-null   object \n",
      " 9   worldwide_gross    3815 non-null   object \n",
      "dtypes: float64(2), int64(1), object(7)\n",
      "memory usage: 298.2+ KB\n"
     ]
    }
   ],
   "source": [
    "# And check columns/number of values\n",
    "imdb_tn_df.info()"
   ]
  },
  {
   "cell_type": "code",
   "execution_count": 354,
   "metadata": {
    "ExecuteTime": {
     "end_time": "2022-08-17T15:43:40.317555Z",
     "start_time": "2022-08-17T15:43:40.306236Z"
    }
   },
   "outputs": [],
   "source": [
    "# Convert $ strings to ints\n",
    "imdb_tn_df['production_budget'] = imdb_tn_df\\\n",
    "                                        .production_budget\\\n",
    "                                        .map(dollar_string_to_int)\n",
    "imdb_tn_df['domestic_gross'] = imdb_tn_df\\\n",
    "                                        .domestic_gross\\\n",
    "                                        .map(dollar_string_to_int)\n",
    "imdb_tn_df['worldwide_gross'] = imdb_tn_df\\\n",
    "                                        .worldwide_gross\\\n",
    "                                        .map(dollar_string_to_int)"
   ]
  },
  {
   "cell_type": "code",
   "execution_count": 355,
   "metadata": {
    "ExecuteTime": {
     "end_time": "2022-08-17T15:43:41.780607Z",
     "start_time": "2022-08-17T15:43:41.770522Z"
    }
   },
   "outputs": [
    {
     "data": {
      "text/html": [
       "<div>\n",
       "<style scoped>\n",
       "    .dataframe tbody tr th:only-of-type {\n",
       "        vertical-align: middle;\n",
       "    }\n",
       "\n",
       "    .dataframe tbody tr th {\n",
       "        vertical-align: top;\n",
       "    }\n",
       "\n",
       "    .dataframe thead th {\n",
       "        text-align: right;\n",
       "    }\n",
       "</style>\n",
       "<table border=\"1\" class=\"dataframe\">\n",
       "  <thead>\n",
       "    <tr style=\"text-align: right;\">\n",
       "      <th></th>\n",
       "      <th>primary_title</th>\n",
       "      <th>movie_id</th>\n",
       "      <th>genres</th>\n",
       "      <th>averagerating</th>\n",
       "      <th>numvotes</th>\n",
       "      <th>id</th>\n",
       "      <th>release_date</th>\n",
       "      <th>production_budget</th>\n",
       "      <th>domestic_gross</th>\n",
       "      <th>worldwide_gross</th>\n",
       "    </tr>\n",
       "  </thead>\n",
       "  <tbody>\n",
       "    <tr>\n",
       "      <th>0</th>\n",
       "      <td>#Horror</td>\n",
       "      <td>tt3526286</td>\n",
       "      <td>Crime,Drama,Horror</td>\n",
       "      <td>3.0</td>\n",
       "      <td>3092.0</td>\n",
       "      <td>16</td>\n",
       "      <td>Nov 20, 2015</td>\n",
       "      <td>1500000</td>\n",
       "      <td>0</td>\n",
       "      <td>0</td>\n",
       "    </tr>\n",
       "    <tr>\n",
       "      <th>1</th>\n",
       "      <td>10 Cloverfield Lane</td>\n",
       "      <td>tt1179933</td>\n",
       "      <td>Drama,Horror,Mystery</td>\n",
       "      <td>7.2</td>\n",
       "      <td>260383.0</td>\n",
       "      <td>54</td>\n",
       "      <td>Mar 11, 2016</td>\n",
       "      <td>5000000</td>\n",
       "      <td>72082999</td>\n",
       "      <td>108286422</td>\n",
       "    </tr>\n",
       "    <tr>\n",
       "      <th>2</th>\n",
       "      <td>10 Days in a Madhouse</td>\n",
       "      <td>tt3453052</td>\n",
       "      <td>Drama</td>\n",
       "      <td>6.7</td>\n",
       "      <td>1114.0</td>\n",
       "      <td>48</td>\n",
       "      <td>Nov 11, 2015</td>\n",
       "      <td>12000000</td>\n",
       "      <td>14616</td>\n",
       "      <td>14616</td>\n",
       "    </tr>\n",
       "    <tr>\n",
       "      <th>3</th>\n",
       "      <td>12 Rounds</td>\n",
       "      <td>tt3517850</td>\n",
       "      <td>Action,Drama,Romance</td>\n",
       "      <td>8.1</td>\n",
       "      <td>11.0</td>\n",
       "      <td>37</td>\n",
       "      <td>Mar 27, 2009</td>\n",
       "      <td>20000000</td>\n",
       "      <td>12234694</td>\n",
       "      <td>17306648</td>\n",
       "    </tr>\n",
       "    <tr>\n",
       "      <th>4</th>\n",
       "      <td>12 Strong</td>\n",
       "      <td>tt1413492</td>\n",
       "      <td>Action,Drama,History</td>\n",
       "      <td>6.6</td>\n",
       "      <td>50155.0</td>\n",
       "      <td>64</td>\n",
       "      <td>Jan 19, 2018</td>\n",
       "      <td>35000000</td>\n",
       "      <td>45819713</td>\n",
       "      <td>71118378</td>\n",
       "    </tr>\n",
       "  </tbody>\n",
       "</table>\n",
       "</div>"
      ],
      "text/plain": [
       "           primary_title   movie_id                genres  averagerating  \\\n",
       "0                #Horror  tt3526286    Crime,Drama,Horror            3.0   \n",
       "1    10 Cloverfield Lane  tt1179933  Drama,Horror,Mystery            7.2   \n",
       "2  10 Days in a Madhouse  tt3453052                 Drama            6.7   \n",
       "3              12 Rounds  tt3517850  Action,Drama,Romance            8.1   \n",
       "4              12 Strong  tt1413492  Action,Drama,History            6.6   \n",
       "\n",
       "   numvotes  id  release_date  production_budget  domestic_gross  \\\n",
       "0    3092.0  16  Nov 20, 2015            1500000               0   \n",
       "1  260383.0  54  Mar 11, 2016            5000000        72082999   \n",
       "2    1114.0  48  Nov 11, 2015           12000000           14616   \n",
       "3      11.0  37  Mar 27, 2009           20000000        12234694   \n",
       "4   50155.0  64  Jan 19, 2018           35000000        45819713   \n",
       "\n",
       "   worldwide_gross  \n",
       "0                0  \n",
       "1        108286422  \n",
       "2            14616  \n",
       "3         17306648  \n",
       "4         71118378  "
      ]
     },
     "execution_count": 355,
     "metadata": {},
     "output_type": "execute_result"
    }
   ],
   "source": [
    "imdb_tn_df.head()"
   ]
  },
  {
   "cell_type": "code",
   "execution_count": 357,
   "metadata": {
    "ExecuteTime": {
     "end_time": "2022-08-17T15:45:56.607627Z",
     "start_time": "2022-08-17T15:45:56.540790Z"
    }
   },
   "outputs": [],
   "source": [
    "# Read data from tdmb csv. We'll use this table for \n",
    "# language, to filter out non-english movies\n",
    "tmdb_movies_df = pd.read_csv('zippedData/tmdb.movies.csv.gz')"
   ]
  },
  {
   "cell_type": "code",
   "execution_count": 358,
   "metadata": {
    "ExecuteTime": {
     "end_time": "2022-08-17T15:45:57.171689Z",
     "start_time": "2022-08-17T15:45:57.117549Z"
    }
   },
   "outputs": [],
   "source": [
    "imdb_tn_df = imdb_tn_df.set_index('primary_title')\n",
    "tmdb_movies_df = tmdb_movies_df.set_index('title')\n",
    "imdb_tn_tmdb_df = imdb_tn_df.join(tmdb_movies_df, how='left', lsuffix='_left', rsuffix='_right')\n",
    "imdb_tn_df = imdb_tn_df.reset_index()\n",
    "tmdb_movies_df = tmdb_movies_df.reset_index()\n",
    "imdb_tn_tmdb_df = imdb_tn_tmdb_df.reset_index()\n",
    "imdb_tn_tmdb_df.columns = ['primary_title', 'movie_id', 'genres', 'averagerating', 'numvotes', 'id_left',\n",
    "       'release_date_left', 'production_budget', 'domestic_gross',\n",
    "       'worldwide_gross', 'Unnamed: 0', 'genre_ids', 'id_right',\n",
    "       'original_language', 'original_title', 'popularity',\n",
    "       'release_date_right', 'vote_average', 'vote_count']"
   ]
  },
  {
   "cell_type": "code",
   "execution_count": 359,
   "metadata": {
    "ExecuteTime": {
     "end_time": "2022-08-17T15:45:58.593613Z",
     "start_time": "2022-08-17T15:45:58.581761Z"
    }
   },
   "outputs": [
    {
     "name": "stdout",
     "output_type": "stream",
     "text": [
      "<class 'pandas.core.frame.DataFrame'>\n",
      "RangeIndex: 5374 entries, 0 to 5373\n",
      "Data columns (total 19 columns):\n",
      " #   Column              Non-Null Count  Dtype  \n",
      "---  ------              --------------  -----  \n",
      " 0   primary_title       5374 non-null   object \n",
      " 1   movie_id            5374 non-null   object \n",
      " 2   genres              5275 non-null   object \n",
      " 3   averagerating       3813 non-null   float64\n",
      " 4   numvotes            3813 non-null   float64\n",
      " 5   id_left             5374 non-null   int64  \n",
      " 6   release_date_left   5374 non-null   object \n",
      " 7   production_budget   5374 non-null   int64  \n",
      " 8   domestic_gross      5374 non-null   int64  \n",
      " 9   worldwide_gross     5374 non-null   int64  \n",
      " 10  Unnamed: 0          4550 non-null   float64\n",
      " 11  genre_ids           4550 non-null   object \n",
      " 12  id_right            4550 non-null   float64\n",
      " 13  original_language   4550 non-null   object \n",
      " 14  original_title      4550 non-null   object \n",
      " 15  popularity          4550 non-null   float64\n",
      " 16  release_date_right  4550 non-null   object \n",
      " 17  vote_average        4550 non-null   float64\n",
      " 18  vote_count          4550 non-null   float64\n",
      "dtypes: float64(7), int64(4), object(8)\n",
      "memory usage: 797.8+ KB\n"
     ]
    }
   ],
   "source": [
    "# List info on the table\n",
    "imdb_tn_tmdb_df.info()"
   ]
  },
  {
   "cell_type": "code",
   "execution_count": 360,
   "metadata": {
    "ExecuteTime": {
     "end_time": "2022-08-17T15:46:01.544427Z",
     "start_time": "2022-08-17T15:46:01.540059Z"
    }
   },
   "outputs": [],
   "source": [
    "# Filter out non-english movies\n",
    "imdb_tn_tmdb_df = imdb_tn_tmdb_df[imdb_tn_tmdb_df.original_language == 'en']"
   ]
  },
  {
   "cell_type": "code",
   "execution_count": 361,
   "metadata": {
    "ExecuteTime": {
     "end_time": "2022-08-17T15:46:02.461312Z",
     "start_time": "2022-08-17T15:46:02.457099Z"
    }
   },
   "outputs": [],
   "source": [
    "# Drop duplicate movies based on movie name\n",
    "imdb_tn_tmdb_df = imdb_tn_tmdb_df.drop_duplicates(subset=[\"primary_title\"], keep='first')"
   ]
  },
  {
   "cell_type": "markdown",
   "metadata": {},
   "source": [
    "Now, the imdb_tn_tmdb_df should be usable for analysis!"
   ]
  },
  {
   "cell_type": "markdown",
   "metadata": {},
   "source": [
    "### Group based by Genre, Create visuals for that"
   ]
  },
  {
   "cell_type": "code",
   "execution_count": 303,
   "metadata": {
    "ExecuteTime": {
     "end_time": "2022-08-17T14:54:04.410384Z",
     "start_time": "2022-08-17T14:54:04.393641Z"
    },
    "scrolled": false
   },
   "outputs": [],
   "source": [
    "# Splitting the genre column into separate rows for each listed genre\n",
    "imdb_tn_df = imdb_tn_tmdb_df.reset_index()\n",
    "imdb_tn_split_df = imdb_tn_df\n",
    "imdb_tn_split_df = pd.DataFrame({'genres':imdb_tn_split_df.genres.str.split(','), 'movie':imdb_tn_split_df.primary_title}, ).explode('genres')"
   ]
  },
  {
   "cell_type": "code",
   "execution_count": 304,
   "metadata": {
    "ExecuteTime": {
     "end_time": "2022-08-17T14:54:04.983322Z",
     "start_time": "2022-08-17T14:54:04.978366Z"
    }
   },
   "outputs": [
    {
     "data": {
      "text/html": [
       "<div>\n",
       "<style scoped>\n",
       "    .dataframe tbody tr th:only-of-type {\n",
       "        vertical-align: middle;\n",
       "    }\n",
       "\n",
       "    .dataframe tbody tr th {\n",
       "        vertical-align: top;\n",
       "    }\n",
       "\n",
       "    .dataframe thead th {\n",
       "        text-align: right;\n",
       "    }\n",
       "</style>\n",
       "<table border=\"1\" class=\"dataframe\">\n",
       "  <thead>\n",
       "    <tr style=\"text-align: right;\">\n",
       "      <th></th>\n",
       "      <th>genres</th>\n",
       "      <th>movie</th>\n",
       "    </tr>\n",
       "  </thead>\n",
       "  <tbody>\n",
       "    <tr>\n",
       "      <th>0</th>\n",
       "      <td>Drama</td>\n",
       "      <td>10 Cloverfield Lane</td>\n",
       "    </tr>\n",
       "    <tr>\n",
       "      <th>0</th>\n",
       "      <td>Horror</td>\n",
       "      <td>10 Cloverfield Lane</td>\n",
       "    </tr>\n",
       "    <tr>\n",
       "      <th>0</th>\n",
       "      <td>Mystery</td>\n",
       "      <td>10 Cloverfield Lane</td>\n",
       "    </tr>\n",
       "    <tr>\n",
       "      <th>1</th>\n",
       "      <td>Drama</td>\n",
       "      <td>10 Days in a Madhouse</td>\n",
       "    </tr>\n",
       "  </tbody>\n",
       "</table>\n",
       "</div>"
      ],
      "text/plain": [
       "    genres                  movie\n",
       "0    Drama    10 Cloverfield Lane\n",
       "0   Horror    10 Cloverfield Lane\n",
       "0  Mystery    10 Cloverfield Lane\n",
       "1    Drama  10 Days in a Madhouse"
      ]
     },
     "execution_count": 304,
     "metadata": {},
     "output_type": "execute_result"
    }
   ],
   "source": [
    "# Check that the result looks as expected\n",
    "imdb_tn_split_df.head(4)"
   ]
  },
  {
   "cell_type": "code",
   "execution_count": 305,
   "metadata": {
    "ExecuteTime": {
     "end_time": "2022-08-17T14:54:05.528888Z",
     "start_time": "2022-08-17T14:54:05.515226Z"
    }
   },
   "outputs": [],
   "source": [
    "# Join back with the original dataframe to get the rest of the columns, \n",
    "# since we only have genre and movie name.\n",
    "imdb_tn_split_df = imdb_tn_split_df.set_index('movie');\n",
    "imdb_tn_df = imdb_tn_df.set_index('primary_title')\n",
    "imdb_tn_split_df = imdb_tn_split_df\\\n",
    ".join(imdb_tn_df, how='inner', lsuffix='_separated', rsuffix='_original')\n",
    "imdb_tn_split_df.reset_index()\n",
    "imdb_tn_df.reset_index();"
   ]
  },
  {
   "cell_type": "code",
   "execution_count": 306,
   "metadata": {
    "ExecuteTime": {
     "end_time": "2022-08-17T14:54:06.142202Z",
     "start_time": "2022-08-17T14:54:06.127723Z"
    }
   },
   "outputs": [
    {
     "data": {
      "text/html": [
       "<div>\n",
       "<style scoped>\n",
       "    .dataframe tbody tr th:only-of-type {\n",
       "        vertical-align: middle;\n",
       "    }\n",
       "\n",
       "    .dataframe tbody tr th {\n",
       "        vertical-align: top;\n",
       "    }\n",
       "\n",
       "    .dataframe thead th {\n",
       "        text-align: right;\n",
       "    }\n",
       "</style>\n",
       "<table border=\"1\" class=\"dataframe\">\n",
       "  <thead>\n",
       "    <tr style=\"text-align: right;\">\n",
       "      <th></th>\n",
       "      <th>genres_separated</th>\n",
       "      <th>index</th>\n",
       "      <th>movie_id</th>\n",
       "      <th>genres_original</th>\n",
       "      <th>averagerating</th>\n",
       "      <th>numvotes</th>\n",
       "      <th>id_left</th>\n",
       "      <th>release_date_left</th>\n",
       "      <th>production_budget</th>\n",
       "      <th>domestic_gross</th>\n",
       "      <th>worldwide_gross</th>\n",
       "      <th>Unnamed: 0</th>\n",
       "      <th>genre_ids</th>\n",
       "      <th>id_right</th>\n",
       "      <th>original_language</th>\n",
       "      <th>original_title</th>\n",
       "      <th>popularity</th>\n",
       "      <th>release_date_right</th>\n",
       "      <th>vote_average</th>\n",
       "      <th>vote_count</th>\n",
       "    </tr>\n",
       "  </thead>\n",
       "  <tbody>\n",
       "    <tr>\n",
       "      <th>10 Cloverfield Lane</th>\n",
       "      <td>Drama</td>\n",
       "      <td>1</td>\n",
       "      <td>tt1179933</td>\n",
       "      <td>Drama,Horror,Mystery</td>\n",
       "      <td>7.2</td>\n",
       "      <td>260383.0</td>\n",
       "      <td>54</td>\n",
       "      <td>Mar 11, 2016</td>\n",
       "      <td>5000000</td>\n",
       "      <td>72082999</td>\n",
       "      <td>108286422</td>\n",
       "      <td>17422.0</td>\n",
       "      <td>[53, 878, 18]</td>\n",
       "      <td>333371.0</td>\n",
       "      <td>en</td>\n",
       "      <td>10 Cloverfield Lane</td>\n",
       "      <td>17.892</td>\n",
       "      <td>2016-03-11</td>\n",
       "      <td>6.9</td>\n",
       "      <td>4629.0</td>\n",
       "    </tr>\n",
       "    <tr>\n",
       "      <th>10 Cloverfield Lane</th>\n",
       "      <td>Horror</td>\n",
       "      <td>1</td>\n",
       "      <td>tt1179933</td>\n",
       "      <td>Drama,Horror,Mystery</td>\n",
       "      <td>7.2</td>\n",
       "      <td>260383.0</td>\n",
       "      <td>54</td>\n",
       "      <td>Mar 11, 2016</td>\n",
       "      <td>5000000</td>\n",
       "      <td>72082999</td>\n",
       "      <td>108286422</td>\n",
       "      <td>17422.0</td>\n",
       "      <td>[53, 878, 18]</td>\n",
       "      <td>333371.0</td>\n",
       "      <td>en</td>\n",
       "      <td>10 Cloverfield Lane</td>\n",
       "      <td>17.892</td>\n",
       "      <td>2016-03-11</td>\n",
       "      <td>6.9</td>\n",
       "      <td>4629.0</td>\n",
       "    </tr>\n",
       "    <tr>\n",
       "      <th>10 Cloverfield Lane</th>\n",
       "      <td>Mystery</td>\n",
       "      <td>1</td>\n",
       "      <td>tt1179933</td>\n",
       "      <td>Drama,Horror,Mystery</td>\n",
       "      <td>7.2</td>\n",
       "      <td>260383.0</td>\n",
       "      <td>54</td>\n",
       "      <td>Mar 11, 2016</td>\n",
       "      <td>5000000</td>\n",
       "      <td>72082999</td>\n",
       "      <td>108286422</td>\n",
       "      <td>17422.0</td>\n",
       "      <td>[53, 878, 18]</td>\n",
       "      <td>333371.0</td>\n",
       "      <td>en</td>\n",
       "      <td>10 Cloverfield Lane</td>\n",
       "      <td>17.892</td>\n",
       "      <td>2016-03-11</td>\n",
       "      <td>6.9</td>\n",
       "      <td>4629.0</td>\n",
       "    </tr>\n",
       "    <tr>\n",
       "      <th>10 Days in a Madhouse</th>\n",
       "      <td>Drama</td>\n",
       "      <td>2</td>\n",
       "      <td>tt3453052</td>\n",
       "      <td>Drama</td>\n",
       "      <td>6.7</td>\n",
       "      <td>1114.0</td>\n",
       "      <td>48</td>\n",
       "      <td>Nov 11, 2015</td>\n",
       "      <td>12000000</td>\n",
       "      <td>14616</td>\n",
       "      <td>14616</td>\n",
       "      <td>15907.0</td>\n",
       "      <td>[18]</td>\n",
       "      <td>345003.0</td>\n",
       "      <td>en</td>\n",
       "      <td>10 Days in a Madhouse</td>\n",
       "      <td>0.955</td>\n",
       "      <td>2015-11-20</td>\n",
       "      <td>5.4</td>\n",
       "      <td>7.0</td>\n",
       "    </tr>\n",
       "    <tr>\n",
       "      <th>12 Strong</th>\n",
       "      <td>Action</td>\n",
       "      <td>4</td>\n",
       "      <td>tt1413492</td>\n",
       "      <td>Action,Drama,History</td>\n",
       "      <td>6.6</td>\n",
       "      <td>50155.0</td>\n",
       "      <td>64</td>\n",
       "      <td>Jan 19, 2018</td>\n",
       "      <td>35000000</td>\n",
       "      <td>45819713</td>\n",
       "      <td>71118378</td>\n",
       "      <td>24032.0</td>\n",
       "      <td>[10752, 18, 36, 28]</td>\n",
       "      <td>429351.0</td>\n",
       "      <td>en</td>\n",
       "      <td>12 Strong</td>\n",
       "      <td>13.183</td>\n",
       "      <td>2018-01-19</td>\n",
       "      <td>5.6</td>\n",
       "      <td>1312.0</td>\n",
       "    </tr>\n",
       "  </tbody>\n",
       "</table>\n",
       "</div>"
      ],
      "text/plain": [
       "                      genres_separated  index   movie_id  \\\n",
       "10 Cloverfield Lane              Drama      1  tt1179933   \n",
       "10 Cloverfield Lane             Horror      1  tt1179933   \n",
       "10 Cloverfield Lane            Mystery      1  tt1179933   \n",
       "10 Days in a Madhouse            Drama      2  tt3453052   \n",
       "12 Strong                       Action      4  tt1413492   \n",
       "\n",
       "                            genres_original  averagerating  numvotes  id_left  \\\n",
       "10 Cloverfield Lane    Drama,Horror,Mystery            7.2  260383.0       54   \n",
       "10 Cloverfield Lane    Drama,Horror,Mystery            7.2  260383.0       54   \n",
       "10 Cloverfield Lane    Drama,Horror,Mystery            7.2  260383.0       54   \n",
       "10 Days in a Madhouse                 Drama            6.7    1114.0       48   \n",
       "12 Strong              Action,Drama,History            6.6   50155.0       64   \n",
       "\n",
       "                      release_date_left  production_budget  domestic_gross  \\\n",
       "10 Cloverfield Lane        Mar 11, 2016            5000000        72082999   \n",
       "10 Cloverfield Lane        Mar 11, 2016            5000000        72082999   \n",
       "10 Cloverfield Lane        Mar 11, 2016            5000000        72082999   \n",
       "10 Days in a Madhouse      Nov 11, 2015           12000000           14616   \n",
       "12 Strong                  Jan 19, 2018           35000000        45819713   \n",
       "\n",
       "                       worldwide_gross  Unnamed: 0            genre_ids  \\\n",
       "10 Cloverfield Lane          108286422     17422.0        [53, 878, 18]   \n",
       "10 Cloverfield Lane          108286422     17422.0        [53, 878, 18]   \n",
       "10 Cloverfield Lane          108286422     17422.0        [53, 878, 18]   \n",
       "10 Days in a Madhouse            14616     15907.0                 [18]   \n",
       "12 Strong                     71118378     24032.0  [10752, 18, 36, 28]   \n",
       "\n",
       "                       id_right original_language         original_title  \\\n",
       "10 Cloverfield Lane    333371.0                en    10 Cloverfield Lane   \n",
       "10 Cloverfield Lane    333371.0                en    10 Cloverfield Lane   \n",
       "10 Cloverfield Lane    333371.0                en    10 Cloverfield Lane   \n",
       "10 Days in a Madhouse  345003.0                en  10 Days in a Madhouse   \n",
       "12 Strong              429351.0                en              12 Strong   \n",
       "\n",
       "                       popularity release_date_right  vote_average  vote_count  \n",
       "10 Cloverfield Lane        17.892         2016-03-11           6.9      4629.0  \n",
       "10 Cloverfield Lane        17.892         2016-03-11           6.9      4629.0  \n",
       "10 Cloverfield Lane        17.892         2016-03-11           6.9      4629.0  \n",
       "10 Days in a Madhouse       0.955         2015-11-20           5.4         7.0  \n",
       "12 Strong                  13.183         2018-01-19           5.6      1312.0  "
      ]
     },
     "execution_count": 306,
     "metadata": {},
     "output_type": "execute_result"
    }
   ],
   "source": [
    "# Check the result\n",
    "imdb_tn_split_df.head()"
   ]
  },
  {
   "cell_type": "code",
   "execution_count": 307,
   "metadata": {
    "ExecuteTime": {
     "end_time": "2022-08-17T14:54:06.761401Z",
     "start_time": "2022-08-17T14:54:06.754157Z"
    }
   },
   "outputs": [],
   "source": [
    "# Create some additional columns of interest\n",
    "imdb_tn_split_df['genre_amount'] =\\ \n",
    "    imdb_tn_split_df.genres_original.apply(lambda x: len(str(x).split(',')))\n",
    "imdb_tn_split_df['net_profit'] = \\\n",
    "    imdb_tn_split_df.worldwide_gross - imdb_tn_split_df.production_budget\n",
    "imdb_tn_split_df['profit_ratio'] = \\\n",
    "    imdb_tn_split_df.net_profit / imdb_tn_split_df.production_budget"
   ]
  },
  {
   "cell_type": "code",
   "execution_count": 308,
   "metadata": {
    "ExecuteTime": {
     "end_time": "2022-08-17T14:54:07.415159Z",
     "start_time": "2022-08-17T14:54:07.395593Z"
    },
    "scrolled": true
   },
   "outputs": [],
   "source": [
    "# Group by genre. Use aggregate functions on columns of interest\n",
    "genre_df = imdb_tn_split_df.groupby('genres_separated').agg({\n",
    "    'numvotes': ['mean', 'median'],\n",
    "    'production_budget': ['mean', 'median'],\n",
    "    'domestic_gross': ['mean', 'median'],\n",
    "    'worldwide_gross': ['mean', 'median'],\n",
    "    'profit_ratio': ['mean', 'median'],\n",
    "    'net_profit': ['mean', 'median'],\n",
    "    'genre_amount': 'mean',\n",
    "    'movie_id': 'count'\n",
    "})"
   ]
  },
  {
   "cell_type": "code",
   "execution_count": 309,
   "metadata": {
    "ExecuteTime": {
     "end_time": "2022-08-17T14:54:08.069933Z",
     "start_time": "2022-08-17T14:54:08.050501Z"
    },
    "scrolled": true
   },
   "outputs": [
    {
     "data": {
      "text/html": [
       "<div>\n",
       "<style scoped>\n",
       "    .dataframe tbody tr th:only-of-type {\n",
       "        vertical-align: middle;\n",
       "    }\n",
       "\n",
       "    .dataframe tbody tr th {\n",
       "        vertical-align: top;\n",
       "    }\n",
       "\n",
       "    .dataframe thead tr th {\n",
       "        text-align: left;\n",
       "    }\n",
       "\n",
       "    .dataframe thead tr:last-of-type th {\n",
       "        text-align: right;\n",
       "    }\n",
       "</style>\n",
       "<table border=\"1\" class=\"dataframe\">\n",
       "  <thead>\n",
       "    <tr>\n",
       "      <th></th>\n",
       "      <th colspan=\"2\" halign=\"left\">numvotes</th>\n",
       "      <th colspan=\"2\" halign=\"left\">production_budget</th>\n",
       "      <th colspan=\"2\" halign=\"left\">domestic_gross</th>\n",
       "      <th colspan=\"2\" halign=\"left\">worldwide_gross</th>\n",
       "      <th colspan=\"2\" halign=\"left\">profit_ratio</th>\n",
       "      <th colspan=\"2\" halign=\"left\">net_profit</th>\n",
       "      <th>genre_amount</th>\n",
       "      <th>movie_id</th>\n",
       "    </tr>\n",
       "    <tr>\n",
       "      <th></th>\n",
       "      <th>mean</th>\n",
       "      <th>median</th>\n",
       "      <th>mean</th>\n",
       "      <th>median</th>\n",
       "      <th>mean</th>\n",
       "      <th>median</th>\n",
       "      <th>mean</th>\n",
       "      <th>median</th>\n",
       "      <th>mean</th>\n",
       "      <th>median</th>\n",
       "      <th>mean</th>\n",
       "      <th>median</th>\n",
       "      <th>mean</th>\n",
       "      <th>count</th>\n",
       "    </tr>\n",
       "    <tr>\n",
       "      <th>genres_separated</th>\n",
       "      <th></th>\n",
       "      <th></th>\n",
       "      <th></th>\n",
       "      <th></th>\n",
       "      <th></th>\n",
       "      <th></th>\n",
       "      <th></th>\n",
       "      <th></th>\n",
       "      <th></th>\n",
       "      <th></th>\n",
       "      <th></th>\n",
       "      <th></th>\n",
       "      <th></th>\n",
       "      <th></th>\n",
       "    </tr>\n",
       "  </thead>\n",
       "  <tbody>\n",
       "    <tr>\n",
       "      <th>Action</th>\n",
       "      <td>175450.756818</td>\n",
       "      <td>111213.0</td>\n",
       "      <td>7.727444e+07</td>\n",
       "      <td>55000000</td>\n",
       "      <td>8.486925e+07</td>\n",
       "      <td>44806783.0</td>\n",
       "      <td>2.327987e+08</td>\n",
       "      <td>111336398.0</td>\n",
       "      <td>1.657758</td>\n",
       "      <td>1.094614</td>\n",
       "      <td>1.555242e+08</td>\n",
       "      <td>50131391.0</td>\n",
       "      <td>2.881432</td>\n",
       "      <td>447</td>\n",
       "    </tr>\n",
       "    <tr>\n",
       "      <th>Adventure</th>\n",
       "      <td>195871.394203</td>\n",
       "      <td>110824.0</td>\n",
       "      <td>1.019245e+08</td>\n",
       "      <td>94000000</td>\n",
       "      <td>1.198010e+08</td>\n",
       "      <td>76223578.0</td>\n",
       "      <td>3.391583e+08</td>\n",
       "      <td>219535492.0</td>\n",
       "      <td>2.100529</td>\n",
       "      <td>1.611243</td>\n",
       "      <td>2.372338e+08</td>\n",
       "      <td>122504758.0</td>\n",
       "      <td>2.951009</td>\n",
       "      <td>347</td>\n",
       "    </tr>\n",
       "    <tr>\n",
       "      <th>Animation</th>\n",
       "      <td>111787.930000</td>\n",
       "      <td>66459.5</td>\n",
       "      <td>9.442871e+07</td>\n",
       "      <td>80000000</td>\n",
       "      <td>1.327468e+08</td>\n",
       "      <td>107518682.0</td>\n",
       "      <td>3.640968e+08</td>\n",
       "      <td>310660018.0</td>\n",
       "      <td>2.638554</td>\n",
       "      <td>1.876877</td>\n",
       "      <td>2.696681e+08</td>\n",
       "      <td>191887208.0</td>\n",
       "      <td>2.910891</td>\n",
       "      <td>101</td>\n",
       "    </tr>\n",
       "    <tr>\n",
       "      <th>Biography</th>\n",
       "      <td>101857.250000</td>\n",
       "      <td>40389.5</td>\n",
       "      <td>2.464528e+07</td>\n",
       "      <td>19550000</td>\n",
       "      <td>3.455836e+07</td>\n",
       "      <td>15980282.0</td>\n",
       "      <td>7.052881e+07</td>\n",
       "      <td>26707684.5</td>\n",
       "      <td>2.182337</td>\n",
       "      <td>0.776235</td>\n",
       "      <td>4.588354e+07</td>\n",
       "      <td>9629774.0</td>\n",
       "      <td>2.861111</td>\n",
       "      <td>144</td>\n",
       "    </tr>\n",
       "    <tr>\n",
       "      <th>Comedy</th>\n",
       "      <td>83370.828413</td>\n",
       "      <td>45048.5</td>\n",
       "      <td>3.645903e+07</td>\n",
       "      <td>21500000</td>\n",
       "      <td>5.307517e+07</td>\n",
       "      <td>30932113.0</td>\n",
       "      <td>1.194786e+08</td>\n",
       "      <td>50145607.0</td>\n",
       "      <td>2.187168</td>\n",
       "      <td>1.166433</td>\n",
       "      <td>8.301958e+07</td>\n",
       "      <td>23166033.0</td>\n",
       "      <td>2.513661</td>\n",
       "      <td>549</td>\n",
       "    </tr>\n",
       "    <tr>\n",
       "      <th>Crime</th>\n",
       "      <td>102619.031496</td>\n",
       "      <td>56390.5</td>\n",
       "      <td>3.073738e+07</td>\n",
       "      <td>25000000</td>\n",
       "      <td>3.333862e+07</td>\n",
       "      <td>17506470.0</td>\n",
       "      <td>7.489653e+07</td>\n",
       "      <td>31559560.0</td>\n",
       "      <td>1.196495</td>\n",
       "      <td>0.380208</td>\n",
       "      <td>4.415915e+07</td>\n",
       "      <td>6454534.0</td>\n",
       "      <td>2.839216</td>\n",
       "      <td>255</td>\n",
       "    </tr>\n",
       "    <tr>\n",
       "      <th>Documentary</th>\n",
       "      <td>6048.203125</td>\n",
       "      <td>389.0</td>\n",
       "      <td>1.252569e+07</td>\n",
       "      <td>4500000</td>\n",
       "      <td>1.852250e+07</td>\n",
       "      <td>3011019.0</td>\n",
       "      <td>3.295582e+07</td>\n",
       "      <td>5856562.0</td>\n",
       "      <td>1.791355</td>\n",
       "      <td>0.144170</td>\n",
       "      <td>2.043013e+07</td>\n",
       "      <td>617458.5</td>\n",
       "      <td>1.737500</td>\n",
       "      <td>80</td>\n",
       "    </tr>\n",
       "    <tr>\n",
       "      <th>Drama</th>\n",
       "      <td>85439.407047</td>\n",
       "      <td>38667.0</td>\n",
       "      <td>2.504896e+07</td>\n",
       "      <td>15000000</td>\n",
       "      <td>3.064247e+07</td>\n",
       "      <td>12725614.0</td>\n",
       "      <td>6.630400e+07</td>\n",
       "      <td>22415535.0</td>\n",
       "      <td>1.904296</td>\n",
       "      <td>0.463684</td>\n",
       "      <td>4.125503e+07</td>\n",
       "      <td>4583234.0</td>\n",
       "      <td>2.518824</td>\n",
       "      <td>850</td>\n",
       "    </tr>\n",
       "    <tr>\n",
       "      <th>Family</th>\n",
       "      <td>67448.802083</td>\n",
       "      <td>20284.5</td>\n",
       "      <td>5.727350e+07</td>\n",
       "      <td>35000000</td>\n",
       "      <td>6.296921e+07</td>\n",
       "      <td>42401897.0</td>\n",
       "      <td>1.541430e+08</td>\n",
       "      <td>64607491.5</td>\n",
       "      <td>2.012353</td>\n",
       "      <td>0.873396</td>\n",
       "      <td>9.686953e+07</td>\n",
       "      <td>29166598.5</td>\n",
       "      <td>2.730000</td>\n",
       "      <td>100</td>\n",
       "    </tr>\n",
       "    <tr>\n",
       "      <th>Fantasy</th>\n",
       "      <td>143013.208000</td>\n",
       "      <td>92709.0</td>\n",
       "      <td>8.096339e+07</td>\n",
       "      <td>50000000</td>\n",
       "      <td>7.487388e+07</td>\n",
       "      <td>36392502.0</td>\n",
       "      <td>2.214095e+08</td>\n",
       "      <td>85287417.0</td>\n",
       "      <td>1.904366</td>\n",
       "      <td>1.035134</td>\n",
       "      <td>1.404462e+08</td>\n",
       "      <td>30401882.0</td>\n",
       "      <td>2.874016</td>\n",
       "      <td>127</td>\n",
       "    </tr>\n",
       "    <tr>\n",
       "      <th>History</th>\n",
       "      <td>82443.000000</td>\n",
       "      <td>29339.5</td>\n",
       "      <td>2.968302e+07</td>\n",
       "      <td>20000000</td>\n",
       "      <td>3.216614e+07</td>\n",
       "      <td>8323085.0</td>\n",
       "      <td>6.718325e+07</td>\n",
       "      <td>25187026.0</td>\n",
       "      <td>1.124667</td>\n",
       "      <td>0.341333</td>\n",
       "      <td>3.750023e+07</td>\n",
       "      <td>3400715.0</td>\n",
       "      <td>2.924528</td>\n",
       "      <td>53</td>\n",
       "    </tr>\n",
       "    <tr>\n",
       "      <th>Horror</th>\n",
       "      <td>55407.687500</td>\n",
       "      <td>31888.0</td>\n",
       "      <td>1.783684e+07</td>\n",
       "      <td>5000000</td>\n",
       "      <td>2.737165e+07</td>\n",
       "      <td>11007361.0</td>\n",
       "      <td>6.579135e+07</td>\n",
       "      <td>17805622.5</td>\n",
       "      <td>6.837856</td>\n",
       "      <td>0.425538</td>\n",
       "      <td>4.795451e+07</td>\n",
       "      <td>5756000.0</td>\n",
       "      <td>2.495614</td>\n",
       "      <td>228</td>\n",
       "    </tr>\n",
       "    <tr>\n",
       "      <th>Music</th>\n",
       "      <td>70319.170213</td>\n",
       "      <td>29725.0</td>\n",
       "      <td>1.742840e+07</td>\n",
       "      <td>14750000</td>\n",
       "      <td>3.235017e+07</td>\n",
       "      <td>15497396.5</td>\n",
       "      <td>7.045783e+07</td>\n",
       "      <td>22631155.0</td>\n",
       "      <td>2.288701</td>\n",
       "      <td>0.639240</td>\n",
       "      <td>5.302943e+07</td>\n",
       "      <td>7886071.0</td>\n",
       "      <td>2.580000</td>\n",
       "      <td>50</td>\n",
       "    </tr>\n",
       "    <tr>\n",
       "      <th>Musical</th>\n",
       "      <td>43864.000000</td>\n",
       "      <td>4696.5</td>\n",
       "      <td>3.712222e+07</td>\n",
       "      <td>20000000</td>\n",
       "      <td>5.305524e+07</td>\n",
       "      <td>23364784.0</td>\n",
       "      <td>1.235229e+08</td>\n",
       "      <td>38164784.0</td>\n",
       "      <td>0.650598</td>\n",
       "      <td>-0.128115</td>\n",
       "      <td>8.640065e+07</td>\n",
       "      <td>-500000.0</td>\n",
       "      <td>2.222222</td>\n",
       "      <td>9</td>\n",
       "    </tr>\n",
       "    <tr>\n",
       "      <th>Mystery</th>\n",
       "      <td>122601.946565</td>\n",
       "      <td>57184.0</td>\n",
       "      <td>2.304798e+07</td>\n",
       "      <td>10000000</td>\n",
       "      <td>3.506539e+07</td>\n",
       "      <td>20180155.0</td>\n",
       "      <td>8.164029e+07</td>\n",
       "      <td>38359310.0</td>\n",
       "      <td>8.845643</td>\n",
       "      <td>1.625513</td>\n",
       "      <td>5.859231e+07</td>\n",
       "      <td>22812456.0</td>\n",
       "      <td>2.916031</td>\n",
       "      <td>131</td>\n",
       "    </tr>\n",
       "    <tr>\n",
       "      <th>News</th>\n",
       "      <td>31.000000</td>\n",
       "      <td>31.0</td>\n",
       "      <td>1.200000e+07</td>\n",
       "      <td>12000000</td>\n",
       "      <td>6.730578e+06</td>\n",
       "      <td>6730578.0</td>\n",
       "      <td>4.673058e+07</td>\n",
       "      <td>46730578.0</td>\n",
       "      <td>2.894215</td>\n",
       "      <td>2.894215</td>\n",
       "      <td>3.473058e+07</td>\n",
       "      <td>34730578.0</td>\n",
       "      <td>3.000000</td>\n",
       "      <td>1</td>\n",
       "    </tr>\n",
       "    <tr>\n",
       "      <th>Romance</th>\n",
       "      <td>73637.228155</td>\n",
       "      <td>48703.0</td>\n",
       "      <td>2.157101e+07</td>\n",
       "      <td>15000000</td>\n",
       "      <td>3.211901e+07</td>\n",
       "      <td>16609678.5</td>\n",
       "      <td>6.775460e+07</td>\n",
       "      <td>25504270.0</td>\n",
       "      <td>2.734515</td>\n",
       "      <td>1.114574</td>\n",
       "      <td>4.618359e+07</td>\n",
       "      <td>10326292.0</td>\n",
       "      <td>2.619048</td>\n",
       "      <td>210</td>\n",
       "    </tr>\n",
       "    <tr>\n",
       "      <th>Sci-Fi</th>\n",
       "      <td>244729.262069</td>\n",
       "      <td>126203.0</td>\n",
       "      <td>8.054786e+07</td>\n",
       "      <td>40000000</td>\n",
       "      <td>1.093624e+08</td>\n",
       "      <td>49053070.5</td>\n",
       "      <td>2.998050e+08</td>\n",
       "      <td>127082857.0</td>\n",
       "      <td>2.275723</td>\n",
       "      <td>1.480552</td>\n",
       "      <td>2.192572e+08</td>\n",
       "      <td>59713539.5</td>\n",
       "      <td>2.904110</td>\n",
       "      <td>146</td>\n",
       "    </tr>\n",
       "    <tr>\n",
       "      <th>Sport</th>\n",
       "      <td>55981.305556</td>\n",
       "      <td>18222.0</td>\n",
       "      <td>2.572432e+07</td>\n",
       "      <td>16000000</td>\n",
       "      <td>3.839230e+07</td>\n",
       "      <td>14394097.0</td>\n",
       "      <td>7.870429e+07</td>\n",
       "      <td>21867665.0</td>\n",
       "      <td>2.178448</td>\n",
       "      <td>0.193899</td>\n",
       "      <td>5.297996e+07</td>\n",
       "      <td>1659955.0</td>\n",
       "      <td>2.783784</td>\n",
       "      <td>37</td>\n",
       "    </tr>\n",
       "    <tr>\n",
       "      <th>Thriller</th>\n",
       "      <td>100988.681818</td>\n",
       "      <td>46789.0</td>\n",
       "      <td>2.923762e+07</td>\n",
       "      <td>15000000</td>\n",
       "      <td>3.704906e+07</td>\n",
       "      <td>18790874.5</td>\n",
       "      <td>9.716602e+07</td>\n",
       "      <td>36318741.5</td>\n",
       "      <td>4.916505</td>\n",
       "      <td>0.801895</td>\n",
       "      <td>6.792840e+07</td>\n",
       "      <td>14034738.0</td>\n",
       "      <td>2.580128</td>\n",
       "      <td>312</td>\n",
       "    </tr>\n",
       "    <tr>\n",
       "      <th>War</th>\n",
       "      <td>63807.550000</td>\n",
       "      <td>11338.0</td>\n",
       "      <td>2.620000e+07</td>\n",
       "      <td>18250000</td>\n",
       "      <td>2.179058e+07</td>\n",
       "      <td>3610391.0</td>\n",
       "      <td>5.251120e+07</td>\n",
       "      <td>7023622.5</td>\n",
       "      <td>0.343024</td>\n",
       "      <td>-0.223455</td>\n",
       "      <td>2.631120e+07</td>\n",
       "      <td>-1644520.0</td>\n",
       "      <td>2.750000</td>\n",
       "      <td>20</td>\n",
       "    </tr>\n",
       "    <tr>\n",
       "      <th>Western</th>\n",
       "      <td>167567.916667</td>\n",
       "      <td>25997.5</td>\n",
       "      <td>4.896429e+07</td>\n",
       "      <td>21500000</td>\n",
       "      <td>3.788040e+07</td>\n",
       "      <td>1600111.0</td>\n",
       "      <td>8.233669e+07</td>\n",
       "      <td>3227776.0</td>\n",
       "      <td>0.380068</td>\n",
       "      <td>-0.607945</td>\n",
       "      <td>3.337240e+07</td>\n",
       "      <td>-5532561.0</td>\n",
       "      <td>2.285714</td>\n",
       "      <td>14</td>\n",
       "    </tr>\n",
       "  </tbody>\n",
       "</table>\n",
       "</div>"
      ],
      "text/plain": [
       "                       numvotes           production_budget            \\\n",
       "                           mean    median              mean    median   \n",
       "genres_separated                                                        \n",
       "Action            175450.756818  111213.0      7.727444e+07  55000000   \n",
       "Adventure         195871.394203  110824.0      1.019245e+08  94000000   \n",
       "Animation         111787.930000   66459.5      9.442871e+07  80000000   \n",
       "Biography         101857.250000   40389.5      2.464528e+07  19550000   \n",
       "Comedy             83370.828413   45048.5      3.645903e+07  21500000   \n",
       "Crime             102619.031496   56390.5      3.073738e+07  25000000   \n",
       "Documentary         6048.203125     389.0      1.252569e+07   4500000   \n",
       "Drama              85439.407047   38667.0      2.504896e+07  15000000   \n",
       "Family             67448.802083   20284.5      5.727350e+07  35000000   \n",
       "Fantasy           143013.208000   92709.0      8.096339e+07  50000000   \n",
       "History            82443.000000   29339.5      2.968302e+07  20000000   \n",
       "Horror             55407.687500   31888.0      1.783684e+07   5000000   \n",
       "Music              70319.170213   29725.0      1.742840e+07  14750000   \n",
       "Musical            43864.000000    4696.5      3.712222e+07  20000000   \n",
       "Mystery           122601.946565   57184.0      2.304798e+07  10000000   \n",
       "News                  31.000000      31.0      1.200000e+07  12000000   \n",
       "Romance            73637.228155   48703.0      2.157101e+07  15000000   \n",
       "Sci-Fi            244729.262069  126203.0      8.054786e+07  40000000   \n",
       "Sport              55981.305556   18222.0      2.572432e+07  16000000   \n",
       "Thriller          100988.681818   46789.0      2.923762e+07  15000000   \n",
       "War                63807.550000   11338.0      2.620000e+07  18250000   \n",
       "Western           167567.916667   25997.5      4.896429e+07  21500000   \n",
       "\n",
       "                 domestic_gross              worldwide_gross               \\\n",
       "                           mean       median            mean       median   \n",
       "genres_separated                                                            \n",
       "Action             8.486925e+07   44806783.0    2.327987e+08  111336398.0   \n",
       "Adventure          1.198010e+08   76223578.0    3.391583e+08  219535492.0   \n",
       "Animation          1.327468e+08  107518682.0    3.640968e+08  310660018.0   \n",
       "Biography          3.455836e+07   15980282.0    7.052881e+07   26707684.5   \n",
       "Comedy             5.307517e+07   30932113.0    1.194786e+08   50145607.0   \n",
       "Crime              3.333862e+07   17506470.0    7.489653e+07   31559560.0   \n",
       "Documentary        1.852250e+07    3011019.0    3.295582e+07    5856562.0   \n",
       "Drama              3.064247e+07   12725614.0    6.630400e+07   22415535.0   \n",
       "Family             6.296921e+07   42401897.0    1.541430e+08   64607491.5   \n",
       "Fantasy            7.487388e+07   36392502.0    2.214095e+08   85287417.0   \n",
       "History            3.216614e+07    8323085.0    6.718325e+07   25187026.0   \n",
       "Horror             2.737165e+07   11007361.0    6.579135e+07   17805622.5   \n",
       "Music              3.235017e+07   15497396.5    7.045783e+07   22631155.0   \n",
       "Musical            5.305524e+07   23364784.0    1.235229e+08   38164784.0   \n",
       "Mystery            3.506539e+07   20180155.0    8.164029e+07   38359310.0   \n",
       "News               6.730578e+06    6730578.0    4.673058e+07   46730578.0   \n",
       "Romance            3.211901e+07   16609678.5    6.775460e+07   25504270.0   \n",
       "Sci-Fi             1.093624e+08   49053070.5    2.998050e+08  127082857.0   \n",
       "Sport              3.839230e+07   14394097.0    7.870429e+07   21867665.0   \n",
       "Thriller           3.704906e+07   18790874.5    9.716602e+07   36318741.5   \n",
       "War                2.179058e+07    3610391.0    5.251120e+07    7023622.5   \n",
       "Western            3.788040e+07    1600111.0    8.233669e+07    3227776.0   \n",
       "\n",
       "                 profit_ratio              net_profit               \\\n",
       "                         mean    median          mean       median   \n",
       "genres_separated                                                     \n",
       "Action               1.657758  1.094614  1.555242e+08   50131391.0   \n",
       "Adventure            2.100529  1.611243  2.372338e+08  122504758.0   \n",
       "Animation            2.638554  1.876877  2.696681e+08  191887208.0   \n",
       "Biography            2.182337  0.776235  4.588354e+07    9629774.0   \n",
       "Comedy               2.187168  1.166433  8.301958e+07   23166033.0   \n",
       "Crime                1.196495  0.380208  4.415915e+07    6454534.0   \n",
       "Documentary          1.791355  0.144170  2.043013e+07     617458.5   \n",
       "Drama                1.904296  0.463684  4.125503e+07    4583234.0   \n",
       "Family               2.012353  0.873396  9.686953e+07   29166598.5   \n",
       "Fantasy              1.904366  1.035134  1.404462e+08   30401882.0   \n",
       "History              1.124667  0.341333  3.750023e+07    3400715.0   \n",
       "Horror               6.837856  0.425538  4.795451e+07    5756000.0   \n",
       "Music                2.288701  0.639240  5.302943e+07    7886071.0   \n",
       "Musical              0.650598 -0.128115  8.640065e+07    -500000.0   \n",
       "Mystery              8.845643  1.625513  5.859231e+07   22812456.0   \n",
       "News                 2.894215  2.894215  3.473058e+07   34730578.0   \n",
       "Romance              2.734515  1.114574  4.618359e+07   10326292.0   \n",
       "Sci-Fi               2.275723  1.480552  2.192572e+08   59713539.5   \n",
       "Sport                2.178448  0.193899  5.297996e+07    1659955.0   \n",
       "Thriller             4.916505  0.801895  6.792840e+07   14034738.0   \n",
       "War                  0.343024 -0.223455  2.631120e+07   -1644520.0   \n",
       "Western              0.380068 -0.607945  3.337240e+07   -5532561.0   \n",
       "\n",
       "                 genre_amount movie_id  \n",
       "                         mean    count  \n",
       "genres_separated                        \n",
       "Action               2.881432      447  \n",
       "Adventure            2.951009      347  \n",
       "Animation            2.910891      101  \n",
       "Biography            2.861111      144  \n",
       "Comedy               2.513661      549  \n",
       "Crime                2.839216      255  \n",
       "Documentary          1.737500       80  \n",
       "Drama                2.518824      850  \n",
       "Family               2.730000      100  \n",
       "Fantasy              2.874016      127  \n",
       "History              2.924528       53  \n",
       "Horror               2.495614      228  \n",
       "Music                2.580000       50  \n",
       "Musical              2.222222        9  \n",
       "Mystery              2.916031      131  \n",
       "News                 3.000000        1  \n",
       "Romance              2.619048      210  \n",
       "Sci-Fi               2.904110      146  \n",
       "Sport                2.783784       37  \n",
       "Thriller             2.580128      312  \n",
       "War                  2.750000       20  \n",
       "Western              2.285714       14  "
      ]
     },
     "execution_count": 309,
     "metadata": {},
     "output_type": "execute_result"
    }
   ],
   "source": [
    "# Take a look at the full dataframe.\n",
    "genre_df"
   ]
  },
  {
   "cell_type": "code",
   "execution_count": 310,
   "metadata": {
    "ExecuteTime": {
     "end_time": "2022-08-17T14:54:08.701756Z",
     "start_time": "2022-08-17T14:54:08.698785Z"
    }
   },
   "outputs": [],
   "source": [
    "# Flatten column names\n",
    "genre_df.columns = genre_df.columns.get_level_values(1) + '_' + genre_df.columns.get_level_values(0)"
   ]
  },
  {
   "cell_type": "code",
   "execution_count": 312,
   "metadata": {
    "ExecuteTime": {
     "end_time": "2022-08-17T14:54:09.973151Z",
     "start_time": "2022-08-17T14:54:09.969259Z"
    }
   },
   "outputs": [],
   "source": [
    "#  Change the name of the movie_id column, which was used to count the number of movies in the genre\n",
    "genre_df.columns = ['mean_numvotes', 'median_numvotes', 'mean_production_budget',\n",
    "       'median_production_budget', 'mean_domestic_gross',\n",
    "       'median_domestic_gross', 'mean_worldwide_gross',\n",
    "       'median_worldwide_gross', 'mean_profit_ratio', 'median_profit_ratio',\n",
    "       'mean_net_profit', 'median_net_profit', 'mean_genre_amount',\n",
    "       'movie_count'];\n",
    "# Remove genres with really low samples (< 30 movies)\n",
    "genre_df = genre_df[(genre_df.movie_count >= 10)].copy()"
   ]
  },
  {
   "cell_type": "code",
   "execution_count": 313,
   "metadata": {
    "ExecuteTime": {
     "end_time": "2022-08-17T14:54:10.609698Z",
     "start_time": "2022-08-17T14:54:10.607028Z"
    }
   },
   "outputs": [],
   "source": [
    "# Divide columns by 1000000 to easily display values in millions\n",
    "genre_df['mean_net_profit'] = genre_df['mean_net_profit'] / 1000000\n",
    "genre_df['median_net_profit'] = genre_df['median_net_profit'] / 1000000"
   ]
  },
  {
   "cell_type": "markdown",
   "metadata": {},
   "source": [
    "Alright, now that we've created the genre_df of movies grouped by genre, we can start graphing! First, we can make a box and whiskers plot to see how our data is distributed, to check the number of outliers."
   ]
  },
  {
   "cell_type": "code",
   "execution_count": 314,
   "metadata": {
    "ExecuteTime": {
     "end_time": "2022-08-17T14:54:11.239510Z",
     "start_time": "2022-08-17T14:54:11.236444Z"
    }
   },
   "outputs": [],
   "source": [
    "# Set up styling for graphs\n",
    "sns.set_theme()\n",
    "sns.set_style('darkgrid')"
   ]
  },
  {
   "cell_type": "code",
   "execution_count": 408,
   "metadata": {
    "ExecuteTime": {
     "end_time": "2022-08-17T16:05:50.617940Z",
     "start_time": "2022-08-17T16:05:50.520605Z"
    }
   },
   "outputs": [
    {
     "data": {
      "image/png": "[encoded data removed]",
      "text/plain": [
       "<Figure size 288x360 with 1 Axes>"
      ]
     },
     "metadata": {},
     "output_type": "display_data"
    }
   ],
   "source": [
    "# Create a box and whiskers plot of median profit, to see what the distribution of values looks like\n",
    "fig, ax = plt.subplots(figsize=(4,5))\n",
    "millions_df = imdb_tn_split_df[['genres_separated', 'net_profit']].copy()\n",
    "millions_df.net_profit = millions_df.net_profit / 1000000\n",
    "millions_df.columns = ['genres_separated', 'Movies']\n",
    "millions_df\\\n",
    ".boxplot(column='Movies', ax=ax)\n",
    "ax.set(title='Distribution of Net Profit per movie, All Genres',\\\n",
    "       ylabel='Net Profit (Million $)');\n"
   ]
  },
  {
   "cell_type": "markdown",
   "metadata": {},
   "source": [
    "Seems like there are lots of outliers! For our genre graphs we can use the median to mitigate the effect of the outliers."
   ]
  },
  {
   "cell_type": "markdown",
   "metadata": {},
   "source": [
    "Lets take a look at a graph of net profit, to see which types of movies create the most profit!"
   ]
  },
  {
   "cell_type": "code",
   "execution_count": 272,
   "metadata": {
    "ExecuteTime": {
     "end_time": "2022-08-17T14:28:12.679688Z",
     "start_time": "2022-08-17T14:28:12.428464Z"
    },
    "scrolled": false
   },
   "outputs": [
    {
     "data": {
      "image/png": "[encoded data removed]",
      "text/plain": [
       "<Figure size 1440x360 with 1 Axes>"
      ]
     },
     "metadata": {},
     "output_type": "display_data"
    }
   ],
   "source": [
    "# Graph of how much profit a movie in each genre made, by median value\n",
    "fig, ax = plt.subplots(figsize=(20,5))\n",
    "genre_df = genre_df.sort_values('median_net_profit')\n",
    "net_profit = genre_df.median_net_profit\n",
    "net_profit.plot.bar(ax=ax, color=\\\n",
    "     [\"lightcyan\" if (x < net_profit.quantile(.3)) \\\n",
    "      else 'powderblue' if (x < net_profit.quantile(.6))\n",
    "      else 'lightskyblue' if (x < net_profit.quantile(.8))\n",
    "      else 'cornflowerblue' if (x < net_profit.quantile(.9))\n",
    "      else 'mediumblue' if (x < net_profit.quantile(.95))\n",
    "      else 'navy' for x in net_profit]);\n",
    "ax.set(title='Median Net Profit By Genre', xlabel='Genre', ylabel='Profit (Million $)');"
   ]
  },
  {
   "cell_type": "markdown",
   "metadata": {},
   "source": [
    "Seems like Animation, Adventure, and Sci-Fi made the most profit-wise. However, Animation studios are radically different from other animation studios, and have a high barrier to entry. So we can focus on the next 3 highest genres, Adventure, Sci-Fi, and Action."
   ]
  },
  {
   "cell_type": "code",
   "execution_count": 413,
   "metadata": {
    "ExecuteTime": {
     "end_time": "2022-08-17T16:08:41.809875Z",
     "start_time": "2022-08-17T16:08:41.574457Z"
    }
   },
   "outputs": [
    {
     "data": {
      "image/png": "[encoded data removed]",
      "text/plain": [
       "<Figure size 1440x360 with 1 Axes>"
      ]
     },
     "metadata": {},
     "output_type": "display_data"
    }
   ],
   "source": [
    "# Graph of how much profit a movie in each genre made, by median value, without \n",
    "# animation\n",
    "fig, ax = plt.subplots(figsize=(20,5))\n",
    "genre_df = genre_df.sort_values('median_net_profit')\n",
    "net_profit = genre_df[genre_df.index != 'Animation'].median_net_profit\n",
    "net_profit.plot.bar(ax=ax, color=\\\n",
    "     [\"lightcyan\" if (x < net_profit.quantile(.3)) \\\n",
    "      else 'powderblue' if (x < net_profit.quantile(.6))\n",
    "      else 'lightskyblue' if (x < net_profit.quantile(.8))\n",
    "      else 'cornflowerblue' if (x < net_profit.quantile(.9))\n",
    "      else 'mediumblue' if (x < net_profit.quantile(.95))\n",
    "      else 'navy' for x in net_profit]);\n",
    "ax.set(title='Median Net Profit By Genre Without Animation', xlabel='Genre', ylabel='Profit (Million $)');"
   ]
  },
  {
   "cell_type": "markdown",
   "metadata": {},
   "source": [
    "Let's quickly take a look at budgets, to see if our selected genres cost too much money to make."
   ]
  },
  {
   "cell_type": "code",
   "execution_count": 364,
   "metadata": {
    "ExecuteTime": {
     "end_time": "2022-08-17T15:55:28.187439Z",
     "start_time": "2022-08-17T15:55:27.980462Z"
    },
    "scrolled": true
   },
   "outputs": [
    {
     "data": {
      "image/png": "[encoded data removed]",
      "text/plain": [
       "<Figure size 1440x360 with 1 Axes>"
      ]
     },
     "metadata": {},
     "output_type": "display_data"
    }
   ],
   "source": [
    "# Graph of how much a movie in each genre cost by median value\n",
    "fig, ax = plt.subplots(figsize=(20,5))\n",
    "genre_df = genre_df.sort_values('median_production_budget')\n",
    "genre_df.median_production_budget.plot.bar(ax=ax, color=\\\n",
    "     [\"navy\" if (x == 'Action' or x == 'Sci-Fi' or x == 'Adventure' ) \\\n",
    "      else 'lightsteelblue' for x in genre_df.index]);"
   ]
  },
  {
   "cell_type": "markdown",
   "metadata": {},
   "source": [
    "Hmm, seems like our categories are pretty expensive! They are all in the top 5 of most expensive movies to make! Should we really be choosing these genres? Let's look at the profit ratio to definitively decide if this is a good use of our money."
   ]
  },
  {
   "cell_type": "code",
   "execution_count": 341,
   "metadata": {
    "ExecuteTime": {
     "end_time": "2022-08-17T15:35:47.013672Z",
     "start_time": "2022-08-17T15:35:46.786092Z"
    },
    "scrolled": false
   },
   "outputs": [
    {
     "data": {
      "image/png": "[encoded data removed]",
      "text/plain": [
       "<Figure size 1440x360 with 1 Axes>"
      ]
     },
     "metadata": {},
     "output_type": "display_data"
    }
   ],
   "source": [
    "fig, ax = plt.subplots(figsize=(20,5))\n",
    "genre_df = genre_df.sort_values('median_profit_ratio')\n",
    "genre_df.median_profit_ratio.plot.bar(ax=ax, color=\\\n",
    "     [\"navy\" if (x == 'Action' or x == 'Sci-Fi' or x == 'Adventure' ) \\\n",
    "      else 'lightsteelblue' for x in genre_df.index]);\n",
    "ax.set(title='Median Profit Ratio by Genre', xlabel='Genre', ylabel='Profit Ratio (Net Profit / Production Budget)');"
   ]
  },
  {
   "cell_type": "markdown",
   "metadata": {},
   "source": [
    "Looks like they aren't so bad! All 3 categories are in the top third by profit ratio, meaning that they shouldn't be money-sinks. Now, we can be more confident that our Adventure, Sci-Fi, or Action movie has a high liklihood of generating money!"
   ]
  },
  {
   "cell_type": "markdown",
   "metadata": {},
   "source": [
    "# Andrew Yang"
   ]
  },
  {
   "cell_type": "code",
   "execution_count": null,
   "metadata": {},
   "outputs": [],
   "source": []
  }
 ],
 "metadata": {
  "kernelspec": {
   "display_name": "Python 3",
   "language": "python",
   "name": "python3"
  },
  "language_info": {
   "codemirror_mode": {
    "name": "ipython",
    "version": 3
   },
   "file_extension": ".py",
   "mimetype": "text/x-python",
   "name": "python",
   "nbconvert_exporter": "python",
   "pygments_lexer": "ipython3",
   "version": "3.8.5"
  },
  "toc": {
   "base_numbering": 1,
   "nav_menu": {},
   "number_sections": true,
   "sideBar": true,
   "skip_h1_title": false,
   "title_cell": "Table of Contents",
   "title_sidebar": "Contents",
   "toc_cell": false,
   "toc_position": {
    "height": "calc(100% - 180px)",
    "left": "10px",
    "top": "150px",
    "width": "250px"
   },
   "toc_section_display": true,
   "toc_window_display": true
  },
  "varInspector": {
   "cols": {
    "lenName": 16,
    "lenType": 16,
    "lenVar": 40
   },
   "kernels_config": {
    "python": {
     "delete_cmd_postfix": "",
     "delete_cmd_prefix": "del ",
     "library": "var_list.py",
     "varRefreshCmd": "print(var_dic_list())"
    },
    "r": {
     "delete_cmd_postfix": ") ",
     "delete_cmd_prefix": "rm(",
     "library": "var_list.r",
     "varRefreshCmd": "cat(var_dic_list()) "
    }
   },
   "types_to_exclude": [
    "module",
    "function",
    "builtin_function_or_method",
    "instance",
    "_Feature"
   ],
   "window_display": false
  }
 },
 "nbformat": 4,
 "nbformat_minor": 2
}
